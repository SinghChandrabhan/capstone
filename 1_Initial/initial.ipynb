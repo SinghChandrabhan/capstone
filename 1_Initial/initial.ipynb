{
 "cells": [
  {
   "cell_type": "markdown",
   "id": "bd9964cd-9896-4559-b257-8b5d98327e66",
   "metadata": {},
   "source": [
    "# Initial SubTasks"
   ]
  },
  {
   "cell_type": "markdown",
   "id": "41fef68f-a5a8-4fdf-9886-290c9ddcf204",
   "metadata": {},
   "source": [
    "## Reading data"
   ]
  },
  {
   "cell_type": "code",
   "execution_count": 1,
   "id": "2c1185d3-8155-4866-8b1d-e7aec88a3a5a",
   "metadata": {},
   "outputs": [],
   "source": [
    "# import required libraries\n",
    "import pandas as pd\n",
    "import numpy as np"
   ]
  },
  {
   "cell_type": "code",
   "execution_count": 2,
   "id": "c1519d98-4a8f-4b40-b724-e209312d54bc",
   "metadata": {},
   "outputs": [
    {
     "name": "stderr",
     "output_type": "stream",
     "text": [
      "C:\\Users\\akshay.a\\Anaconda3\\lib\\site-packages\\IPython\\core\\interactiveshell.py:3444: DtypeWarning: Columns (4,6,7) have mixed types.Specify dtype option on import or set low_memory=False.\n",
      "  exec(code_obj, self.user_global_ns, self.user_ns)\n"
     ]
    }
   ],
   "source": [
    "#read event and non event data\n",
    "event_columns =['device_id','gender','age','group','event_id','timestamp','longitude','latitude']\n",
    "non_event_columns =['device_id','gender','age','group','phone_brand','device_model']\n",
    "\n",
    "#load data from S3\n",
    "df_event = pd.read_csv('https://upgradcapstone.s3.amazonaws.com/event-data/event_data.csv', header=None, names=event_columns)\n",
    "#load data from S3\n",
    "df_non_event = pd.read_csv('https://upgradcapstone.s3.amazonaws.com/non-event-data/non_event_data.csv', header=None, names=non_event_columns)\n",
    "\n",
    "#read app data\n",
    "\n",
    "df_labels =  pd.read_csv('https://upgradcapstone.s3.amazonaws.com/app-data/app_labels.csv')\n",
    "df_label_cat =  pd.read_csv('https://upgradcapstone.s3.amazonaws.com/app-data/label_categories.csv')\n",
    "df_app_events = pd.read_csv('https://upgradcapstone.s3.amazonaws.com/app-data/app_events.csv')\n",
    "\n",
    "#df_app = pd.read_csv('app_data.csv')"
   ]
  },
  {
   "cell_type": "code",
   "execution_count": 3,
   "id": "6184060b-8125-4b72-b794-db1340614710",
   "metadata": {
    "tags": []
   },
   "outputs": [
    {
     "data": {
      "text/html": [
       "<div>\n",
       "<style scoped>\n",
       "    .dataframe tbody tr th:only-of-type {\n",
       "        vertical-align: middle;\n",
       "    }\n",
       "\n",
       "    .dataframe tbody tr th {\n",
       "        vertical-align: top;\n",
       "    }\n",
       "\n",
       "    .dataframe thead th {\n",
       "        text-align: right;\n",
       "    }\n",
       "</style>\n",
       "<table border=\"1\" class=\"dataframe\">\n",
       "  <thead>\n",
       "    <tr style=\"text-align: right;\">\n",
       "      <th></th>\n",
       "      <th>device_id</th>\n",
       "      <th>gender</th>\n",
       "      <th>age</th>\n",
       "      <th>group</th>\n",
       "      <th>event_id</th>\n",
       "      <th>timestamp</th>\n",
       "      <th>longitude</th>\n",
       "      <th>latitude</th>\n",
       "    </tr>\n",
       "  </thead>\n",
       "  <tbody>\n",
       "    <tr>\n",
       "      <th>0</th>\n",
       "      <td>-7548291590301750000</td>\n",
       "      <td>M</td>\n",
       "      <td>33</td>\n",
       "      <td>M32+</td>\n",
       "      <td>414</td>\n",
       "      <td>2016-05-03 00:05:31</td>\n",
       "      <td>116.79</td>\n",
       "      <td>33.98</td>\n",
       "    </tr>\n",
       "    <tr>\n",
       "      <th>1</th>\n",
       "      <td>-7548291590301750000</td>\n",
       "      <td>M</td>\n",
       "      <td>33</td>\n",
       "      <td>M32+</td>\n",
       "      <td>2604805</td>\n",
       "      <td>2016-05-04 03:01:32</td>\n",
       "      <td>116.79</td>\n",
       "      <td>33.98</td>\n",
       "    </tr>\n",
       "  </tbody>\n",
       "</table>\n",
       "</div>"
      ],
      "text/plain": [
       "             device_id gender  age group event_id            timestamp  \\\n",
       "0 -7548291590301750000      M   33  M32+      414  2016-05-03 00:05:31   \n",
       "1 -7548291590301750000      M   33  M32+  2604805  2016-05-04 03:01:32   \n",
       "\n",
       "  longitude latitude  \n",
       "0    116.79    33.98  \n",
       "1    116.79    33.98  "
      ]
     },
     "execution_count": 3,
     "metadata": {},
     "output_type": "execute_result"
    }
   ],
   "source": [
    "#check dataframes for sanity\n",
    "df_event.head(2)"
   ]
  },
  {
   "cell_type": "code",
   "execution_count": 4,
   "id": "351a79e7-398f-4954-8a1a-7900459aa828",
   "metadata": {
    "tags": []
   },
   "outputs": [
    {
     "data": {
      "text/html": [
       "<div>\n",
       "<style scoped>\n",
       "    .dataframe tbody tr th:only-of-type {\n",
       "        vertical-align: middle;\n",
       "    }\n",
       "\n",
       "    .dataframe tbody tr th {\n",
       "        vertical-align: top;\n",
       "    }\n",
       "\n",
       "    .dataframe thead th {\n",
       "        text-align: right;\n",
       "    }\n",
       "</style>\n",
       "<table border=\"1\" class=\"dataframe\">\n",
       "  <thead>\n",
       "    <tr style=\"text-align: right;\">\n",
       "      <th></th>\n",
       "      <th>device_id</th>\n",
       "      <th>gender</th>\n",
       "      <th>age</th>\n",
       "      <th>group</th>\n",
       "      <th>phone_brand</th>\n",
       "      <th>device_model</th>\n",
       "    </tr>\n",
       "  </thead>\n",
       "  <tbody>\n",
       "    <tr>\n",
       "      <th>0</th>\n",
       "      <td>-7548291590301750000</td>\n",
       "      <td>M</td>\n",
       "      <td>33</td>\n",
       "      <td>M32+</td>\n",
       "      <td>Huawei</td>\n",
       "      <td>è£è€€3C</td>\n",
       "    </tr>\n",
       "    <tr>\n",
       "      <th>1</th>\n",
       "      <td>6943568600617760000</td>\n",
       "      <td>M</td>\n",
       "      <td>37</td>\n",
       "      <td>M32+</td>\n",
       "      <td>Xiaomi</td>\n",
       "      <td>xnote</td>\n",
       "    </tr>\n",
       "  </tbody>\n",
       "</table>\n",
       "</div>"
      ],
      "text/plain": [
       "             device_id gender  age group phone_brand device_model\n",
       "0 -7548291590301750000      M   33  M32+      Huawei     è£è€€3C\n",
       "1  6943568600617760000      M   37  M32+      Xiaomi        xnote"
      ]
     },
     "execution_count": 4,
     "metadata": {},
     "output_type": "execute_result"
    }
   ],
   "source": [
    "df_non_event.head(2)"
   ]
  },
  {
   "cell_type": "code",
   "execution_count": 5,
   "id": "40667070-f64f-43f0-8589-aa6f32dce9ea",
   "metadata": {
    "scrolled": true
   },
   "outputs": [
    {
     "data": {
      "text/html": [
       "<div>\n",
       "<style scoped>\n",
       "    .dataframe tbody tr th:only-of-type {\n",
       "        vertical-align: middle;\n",
       "    }\n",
       "\n",
       "    .dataframe tbody tr th {\n",
       "        vertical-align: top;\n",
       "    }\n",
       "\n",
       "    .dataframe thead th {\n",
       "        text-align: right;\n",
       "    }\n",
       "</style>\n",
       "<table border=\"1\" class=\"dataframe\">\n",
       "  <thead>\n",
       "    <tr style=\"text-align: right;\">\n",
       "      <th></th>\n",
       "      <th>event_id</th>\n",
       "      <th>app_id</th>\n",
       "      <th>is_installed</th>\n",
       "      <th>is_active</th>\n",
       "    </tr>\n",
       "  </thead>\n",
       "  <tbody>\n",
       "    <tr>\n",
       "      <th>0</th>\n",
       "      <td>2</td>\n",
       "      <td>5927333115845830913</td>\n",
       "      <td>1</td>\n",
       "      <td>1</td>\n",
       "    </tr>\n",
       "    <tr>\n",
       "      <th>1</th>\n",
       "      <td>2</td>\n",
       "      <td>-5720078949152207372</td>\n",
       "      <td>1</td>\n",
       "      <td>0</td>\n",
       "    </tr>\n",
       "  </tbody>\n",
       "</table>\n",
       "</div>"
      ],
      "text/plain": [
       "   event_id               app_id  is_installed  is_active\n",
       "0         2  5927333115845830913             1          1\n",
       "1         2 -5720078949152207372             1          0"
      ]
     },
     "execution_count": 5,
     "metadata": {},
     "output_type": "execute_result"
    }
   ],
   "source": [
    "df_app_events.head(2)"
   ]
  },
  {
   "cell_type": "code",
   "execution_count": 6,
   "id": "67153247",
   "metadata": {},
   "outputs": [
    {
     "data": {
      "text/html": [
       "<div>\n",
       "<style scoped>\n",
       "    .dataframe tbody tr th:only-of-type {\n",
       "        vertical-align: middle;\n",
       "    }\n",
       "\n",
       "    .dataframe tbody tr th {\n",
       "        vertical-align: top;\n",
       "    }\n",
       "\n",
       "    .dataframe thead th {\n",
       "        text-align: right;\n",
       "    }\n",
       "</style>\n",
       "<table border=\"1\" class=\"dataframe\">\n",
       "  <thead>\n",
       "    <tr style=\"text-align: right;\">\n",
       "      <th></th>\n",
       "      <th>app_id</th>\n",
       "      <th>label_id</th>\n",
       "    </tr>\n",
       "  </thead>\n",
       "  <tbody>\n",
       "    <tr>\n",
       "      <th>0</th>\n",
       "      <td>7324884708820027918</td>\n",
       "      <td>251</td>\n",
       "    </tr>\n",
       "    <tr>\n",
       "      <th>1</th>\n",
       "      <td>-4494216993218550286</td>\n",
       "      <td>251</td>\n",
       "    </tr>\n",
       "  </tbody>\n",
       "</table>\n",
       "</div>"
      ],
      "text/plain": [
       "                app_id  label_id\n",
       "0  7324884708820027918       251\n",
       "1 -4494216993218550286       251"
      ]
     },
     "execution_count": 6,
     "metadata": {},
     "output_type": "execute_result"
    }
   ],
   "source": [
    "df_labels.head(2)"
   ]
  },
  {
   "cell_type": "code",
   "execution_count": 7,
   "id": "3770250e",
   "metadata": {},
   "outputs": [
    {
     "data": {
      "text/html": [
       "<div>\n",
       "<style scoped>\n",
       "    .dataframe tbody tr th:only-of-type {\n",
       "        vertical-align: middle;\n",
       "    }\n",
       "\n",
       "    .dataframe tbody tr th {\n",
       "        vertical-align: top;\n",
       "    }\n",
       "\n",
       "    .dataframe thead th {\n",
       "        text-align: right;\n",
       "    }\n",
       "</style>\n",
       "<table border=\"1\" class=\"dataframe\">\n",
       "  <thead>\n",
       "    <tr style=\"text-align: right;\">\n",
       "      <th></th>\n",
       "      <th>label_id</th>\n",
       "      <th>category</th>\n",
       "    </tr>\n",
       "  </thead>\n",
       "  <tbody>\n",
       "    <tr>\n",
       "      <th>0</th>\n",
       "      <td>1</td>\n",
       "      <td>NaN</td>\n",
       "    </tr>\n",
       "    <tr>\n",
       "      <th>1</th>\n",
       "      <td>2</td>\n",
       "      <td>game-game type</td>\n",
       "    </tr>\n",
       "  </tbody>\n",
       "</table>\n",
       "</div>"
      ],
      "text/plain": [
       "   label_id        category\n",
       "0         1             NaN\n",
       "1         2  game-game type"
      ]
     },
     "execution_count": 7,
     "metadata": {},
     "output_type": "execute_result"
    }
   ],
   "source": [
    "df_label_cat.head(2)"
   ]
  },
  {
   "cell_type": "code",
   "execution_count": 8,
   "id": "5595919f-9b37-4a84-8f85-1487e5df37e9",
   "metadata": {},
   "outputs": [
    {
     "data": {
      "text/plain": [
       "(32473067, 1266933, 74840)"
      ]
     },
     "execution_count": 8,
     "metadata": {},
     "output_type": "execute_result"
    }
   ],
   "source": [
    "df_app_events.event_id.count(), df_event.device_id.count(), df_non_event.device_id.count() #(32473067, 1266933, 74840)"
   ]
  },
  {
   "cell_type": "code",
   "execution_count": null,
   "id": "1648a01e-2992-404b-aa97-b0f9ef531bba",
   "metadata": {},
   "outputs": [],
   "source": []
  },
  {
   "cell_type": "markdown",
   "id": "fd7ace58-5f95-4e48-9d2b-7d2af83dff7a",
   "metadata": {},
   "source": [
    "## Cleaning data"
   ]
  },
  {
   "cell_type": "markdown",
   "id": "d32114a0-3bb5-4af9-ae2c-cc5059d19497",
   "metadata": {},
   "source": [
    "### Clean event data"
   ]
  },
  {
   "cell_type": "code",
   "execution_count": 9,
   "id": "6ab156a1-75bf-4022-b7a5-d85a26b01d97",
   "metadata": {},
   "outputs": [
    {
     "data": {
      "text/plain": [
       "device_id     int64\n",
       "gender       object\n",
       "age           int64\n",
       "group        object\n",
       "event_id     object\n",
       "timestamp    object\n",
       "longitude    object\n",
       "latitude     object\n",
       "dtype: object"
      ]
     },
     "execution_count": 9,
     "metadata": {},
     "output_type": "execute_result"
    }
   ],
   "source": [
    "df_event.dtypes"
   ]
  },
  {
   "cell_type": "code",
   "execution_count": 10,
   "id": "a5871c03-df77-45cd-bc1b-14071b572db0",
   "metadata": {},
   "outputs": [],
   "source": [
    "#replace invalid chars with a None\n",
    "df_event = df_event.replace({\"\\\\N\": None})"
   ]
  },
  {
   "cell_type": "code",
   "execution_count": 11,
   "id": "b698c3b6-a529-4877-91aa-884e9ad0a97b",
   "metadata": {},
   "outputs": [],
   "source": [
    "# correct data types\n",
    "df_event.timestamp = pd.to_datetime(df_event.timestamp)\n",
    "df_event.event_id = pd.to_numeric(df_event.event_id, errors='coerce')\n",
    "df_event.longitude = pd.to_numeric(df_event.longitude, errors='coerce')\n",
    "df_event.latitude  = pd.to_numeric(df_event.latitude, errors='coerce')"
   ]
  },
  {
   "cell_type": "code",
   "execution_count": 12,
   "id": "274a7288-0d7d-494b-8558-3eb589f06f97",
   "metadata": {},
   "outputs": [],
   "source": [
    "df_event = df_event.dropna()"
   ]
  },
  {
   "cell_type": "code",
   "execution_count": 13,
   "id": "f0e01bc7-50d6-4f57-81d5-20e7abb0ab31",
   "metadata": {},
   "outputs": [
    {
     "data": {
      "text/plain": [
       "1215598"
      ]
     },
     "execution_count": 13,
     "metadata": {},
     "output_type": "execute_result"
    }
   ],
   "source": [
    "df_event.device_id.count() #829966"
   ]
  },
  {
   "cell_type": "markdown",
   "id": "88953e00-6a8f-4101-b1b9-d2552d0b1d84",
   "metadata": {},
   "source": [
    "### Clean non event data\n"
   ]
  },
  {
   "cell_type": "code",
   "execution_count": 14,
   "id": "4431e247-673f-4d43-adb5-a87dce41ecb3",
   "metadata": {},
   "outputs": [
    {
     "data": {
      "text/plain": [
       "device_id       74840\n",
       "gender          74840\n",
       "age             74840\n",
       "group           74840\n",
       "phone_brand     74840\n",
       "device_model    74840\n",
       "dtype: int64"
      ]
     },
     "execution_count": 14,
     "metadata": {},
     "output_type": "execute_result"
    }
   ],
   "source": [
    "df_non_event.count()"
   ]
  },
  {
   "cell_type": "code",
   "execution_count": 15,
   "id": "0f10310a-c258-436d-9942-2a5c3a349cfb",
   "metadata": {},
   "outputs": [
    {
     "data": {
      "text/plain": [
       "(74645, 74840)"
      ]
     },
     "execution_count": 15,
     "metadata": {},
     "output_type": "execute_result"
    }
   ],
   "source": [
    "#check for duplicate data\n",
    "df_non_event.device_id.nunique(), df_non_event.shape[0]"
   ]
  },
  {
   "cell_type": "markdown",
   "id": "9143eb6b-da11-4a77-a97c-7af9d63decaa",
   "metadata": {},
   "source": [
    "There are some duplicates in device_id column, lets drop them"
   ]
  },
  {
   "cell_type": "code",
   "execution_count": 16,
   "id": "5742588b-cbab-407e-b6c4-b07ab0c330c5",
   "metadata": {},
   "outputs": [],
   "source": [
    "#drop duplicate device_id\n",
    "df_non_event.drop_duplicates(subset='device_id', inplace=True)"
   ]
  },
  {
   "cell_type": "code",
   "execution_count": 17,
   "id": "776dae36-9925-413a-91ed-c2fb889057a3",
   "metadata": {},
   "outputs": [
    {
     "data": {
      "text/html": [
       "<div>\n",
       "<style scoped>\n",
       "    .dataframe tbody tr th:only-of-type {\n",
       "        vertical-align: middle;\n",
       "    }\n",
       "\n",
       "    .dataframe tbody tr th {\n",
       "        vertical-align: top;\n",
       "    }\n",
       "\n",
       "    .dataframe thead th {\n",
       "        text-align: right;\n",
       "    }\n",
       "</style>\n",
       "<table border=\"1\" class=\"dataframe\">\n",
       "  <thead>\n",
       "    <tr style=\"text-align: right;\">\n",
       "      <th></th>\n",
       "      <th>device_id</th>\n",
       "      <th>age</th>\n",
       "    </tr>\n",
       "  </thead>\n",
       "  <tbody>\n",
       "    <tr>\n",
       "      <th>count</th>\n",
       "      <td>7.464500e+04</td>\n",
       "      <td>74645.000000</td>\n",
       "    </tr>\n",
       "    <tr>\n",
       "      <th>mean</th>\n",
       "      <td>-7.491354e+14</td>\n",
       "      <td>31.410342</td>\n",
       "    </tr>\n",
       "    <tr>\n",
       "      <th>std</th>\n",
       "      <td>5.327150e+18</td>\n",
       "      <td>9.868735</td>\n",
       "    </tr>\n",
       "    <tr>\n",
       "      <th>min</th>\n",
       "      <td>-9.223067e+18</td>\n",
       "      <td>1.000000</td>\n",
       "    </tr>\n",
       "    <tr>\n",
       "      <th>25%</th>\n",
       "      <td>-4.617367e+18</td>\n",
       "      <td>25.000000</td>\n",
       "    </tr>\n",
       "    <tr>\n",
       "      <th>50%</th>\n",
       "      <td>-1.841362e+16</td>\n",
       "      <td>29.000000</td>\n",
       "    </tr>\n",
       "    <tr>\n",
       "      <th>75%</th>\n",
       "      <td>4.636656e+18</td>\n",
       "      <td>36.000000</td>\n",
       "    </tr>\n",
       "    <tr>\n",
       "      <th>max</th>\n",
       "      <td>9.222849e+18</td>\n",
       "      <td>96.000000</td>\n",
       "    </tr>\n",
       "  </tbody>\n",
       "</table>\n",
       "</div>"
      ],
      "text/plain": [
       "          device_id           age\n",
       "count  7.464500e+04  74645.000000\n",
       "mean  -7.491354e+14     31.410342\n",
       "std    5.327150e+18      9.868735\n",
       "min   -9.223067e+18      1.000000\n",
       "25%   -4.617367e+18     25.000000\n",
       "50%   -1.841362e+16     29.000000\n",
       "75%    4.636656e+18     36.000000\n",
       "max    9.222849e+18     96.000000"
      ]
     },
     "execution_count": 17,
     "metadata": {},
     "output_type": "execute_result"
    }
   ],
   "source": [
    "df_non_event.describe()"
   ]
  },
  {
   "cell_type": "code",
   "execution_count": null,
   "id": "ce967afd-1766-40b6-8efe-374238a9f7b3",
   "metadata": {},
   "outputs": [],
   "source": []
  },
  {
   "cell_type": "markdown",
   "id": "d0b987b0-49f7-42ba-867f-0d6e9e06fb08",
   "metadata": {},
   "source": [
    "##  EDA and Visualisations"
   ]
  },
  {
   "cell_type": "markdown",
   "id": "993e8066-856d-4c45-9e7e-56b66124d8c1",
   "metadata": {},
   "source": [
    "### 1.Plot appropriate graphs representing the distribution of age and gender in the data set [univariate]."
   ]
  },
  {
   "cell_type": "code",
   "execution_count": 18,
   "id": "aab9349a-fc66-4b30-9a82-11fd82389288",
   "metadata": {},
   "outputs": [],
   "source": [
    "# import visualisation libraries\n",
    "import matplotlib.pyplot as plt\n",
    "import seaborn as sns"
   ]
  },
  {
   "cell_type": "code",
   "execution_count": 19,
   "id": "68b92dd7-1e66-40cf-b594-579b53c12d2f",
   "metadata": {},
   "outputs": [
    {
     "data": {
      "image/png": "[encoded data removed]",
      "text/plain": [
       "<Figure size 360x360 with 1 Axes>"
      ]
     },
     "metadata": {
      "needs_background": "light"
     },
     "output_type": "display_data"
    }
   ],
   "source": [
    "#plot the graph from non_event_data dataset\n",
    "sns.displot(df_non_event.age, kde=True, bins = 10)\n",
    "plt.title('Age distribution')\n",
    "plt.xlabel(\"Age\")\n",
    "plt.show()"
   ]
  },
  {
   "cell_type": "code",
   "execution_count": null,
   "id": "983fa422-56f4-476f-896e-77d12adde46b",
   "metadata": {},
   "outputs": [],
   "source": []
  },
  {
   "cell_type": "markdown",
   "id": "f770357f-8cd6-4607-a587-02b05cc3ea5e",
   "metadata": {},
   "source": [
    "Observation: With the plot above we can infer that the age is imbalanced and the majority of users are in their late 20s or early 30s"
   ]
  },
  {
   "cell_type": "code",
   "execution_count": 20,
   "id": "4be0052d-419b-48f2-b379-b834c6adfa58",
   "metadata": {},
   "outputs": [
    {
     "data": {
      "image/png": "[encoded data removed]",
      "text/plain": [
       "<Figure size 432x288 with 1 Axes>"
      ]
     },
     "metadata": {},
     "output_type": "display_data"
    }
   ],
   "source": [
    "sns.set_theme(style=\"whitegrid\")\n",
    "sns.barplot(x=df_non_event.gender.value_counts().index, y=df_non_event.gender.value_counts().values)\n",
    "plt.title('Gender distribution')\n",
    "plt.show()\n"
   ]
  },
  {
   "cell_type": "code",
   "execution_count": null,
   "id": "76da7c46-47e9-4f0e-9d0a-c755b6cb6475",
   "metadata": {},
   "outputs": [],
   "source": []
  },
  {
   "cell_type": "markdown",
   "id": "600e2975-5d72-4989-b90f-930c26e1783f",
   "metadata": {},
   "source": [
    "Observation : Here we can see that tha gender is also not balanced. Male possess more phones than woman"
   ]
  },
  {
   "cell_type": "markdown",
   "id": "4ed742bd-85de-42ee-8899-6dcfde17b195",
   "metadata": {},
   "source": [
    "### 2. Boxplot analysis for gender and age [bivariate]."
   ]
  },
  {
   "cell_type": "code",
   "execution_count": 21,
   "id": "3d96cb55-446e-4295-840b-8c9a8b5af27a",
   "metadata": {},
   "outputs": [
    {
     "data": {
      "image/png": "[encoded data removed]",
      "text/plain": [
       "<Figure size 432x288 with 1 Axes>"
      ]
     },
     "metadata": {},
     "output_type": "display_data"
    }
   ],
   "source": [
    "sns.boxplot(x=\"gender\", y=\"age\", hue =\"gender\", data= df_non_event)\n",
    "plt.title('Age vs Gender')\n",
    "plt.show()"
   ]
  },
  {
   "cell_type": "code",
   "execution_count": null,
   "id": "004756e1-db93-4617-954b-6065da24852b",
   "metadata": {},
   "outputs": [],
   "source": []
  },
  {
   "cell_type": "markdown",
   "id": "41f8921d-4fa8-4849-b8f5-6d483f75ea3d",
   "metadata": {},
   "source": [
    "Observation: When we look at the plot above we can see that the median age for male and female is almost same. We also are able to see much more outliers for male segment than female."
   ]
  },
  {
   "cell_type": "markdown",
   "id": "0527b606-d95d-444c-a665-2c0492eb6075",
   "metadata": {},
   "source": [
    "### 3.Plot the percentage of the device_ids with and without event data. "
   ]
  },
  {
   "cell_type": "code",
   "execution_count": 22,
   "id": "aa5b0b9b-2927-4588-a858-6abccf519686",
   "metadata": {},
   "outputs": [
    {
     "data": {
      "text/plain": [
       "device_id             int64\n",
       "gender               object\n",
       "age                   int64\n",
       "group                object\n",
       "event_id            float64\n",
       "timestamp    datetime64[ns]\n",
       "longitude           float64\n",
       "latitude            float64\n",
       "dtype: object"
      ]
     },
     "execution_count": 22,
     "metadata": {},
     "output_type": "execute_result"
    }
   ],
   "source": [
    "df_event.dtypes"
   ]
  },
  {
   "cell_type": "code",
   "execution_count": 23,
   "id": "cb570da3-b3a1-4f61-b8f6-0843af3ed38a",
   "metadata": {},
   "outputs": [],
   "source": [
    "df_event['has_event'] = np.where(df_event.event_id.isnull(), 0, 1)"
   ]
  },
  {
   "cell_type": "code",
   "execution_count": 24,
   "id": "73da3da5-a5c9-49eb-b56c-7dbe71e5e332",
   "metadata": {},
   "outputs": [
    {
     "data": {
      "text/plain": [
       "(1215598, 1215598)"
      ]
     },
     "execution_count": 24,
     "metadata": {},
     "output_type": "execute_result"
    }
   ],
   "source": [
    "df_event.event_id.count(),df_event.event_id.isnull().count()"
   ]
  },
  {
   "cell_type": "code",
   "execution_count": 25,
   "id": "9c967050-28b8-4437-909f-33852c062123",
   "metadata": {},
   "outputs": [
    {
     "data": {
      "image/png": "[encoded data removed]",
      "text/plain": [
       "<Figure size 432x288 with 1 Axes>"
      ]
     },
     "metadata": {},
     "output_type": "display_data"
    }
   ],
   "source": [
    "#df_event['has_event'].plot.pie()\n",
    "temp_device_per = df_event.groupby(\"has_event\")['has_event'].count() /df_event.has_event.count() *100 \n",
    "temp_device_per.plot.pie(autopct=\"%.1f%%\")\n",
    "plt.title('Percentage of the device_ids with and without event data')\n",
    "plt.show()"
   ]
  },
  {
   "cell_type": "code",
   "execution_count": null,
   "id": "a9d2df93-9df3-4c05-820a-a210e67f83a3",
   "metadata": {},
   "outputs": [],
   "source": []
  },
  {
   "cell_type": "markdown",
   "id": "4f5a5912-e515-4ccf-aee3-731a3189b296",
   "metadata": {},
   "source": [
    "Observation: We can see that the percentage of device id with event data is significantly high is this case."
   ]
  },
  {
   "cell_type": "markdown",
   "id": "b3e7a6b0-2d0f-4604-96b8-a324c68b7c4c",
   "metadata": {},
   "source": [
    "### 4. Plot a graph representing the distribution of events over different days of a week. "
   ]
  },
  {
   "cell_type": "code",
   "execution_count": 26,
   "id": "78ce13a6-0300-4fd6-bd13-ded0426b7b7c",
   "metadata": {},
   "outputs": [],
   "source": [
    "import  calendar"
   ]
  },
  {
   "cell_type": "code",
   "execution_count": 27,
   "id": "decbbab7-8ea9-4d95-bec9-a425b974fd82",
   "metadata": {},
   "outputs": [],
   "source": [
    "df_event['week_day'] = df_event.timestamp.dt.day_name()"
   ]
  },
  {
   "cell_type": "code",
   "execution_count": 28,
   "id": "a5a250e8-ee8e-41a2-bc99-b871e4dbb9dc",
   "metadata": {},
   "outputs": [
    {
     "data": {
      "image/png": "[encoded data removed]",
      "text/plain": [
       "<Figure size 432x288 with 1 Axes>"
      ]
     },
     "metadata": {},
     "output_type": "display_data"
    }
   ],
   "source": [
    "sns.countplot(data=df_event, x= 'week_day')\n",
    "plt.title('Days of week distribution')\n",
    "plt.xlabel('Days of Week')\n",
    "plt.show()"
   ]
  },
  {
   "cell_type": "code",
   "execution_count": null,
   "id": "9189d833-5046-4db4-9e1c-c16e5ba36a87",
   "metadata": {},
   "outputs": [],
   "source": []
  },
  {
   "cell_type": "markdown",
   "id": "ca1cff0a-4ab0-4192-aa15-8f1136215699",
   "metadata": {},
   "source": [
    "Observation: The number of events over weekend seems to have a little low count as compared to weekdays."
   ]
  },
  {
   "cell_type": "code",
   "execution_count": null,
   "id": "ff1fe5e1-95a7-40a6-9ab9-d4afe198a24c",
   "metadata": {},
   "outputs": [],
   "source": []
  },
  {
   "cell_type": "markdown",
   "id": "8e4440eb-cb83-4be2-bc35-0d451d613016",
   "metadata": {},
   "source": [
    "### 5. Plot a graph representing the distribution of events per hour [for one-week data]."
   ]
  },
  {
   "cell_type": "code",
   "execution_count": 29,
   "id": "a9678fca-1323-4a81-b62b-5fb4c0a2b9f6",
   "metadata": {},
   "outputs": [],
   "source": [
    "df_event['hour_day'] = df_event.timestamp.dt.hour\n",
    "df_event['week'] = df_event.timestamp.dt.isocalendar().week\n",
    "df_event['year'] = pd.to_numeric(df_event.timestamp.dt.year, downcast='signed')"
   ]
  },
  {
   "cell_type": "code",
   "execution_count": 30,
   "id": "fd50d1e3-0f5d-4098-ba40-7ed1ae4b7b8e",
   "metadata": {},
   "outputs": [
    {
     "data": {
      "image/png": "[encoded data removed]",
      "text/plain": [
       "<Figure size 432x288 with 1 Axes>"
      ]
     },
     "metadata": {},
     "output_type": "display_data"
    }
   ],
   "source": [
    "sns.countplot(data = df_event[(df_event.week == 18 ) & (df_event.year == 2016 ) ], x= 'hour_day')\n",
    "plt.title('Distribution for week - 18 of year 2016')\n",
    "plt.xlabel(\"Hours of day\")\n",
    "plt.ylabel(\"Event count\")\n",
    "plt.xticks(rotation=\"90\")\n",
    "plt.show()"
   ]
  },
  {
   "cell_type": "code",
   "execution_count": null,
   "id": "0629c4ae-33b6-43e4-a889-ca1b2226952d",
   "metadata": {},
   "outputs": [],
   "source": []
  },
  {
   "cell_type": "markdown",
   "id": "97a1e69f-de53-4cd6-a213-f3637a3b67b8",
   "metadata": {},
   "source": [
    "Observation: As we can see that the count of events are much higher near noon and during night time."
   ]
  },
  {
   "cell_type": "code",
   "execution_count": null,
   "id": "41641da1-fed5-4520-80c5-799b3b56112c",
   "metadata": {},
   "outputs": [],
   "source": []
  },
  {
   "cell_type": "markdown",
   "id": "b25cc2f5-2fbe-4d3e-9e98-8a115baa393b",
   "metadata": {},
   "source": [
    "### 6. The difference in the distribution of events per hour for Male and Female consumers. [Show the difference using an appropriate chart for one-week data.]"
   ]
  },
  {
   "cell_type": "code",
   "execution_count": 31,
   "id": "033f081c-5e59-41bc-8880-7216f8b7716a",
   "metadata": {},
   "outputs": [
    {
     "data": {
      "image/png": "[encoded data removed]",
      "text/plain": [
       "<Figure size 1440x432 with 1 Axes>"
      ]
     },
     "metadata": {},
     "output_type": "display_data"
    }
   ],
   "source": [
    "male_hour_count = df_event[df_event.gender == 'M'].groupby('hour_day')['hour_day'].count().values\n",
    "female_hour_count = df_event[df_event.gender == 'F'].groupby('hour_day')['hour_day'].count().values\n",
    "bars = np.arange(24) # a day has 24 hours\n",
    "width = 1\n",
    "plt.figure(figsize=(20,6))\n",
    "\n",
    "p1 = plt.bar(bars, male_hour_count, width, color=\"#5252ff\", label='Men')\n",
    "p2 = plt.bar(bars, female_hour_count, width, color=\"#ff42a1\", bottom=male_hour_count, label='Women')\n",
    "plt.ylabel('Event count')\n",
    "plt.xlabel('Hour of day')\n",
    "plt.legend()\n",
    "plt.show()\n",
    "\n"
   ]
  },
  {
   "cell_type": "code",
   "execution_count": null,
   "id": "52a4597c-373a-4820-859b-cebf0a103839",
   "metadata": {},
   "outputs": [],
   "source": []
  },
  {
   "cell_type": "markdown",
   "id": "3ae08b12-892d-429b-97f5-d3dd9ab0dbdd",
   "metadata": {},
   "source": [
    "Observation: Here we can see that Men are more active than Women, as Men have more events raised as compared to woman."
   ]
  },
  {
   "cell_type": "code",
   "execution_count": null,
   "id": "c84ba6d7-9096-4bd6-9c55-2584c8fb610c",
   "metadata": {},
   "outputs": [],
   "source": []
  },
  {
   "cell_type": "markdown",
   "id": "ab9dfde5-8787-4dfc-a36b-38b5ec84d75d",
   "metadata": {},
   "source": [
    "### 7. Is there any difference in the distribution of Events for different Age Groups over different days of the week? [Consider the following age groups: 0–24, 25–32, 33–45, and 46+]"
   ]
  },
  {
   "cell_type": "code",
   "execution_count": 32,
   "id": "86aba716-6805-4bcc-a498-d114eec68c65",
   "metadata": {
    "tags": []
   },
   "outputs": [
    {
     "data": {
      "text/html": [
       "<div>\n",
       "<style scoped>\n",
       "    .dataframe tbody tr th:only-of-type {\n",
       "        vertical-align: middle;\n",
       "    }\n",
       "\n",
       "    .dataframe tbody tr th {\n",
       "        vertical-align: top;\n",
       "    }\n",
       "\n",
       "    .dataframe thead th {\n",
       "        text-align: right;\n",
       "    }\n",
       "</style>\n",
       "<table border=\"1\" class=\"dataframe\">\n",
       "  <thead>\n",
       "    <tr style=\"text-align: right;\">\n",
       "      <th></th>\n",
       "      <th>device_id</th>\n",
       "      <th>gender</th>\n",
       "      <th>age</th>\n",
       "      <th>group</th>\n",
       "      <th>event_id</th>\n",
       "      <th>timestamp</th>\n",
       "      <th>longitude</th>\n",
       "      <th>latitude</th>\n",
       "      <th>has_event</th>\n",
       "      <th>week_day</th>\n",
       "      <th>hour_day</th>\n",
       "      <th>week</th>\n",
       "      <th>year</th>\n",
       "    </tr>\n",
       "  </thead>\n",
       "  <tbody>\n",
       "    <tr>\n",
       "      <th>0</th>\n",
       "      <td>-7548291590301750000</td>\n",
       "      <td>M</td>\n",
       "      <td>33</td>\n",
       "      <td>M32+</td>\n",
       "      <td>414.0</td>\n",
       "      <td>2016-05-03 00:05:31</td>\n",
       "      <td>116.79</td>\n",
       "      <td>33.98</td>\n",
       "      <td>1</td>\n",
       "      <td>Tuesday</td>\n",
       "      <td>0</td>\n",
       "      <td>18</td>\n",
       "      <td>2016</td>\n",
       "    </tr>\n",
       "    <tr>\n",
       "      <th>1</th>\n",
       "      <td>-7548291590301750000</td>\n",
       "      <td>M</td>\n",
       "      <td>33</td>\n",
       "      <td>M32+</td>\n",
       "      <td>2604805.0</td>\n",
       "      <td>2016-05-04 03:01:32</td>\n",
       "      <td>116.79</td>\n",
       "      <td>33.98</td>\n",
       "      <td>1</td>\n",
       "      <td>Wednesday</td>\n",
       "      <td>3</td>\n",
       "      <td>18</td>\n",
       "      <td>2016</td>\n",
       "    </tr>\n",
       "    <tr>\n",
       "      <th>2</th>\n",
       "      <td>-7548291590301750000</td>\n",
       "      <td>M</td>\n",
       "      <td>33</td>\n",
       "      <td>M32+</td>\n",
       "      <td>2588911.0</td>\n",
       "      <td>2016-05-03 16:14:14</td>\n",
       "      <td>116.79</td>\n",
       "      <td>33.98</td>\n",
       "      <td>1</td>\n",
       "      <td>Tuesday</td>\n",
       "      <td>16</td>\n",
       "      <td>18</td>\n",
       "      <td>2016</td>\n",
       "    </tr>\n",
       "    <tr>\n",
       "      <th>3</th>\n",
       "      <td>-7548291590301750000</td>\n",
       "      <td>M</td>\n",
       "      <td>33</td>\n",
       "      <td>M32+</td>\n",
       "      <td>2586055.0</td>\n",
       "      <td>2016-05-02 14:36:04</td>\n",
       "      <td>116.79</td>\n",
       "      <td>33.98</td>\n",
       "      <td>1</td>\n",
       "      <td>Monday</td>\n",
       "      <td>14</td>\n",
       "      <td>18</td>\n",
       "      <td>2016</td>\n",
       "    </tr>\n",
       "    <tr>\n",
       "      <th>4</th>\n",
       "      <td>-7548291590301750000</td>\n",
       "      <td>M</td>\n",
       "      <td>33</td>\n",
       "      <td>M32+</td>\n",
       "      <td>2560938.0</td>\n",
       "      <td>2016-05-02 18:01:00</td>\n",
       "      <td>116.79</td>\n",
       "      <td>33.98</td>\n",
       "      <td>1</td>\n",
       "      <td>Monday</td>\n",
       "      <td>18</td>\n",
       "      <td>18</td>\n",
       "      <td>2016</td>\n",
       "    </tr>\n",
       "  </tbody>\n",
       "</table>\n",
       "</div>"
      ],
      "text/plain": [
       "             device_id gender  age group   event_id           timestamp  \\\n",
       "0 -7548291590301750000      M   33  M32+      414.0 2016-05-03 00:05:31   \n",
       "1 -7548291590301750000      M   33  M32+  2604805.0 2016-05-04 03:01:32   \n",
       "2 -7548291590301750000      M   33  M32+  2588911.0 2016-05-03 16:14:14   \n",
       "3 -7548291590301750000      M   33  M32+  2586055.0 2016-05-02 14:36:04   \n",
       "4 -7548291590301750000      M   33  M32+  2560938.0 2016-05-02 18:01:00   \n",
       "\n",
       "   longitude  latitude  has_event   week_day  hour_day  week  year  \n",
       "0     116.79     33.98          1    Tuesday         0    18  2016  \n",
       "1     116.79     33.98          1  Wednesday         3    18  2016  \n",
       "2     116.79     33.98          1    Tuesday        16    18  2016  \n",
       "3     116.79     33.98          1     Monday        14    18  2016  \n",
       "4     116.79     33.98          1     Monday        18    18  2016  "
      ]
     },
     "execution_count": 32,
     "metadata": {},
     "output_type": "execute_result"
    }
   ],
   "source": [
    "df_event.head(5)"
   ]
  },
  {
   "cell_type": "code",
   "execution_count": 33,
   "id": "473f2ea9-1007-4911-9859-76568be1c843",
   "metadata": {},
   "outputs": [],
   "source": [
    "def get_group_cat(x):\n",
    "    if(x<=24):\n",
    "        return '0-24'\n",
    "    elif(x>=25 and x<=32):\n",
    "        return '25-32'\n",
    "    elif(x>=33 and x<=45):\n",
    "        return '33-45'\n",
    "    else:\n",
    "        return '46+'    \n",
    "    \n",
    "    \n",
    "df_event['group_cat'] = df_event.age.apply(get_group_cat)"
   ]
  },
  {
   "cell_type": "code",
   "execution_count": 34,
   "id": "6344bcb4-3200-4772-9a57-ad26d5f9416c",
   "metadata": {},
   "outputs": [
    {
     "data": {
      "image/png": "[encoded data removed]",
      "text/plain": [
       "<Figure size 1080x432 with 1 Axes>"
      ]
     },
     "metadata": {},
     "output_type": "display_data"
    }
   ],
   "source": [
    "age_h = (df_event\n",
    "           .groupby(['week_day', 'group_cat'])\n",
    "           .agg('count')\n",
    "           ) \n",
    "\n",
    "#age_h\n",
    "age_h = age_h['device_id'].reset_index()\n",
    "#age_h\n",
    "\n",
    "groups = age_h.pivot(index='week_day', columns='group_cat') \n",
    "#groups\n",
    "\n",
    "ax = groups.plot(kind='bar', stacked=True, colormap='Paired', rot=0, figsize=(15,6))\n",
    "plt.legend(bbox_to_anchor=(1., 1), loc=2, borderaxespad=0.)\n",
    "plt.title(\"Distributon by day of week per age group\")\n",
    "plt.xlabel(\"Week day\")\n",
    "handles, labels = ax.get_legend_handles_labels()"
   ]
  },
  {
   "cell_type": "code",
   "execution_count": null,
   "id": "94619ea0-892c-4da5-927d-58f0ce28b115",
   "metadata": {},
   "outputs": [],
   "source": []
  },
  {
   "cell_type": "markdown",
   "id": "9c929385-341a-4ef5-b9f2-1a768ad2eebb",
   "metadata": {},
   "source": [
    "Observation: The chart above shows that Yes! there is a difference in distribution of Events for different Age Groups over different days of the week. Here we can see that age 25-32 and 33-45 are more dominant than the rest of the age groups"
   ]
  },
  {
   "cell_type": "code",
   "execution_count": null,
   "id": "d6a8ea20-953d-4387-9aa0-437ff4378f89",
   "metadata": {},
   "outputs": [],
   "source": []
  },
  {
   "cell_type": "markdown",
   "id": "7ea86707-70d7-4c75-9135-244d624dfd9e",
   "metadata": {},
   "source": [
    "\n",
    "### 8.Stacked bar chart for the top 10 mobile brands across male and female consumers."
   ]
  },
  {
   "cell_type": "code",
   "execution_count": 35,
   "id": "c5f8d1c8-55e0-4839-8126-52a50696ccac",
   "metadata": {},
   "outputs": [
    {
     "data": {
      "image/png": "[encoded data removed]",
      "text/plain": [
       "<Figure size 432x288 with 1 Axes>"
      ]
     },
     "metadata": {},
     "output_type": "display_data"
    }
   ],
   "source": [
    "top_most_popular = df_non_event.phone_brand.value_counts().head(10)\n",
    "\n",
    "female_top_count = [ df_non_event[(df_non_event.phone_brand.str.strip() == i.strip()) & (df_non_event.gender =='F')]['phone_brand'].count() for i in  top_most_popular.index ]\n",
    "male_top_count =   [ df_non_event[(df_non_event.phone_brand.str.strip() == i.strip()) & (df_non_event.gender =='M')]['phone_brand'].count() for i in  top_most_popular.index ]\n",
    "\n",
    "\n",
    "plt.bar(top_most_popular.index,female_top_count , color='pink', width=1 )\n",
    "plt.bar(top_most_popular.index,male_top_count, bottom =  female_top_count, color='blue', width=1  )\n",
    "plt.xticks(rotation=90)\n",
    "plt.title('Top 10 brands for Males and Females')\n",
    "plt.show()"
   ]
  },
  {
   "cell_type": "code",
   "execution_count": null,
   "id": "0e58ca26-89ea-478b-a08a-67c2ed1f9bde",
   "metadata": {},
   "outputs": [],
   "source": []
  },
  {
   "cell_type": "markdown",
   "id": "3968fbe7-a5f4-4869-bb91-bffc2c8d2a2d",
   "metadata": {},
   "source": [
    "Observation: We can see that Xiaomi is most popular brand while HTC is least desirable"
   ]
  },
  {
   "cell_type": "code",
   "execution_count": null,
   "id": "0a7e1852-3fce-460a-994e-75957b133bf1",
   "metadata": {},
   "outputs": [],
   "source": []
  },
  {
   "cell_type": "markdown",
   "id": "59a58d2e-369c-47ad-b693-a000d9d14cd1",
   "metadata": {},
   "source": [
    "### 9.Prepare a chart representing the ten frequently used applications and their respective male and female percentage."
   ]
  },
  {
   "cell_type": "code",
   "execution_count": 36,
   "id": "9a4bde3a-7966-4d2d-9a30-45db68604d36",
   "metadata": {},
   "outputs": [
    {
     "data": {
      "text/html": [
       "<div>\n",
       "<style scoped>\n",
       "    .dataframe tbody tr th:only-of-type {\n",
       "        vertical-align: middle;\n",
       "    }\n",
       "\n",
       "    .dataframe tbody tr th {\n",
       "        vertical-align: top;\n",
       "    }\n",
       "\n",
       "    .dataframe thead th {\n",
       "        text-align: right;\n",
       "    }\n",
       "</style>\n",
       "<table border=\"1\" class=\"dataframe\">\n",
       "  <thead>\n",
       "    <tr style=\"text-align: right;\">\n",
       "      <th></th>\n",
       "      <th>event_id</th>\n",
       "      <th>app_id</th>\n",
       "      <th>is_installed</th>\n",
       "      <th>is_active</th>\n",
       "      <th>device_id</th>\n",
       "      <th>gender</th>\n",
       "      <th>age</th>\n",
       "      <th>group</th>\n",
       "      <th>timestamp</th>\n",
       "      <th>longitude</th>\n",
       "      <th>latitude</th>\n",
       "      <th>has_event</th>\n",
       "      <th>week_day</th>\n",
       "      <th>hour_day</th>\n",
       "      <th>week</th>\n",
       "      <th>year</th>\n",
       "      <th>group_cat</th>\n",
       "    </tr>\n",
       "  </thead>\n",
       "  <tbody>\n",
       "    <tr>\n",
       "      <th>0</th>\n",
       "      <td>6</td>\n",
       "      <td>-7377004479023402858</td>\n",
       "      <td>1</td>\n",
       "      <td>1</td>\n",
       "      <td>1476664663289710000</td>\n",
       "      <td>M</td>\n",
       "      <td>19</td>\n",
       "      <td>M0-24</td>\n",
       "      <td>2016-05-01 00:27:21</td>\n",
       "      <td>0.0</td>\n",
       "      <td>0.0</td>\n",
       "      <td>1</td>\n",
       "      <td>Sunday</td>\n",
       "      <td>0</td>\n",
       "      <td>17</td>\n",
       "      <td>2016</td>\n",
       "      <td>0-24</td>\n",
       "    </tr>\n",
       "    <tr>\n",
       "      <th>1</th>\n",
       "      <td>6</td>\n",
       "      <td>6284164581582112235</td>\n",
       "      <td>1</td>\n",
       "      <td>1</td>\n",
       "      <td>1476664663289710000</td>\n",
       "      <td>M</td>\n",
       "      <td>19</td>\n",
       "      <td>M0-24</td>\n",
       "      <td>2016-05-01 00:27:21</td>\n",
       "      <td>0.0</td>\n",
       "      <td>0.0</td>\n",
       "      <td>1</td>\n",
       "      <td>Sunday</td>\n",
       "      <td>0</td>\n",
       "      <td>17</td>\n",
       "      <td>2016</td>\n",
       "      <td>0-24</td>\n",
       "    </tr>\n",
       "    <tr>\n",
       "      <th>2</th>\n",
       "      <td>6</td>\n",
       "      <td>5927333115845830913</td>\n",
       "      <td>1</td>\n",
       "      <td>1</td>\n",
       "      <td>1476664663289710000</td>\n",
       "      <td>M</td>\n",
       "      <td>19</td>\n",
       "      <td>M0-24</td>\n",
       "      <td>2016-05-01 00:27:21</td>\n",
       "      <td>0.0</td>\n",
       "      <td>0.0</td>\n",
       "      <td>1</td>\n",
       "      <td>Sunday</td>\n",
       "      <td>0</td>\n",
       "      <td>17</td>\n",
       "      <td>2016</td>\n",
       "      <td>0-24</td>\n",
       "    </tr>\n",
       "    <tr>\n",
       "      <th>3</th>\n",
       "      <td>6</td>\n",
       "      <td>3433289601737013244</td>\n",
       "      <td>1</td>\n",
       "      <td>1</td>\n",
       "      <td>1476664663289710000</td>\n",
       "      <td>M</td>\n",
       "      <td>19</td>\n",
       "      <td>M0-24</td>\n",
       "      <td>2016-05-01 00:27:21</td>\n",
       "      <td>0.0</td>\n",
       "      <td>0.0</td>\n",
       "      <td>1</td>\n",
       "      <td>Sunday</td>\n",
       "      <td>0</td>\n",
       "      <td>17</td>\n",
       "      <td>2016</td>\n",
       "      <td>0-24</td>\n",
       "    </tr>\n",
       "    <tr>\n",
       "      <th>4</th>\n",
       "      <td>6</td>\n",
       "      <td>-3467200097934864127</td>\n",
       "      <td>1</td>\n",
       "      <td>1</td>\n",
       "      <td>1476664663289710000</td>\n",
       "      <td>M</td>\n",
       "      <td>19</td>\n",
       "      <td>M0-24</td>\n",
       "      <td>2016-05-01 00:27:21</td>\n",
       "      <td>0.0</td>\n",
       "      <td>0.0</td>\n",
       "      <td>1</td>\n",
       "      <td>Sunday</td>\n",
       "      <td>0</td>\n",
       "      <td>17</td>\n",
       "      <td>2016</td>\n",
       "      <td>0-24</td>\n",
       "    </tr>\n",
       "  </tbody>\n",
       "</table>\n",
       "</div>"
      ],
      "text/plain": [
       "   event_id               app_id  is_installed  is_active  \\\n",
       "0         6 -7377004479023402858             1          1   \n",
       "1         6  6284164581582112235             1          1   \n",
       "2         6  5927333115845830913             1          1   \n",
       "3         6  3433289601737013244             1          1   \n",
       "4         6 -3467200097934864127             1          1   \n",
       "\n",
       "             device_id gender  age  group           timestamp  longitude  \\\n",
       "0  1476664663289710000      M   19  M0-24 2016-05-01 00:27:21        0.0   \n",
       "1  1476664663289710000      M   19  M0-24 2016-05-01 00:27:21        0.0   \n",
       "2  1476664663289710000      M   19  M0-24 2016-05-01 00:27:21        0.0   \n",
       "3  1476664663289710000      M   19  M0-24 2016-05-01 00:27:21        0.0   \n",
       "4  1476664663289710000      M   19  M0-24 2016-05-01 00:27:21        0.0   \n",
       "\n",
       "   latitude  has_event week_day  hour_day  week  year group_cat  \n",
       "0       0.0          1   Sunday         0    17  2016      0-24  \n",
       "1       0.0          1   Sunday         0    17  2016      0-24  \n",
       "2       0.0          1   Sunday         0    17  2016      0-24  \n",
       "3       0.0          1   Sunday         0    17  2016      0-24  \n",
       "4       0.0          1   Sunday         0    17  2016      0-24  "
      ]
     },
     "execution_count": 36,
     "metadata": {},
     "output_type": "execute_result"
    }
   ],
   "source": [
    "#lets join events_data and app_events data\n",
    "df_app_event = df_app_events.merge(df_event, on='event_id')\n",
    "df_app_event.head()"
   ]
  },
  {
   "cell_type": "code",
   "execution_count": 37,
   "id": "77a1cb54-fcc0-4ac1-ac7b-4d0b2a67df11",
   "metadata": {},
   "outputs": [
    {
     "data": {
      "text/plain": [
       " 8693964245073640147    433106\n",
       " 5927333115845830913    338681\n",
       " 4348659952760821294    304722\n",
       " 628020936226491308     239018\n",
       " 3433289601737013244    147057\n",
       "-2320783822570582843    112841\n",
       " 6284164581582112235    103677\n",
       " 5729517255058371973    101888\n",
       " 8948670408023620661     99963\n",
       " 3683147815759994238     98647\n",
       "Name: app_id, dtype: int64"
      ]
     },
     "execution_count": 37,
     "metadata": {},
     "output_type": "execute_result"
    }
   ],
   "source": [
    "freq_used_app = df_app_event.app_id.value_counts().head(10)\n",
    "freq_used_app"
   ]
  },
  {
   "cell_type": "code",
   "execution_count": 38,
   "id": "fae7c916-d213-4ce2-93b8-0e58ea9dd4f1",
   "metadata": {},
   "outputs": [],
   "source": [
    "female_top_count = [ df_app_event[(df_app_event.app_id == i) & (df_app_event.gender =='F')]['gender'].count() for i in  freq_used_app.index ]\n",
    "male_top_count = [ df_app_event[(df_app_event.app_id == i) & (df_app_event.gender =='M')]['gender'].count() for i in  freq_used_app.index ]"
   ]
  },
  {
   "cell_type": "code",
   "execution_count": 39,
   "id": "9e15e296-7db2-4679-836c-fa93eda85c2d",
   "metadata": {},
   "outputs": [
    {
     "data": {
      "image/png": "[encoded data removed]",
      "text/plain": [
       "<Figure size 432x288 with 1 Axes>"
      ]
     },
     "metadata": {},
     "output_type": "display_data"
    }
   ],
   "source": [
    "ind = [str(i) for i in freq_used_app.index]\n",
    "plt.figure()\n",
    "plt.bar(ind,female_top_count, color='pink', width=1 )\n",
    "plt.bar(ind,male_top_count, bottom =  female_top_count, color='blue', width=1  )\n",
    "plt.xticks(rotation=90)\n",
    "plt.title('Top 10 frequently used apps for Males and Females')\n",
    "plt.show()"
   ]
  },
  {
   "cell_type": "code",
   "execution_count": null,
   "id": "fcf691dc-d922-4d83-9901-2980fad7058d",
   "metadata": {},
   "outputs": [],
   "source": []
  },
  {
   "cell_type": "markdown",
   "id": "98346c7d-a38f-4c28-8f12-be3adfc5a9c4",
   "metadata": {},
   "source": [
    "Observation: As we can see that the male users are more for top 10 feequently used apps as compared to female"
   ]
  },
  {
   "cell_type": "code",
   "execution_count": null,
   "id": "e3e4b762-4dbc-4a9b-88a2-d8b68ab4f242",
   "metadata": {},
   "outputs": [],
   "source": []
  },
  {
   "cell_type": "markdown",
   "id": "61b9f8d2-8d43-4344-81b0-ad86fdafe088",
   "metadata": {},
   "source": [
    "### 10.List the top 10 mobile phone brands bought by customers by age groups. [Consider the following age groups: 0–24, 25–32, 33–45, and 46+]"
   ]
  },
  {
   "cell_type": "code",
   "execution_count": 40,
   "id": "6175fe64-4f9b-4f4e-8288-3861b549bf1a",
   "metadata": {},
   "outputs": [
    {
     "data": {
      "text/html": [
       "<div>\n",
       "<style scoped>\n",
       "    .dataframe tbody tr th:only-of-type {\n",
       "        vertical-align: middle;\n",
       "    }\n",
       "\n",
       "    .dataframe tbody tr th {\n",
       "        vertical-align: top;\n",
       "    }\n",
       "\n",
       "    .dataframe thead th {\n",
       "        text-align: right;\n",
       "    }\n",
       "</style>\n",
       "<table border=\"1\" class=\"dataframe\">\n",
       "  <thead>\n",
       "    <tr style=\"text-align: right;\">\n",
       "      <th></th>\n",
       "      <th>device_id</th>\n",
       "      <th>gender</th>\n",
       "      <th>age</th>\n",
       "      <th>group</th>\n",
       "      <th>phone_brand</th>\n",
       "      <th>device_model</th>\n",
       "      <th>group_cat</th>\n",
       "    </tr>\n",
       "  </thead>\n",
       "  <tbody>\n",
       "    <tr>\n",
       "      <th>0</th>\n",
       "      <td>-7548291590301750000</td>\n",
       "      <td>M</td>\n",
       "      <td>33</td>\n",
       "      <td>M32+</td>\n",
       "      <td>Huawei</td>\n",
       "      <td>è£è€€3C</td>\n",
       "      <td>33-45</td>\n",
       "    </tr>\n",
       "    <tr>\n",
       "      <th>1</th>\n",
       "      <td>6943568600617760000</td>\n",
       "      <td>M</td>\n",
       "      <td>37</td>\n",
       "      <td>M32+</td>\n",
       "      <td>Xiaomi</td>\n",
       "      <td>xnote</td>\n",
       "      <td>33-45</td>\n",
       "    </tr>\n",
       "    <tr>\n",
       "      <th>2</th>\n",
       "      <td>5441349705980020000</td>\n",
       "      <td>M</td>\n",
       "      <td>40</td>\n",
       "      <td>M32+</td>\n",
       "      <td>OPPO</td>\n",
       "      <td>R7s</td>\n",
       "      <td>33-45</td>\n",
       "    </tr>\n",
       "    <tr>\n",
       "      <th>3</th>\n",
       "      <td>-5393876656119450000</td>\n",
       "      <td>M</td>\n",
       "      <td>33</td>\n",
       "      <td>M32+</td>\n",
       "      <td>Xiaomi</td>\n",
       "      <td>MI 4</td>\n",
       "      <td>33-45</td>\n",
       "    </tr>\n",
       "    <tr>\n",
       "      <th>4</th>\n",
       "      <td>4543988487649880000</td>\n",
       "      <td>M</td>\n",
       "      <td>53</td>\n",
       "      <td>M32+</td>\n",
       "      <td>samsung</td>\n",
       "      <td>Galaxy S4</td>\n",
       "      <td>46+</td>\n",
       "    </tr>\n",
       "  </tbody>\n",
       "</table>\n",
       "</div>"
      ],
      "text/plain": [
       "             device_id gender  age group phone_brand device_model group_cat\n",
       "0 -7548291590301750000      M   33  M32+      Huawei     è£è€€3C     33-45\n",
       "1  6943568600617760000      M   37  M32+      Xiaomi        xnote     33-45\n",
       "2  5441349705980020000      M   40  M32+        OPPO          R7s     33-45\n",
       "3 -5393876656119450000      M   33  M32+      Xiaomi         MI 4     33-45\n",
       "4  4543988487649880000      M   53  M32+     samsung    Galaxy S4       46+"
      ]
     },
     "execution_count": 40,
     "metadata": {},
     "output_type": "execute_result"
    }
   ],
   "source": [
    "df_non_event['group_cat'] = df_non_event.age.apply(get_group_cat)\n",
    "df_non_event.head()"
   ]
  },
  {
   "cell_type": "code",
   "execution_count": 41,
   "id": "bee9bcdb-e16c-412b-b279-aef87dbd0aeb",
   "metadata": {},
   "outputs": [
    {
     "data": {
      "text/plain": [
       "Xiaomi     17300\n",
       "samsung    13669\n",
       "Huawei     12960\n",
       "OPPO        5783\n",
       "vivo        5637\n",
       "Meizu       4698\n",
       "Coolpad     3339\n",
       "lenovo      2691\n",
       "Gionee      1123\n",
       "HTC         1013\n",
       "Name: phone_brand, dtype: int64"
      ]
     },
     "execution_count": 41,
     "metadata": {},
     "output_type": "execute_result"
    }
   ],
   "source": [
    "top_mobile_bought = df_non_event.phone_brand.value_counts().head(10)\n",
    "top_mobile_bought"
   ]
  },
  {
   "cell_type": "code",
   "execution_count": 42,
   "id": "e00f274e-3233-46ba-b26c-a71896b16d2b",
   "metadata": {},
   "outputs": [
    {
     "data": {
      "image/png": "[encoded data removed]",
      "text/plain": [
       "<Figure size 432x288 with 1 Axes>"
      ]
     },
     "metadata": {},
     "output_type": "display_data"
    }
   ],
   "source": [
    "young_users = [ df_non_event[(df_non_event.phone_brand.str.strip() == i.strip()) & (df_non_event.group_cat.str.strip() =='0-24')]['group_cat'].count() for i in  top_mobile_bought.index ]\n",
    "adults_users = [ df_non_event[(df_non_event.phone_brand.str.strip() == i.strip()) & (df_non_event.group_cat.str.strip() =='25-32')]['group_cat'].count() for i in  top_mobile_bought.index ]\n",
    "mid_age_users = [ df_non_event[(df_non_event.phone_brand.str.strip() == i.strip()) & (df_non_event.group_cat.str.strip() =='33-45')]['group_cat'].count() for i in  top_mobile_bought.index ]\n",
    "old_users = [ df_non_event[(df_non_event.phone_brand.str.strip() == i.strip()) & (df_non_event.group_cat.str.strip() =='46+')]['group_cat'].count() for i in  top_mobile_bought.index ]\n",
    "\n",
    "\n",
    "\n",
    "plt.figure()\n",
    "plt.bar(top_mobile_bought.index,young_users, color='#F7FE2E', width=1 )\n",
    "plt.bar(top_mobile_bought.index,mid_age_users,  color='#F7819F', width=1 )\n",
    "plt.bar(top_mobile_bought.index,old_users,  color='#A9F5A9', width=1 )\n",
    "plt.bar(top_mobile_bought.index,adults_users,  bottom =  young_users, color='#0040FF', width=1 )\n",
    "\n",
    "\n",
    "plt.xticks(rotation=90)\n",
    "plt.title('Top 10 mobile brands for Males and Females')\n",
    "plt.show()"
   ]
  },
  {
   "cell_type": "code",
   "execution_count": 43,
   "id": "c86a4b7c-5948-472b-ad48-decb78381aa8",
   "metadata": {},
   "outputs": [],
   "source": [
    "df_temp_filter =  df_non_event[df_non_event.phone_brand.isin(top_mobile_bought.index)]"
   ]
  },
  {
   "cell_type": "code",
   "execution_count": 44,
   "id": "8e3983dd-2e10-4245-a4ba-a17f1036a7d3",
   "metadata": {},
   "outputs": [
    {
     "data": {
      "image/png": "[encoded data removed]",
      "text/plain": [
       "<Figure size 1080x432 with 1 Axes>"
      ]
     },
     "metadata": {},
     "output_type": "display_data"
    }
   ],
   "source": [
    "phone_cat = df_temp_filter.groupby(['phone_brand','group_cat']).agg('count')\n",
    "phone_cat = phone_cat['device_id'].reset_index()\n",
    "#phone_cat\n",
    "\n",
    "phone_pivit = phone_cat.pivot(index='phone_brand', columns='group_cat')\n",
    "phone_pivit.plot(kind='bar', stacked=True, rot=0, figsize=(15,6))\n",
    "plt.title('Top 10 mobile phone brands by age groups')\n",
    "plt.xlabel('Phone brands')\n",
    "plt.show()"
   ]
  },
  {
   "cell_type": "code",
   "execution_count": null,
   "id": "113e4cf0-22df-4376-8b2e-e7f1298ad2da",
   "metadata": {},
   "outputs": [],
   "source": []
  },
  {
   "cell_type": "markdown",
   "id": "21f55a46-a4fa-4f49-8eae-1af1b9b52665",
   "metadata": {},
   "source": [
    "Observation: We can see that Xiaomi is most popular brand and it is also popular in 25-32 age group category. Also for old group segment Samsung, Huawei is quite popular."
   ]
  },
  {
   "cell_type": "markdown",
   "id": "c11fbb8e-040a-4a8b-a47a-09a609a0171c",
   "metadata": {},
   "source": [
    "## Feature engineering"
   ]
  },
  {
   "cell_type": "markdown",
   "id": "d1c69fef-6163-4f28-9868-291032479f15",
   "metadata": {},
   "source": [
    "Lets created some other features as suggested in problem statement"
   ]
  },
  {
   "cell_type": "markdown",
   "id": "5c856e1b-5a18-4a9d-a1b7-023a0f477462",
   "metadata": {},
   "source": [
    "### Average events per day for each device"
   ]
  },
  {
   "cell_type": "code",
   "execution_count": 45,
   "id": "473041d3-ab80-4d9b-9ee1-a7f572d475a5",
   "metadata": {},
   "outputs": [],
   "source": [
    "total_events=df_event.groupby('device_id')['event_id'].agg('count')\n",
    "#total_events"
   ]
  },
  {
   "cell_type": "code",
   "execution_count": 46,
   "id": "78e94f10-61ec-47ed-97a7-9728f2994c8b",
   "metadata": {},
   "outputs": [],
   "source": [
    "per_day_events = df_event.groupby(['device_id', 'week_day'])['event_id'].agg('count')\n",
    "per_day_events = per_day_events.reset_index()\n",
    "per_day_events = per_day_events.groupby('device_id')['event_id'].agg('count')\n",
    "#per_day_events"
   ]
  },
  {
   "cell_type": "code",
   "execution_count": 47,
   "id": "52b7737c-e37f-4c34-8739-2e50a650d120",
   "metadata": {},
   "outputs": [],
   "source": [
    "average_events_perday=total_events/per_day_events\n",
    "average_events_perday = average_events_perday.reset_index()\n",
    "average_events_perday.columns=['device_id', 'avg_events']\n",
    "average_events_perday.head(2)\n",
    "\n",
    "df_non_event=df_non_event.merge(average_events_perday, how='left', on='device_id')"
   ]
  },
  {
   "cell_type": "markdown",
   "id": "0232ca3d-3c21-4b73-9e73-b1d7d36cfeb7",
   "metadata": {},
   "source": [
    "### Median used-time per device"
   ]
  },
  {
   "cell_type": "code",
   "execution_count": 48,
   "id": "18a72647-3aa8-4351-a14b-39b397aae17e",
   "metadata": {},
   "outputs": [],
   "source": [
    "from collections import Counter\n",
    "most_active_fn = df_event.groupby('device_id')['hour_day'].apply(lambda x: Counter(x).most_common(1)[0][0])\n",
    "df_non_event['most_active_hour']= df_non_event['device_id'].map(most_active_fn)"
   ]
  },
  {
   "cell_type": "code",
   "execution_count": 49,
   "id": "334d44bd-b69a-48d8-8f63-41e350b7a16f",
   "metadata": {},
   "outputs": [
    {
     "data": {
      "text/plain": [
       "(74645, 1215598)"
      ]
     },
     "execution_count": 49,
     "metadata": {},
     "output_type": "execute_result"
    }
   ],
   "source": [
    "#check dataset created so far so far\n",
    "df_non_event.device_id.count(),df_event.device_id.count()  #(74645, 829966)"
   ]
  },
  {
   "cell_type": "markdown",
   "id": "cc76b183-5f9b-4cc7-ab40-2cd68317d6fa",
   "metadata": {},
   "source": [
    "> Here we are done with initial EDA tasks. Now we will perform the advance EDA in separate notebook. For this we will save the dataset we have cleaned and shaped so far."
   ]
  },
  {
   "cell_type": "code",
   "execution_count": 50,
   "id": "7e98732d-fa02-486b-8fd4-9046bf2b1e3d",
   "metadata": {},
   "outputs": [
    {
     "data": {
      "text/html": [
       "<div>\n",
       "<style scoped>\n",
       "    .dataframe tbody tr th:only-of-type {\n",
       "        vertical-align: middle;\n",
       "    }\n",
       "\n",
       "    .dataframe tbody tr th {\n",
       "        vertical-align: top;\n",
       "    }\n",
       "\n",
       "    .dataframe thead th {\n",
       "        text-align: right;\n",
       "    }\n",
       "</style>\n",
       "<table border=\"1\" class=\"dataframe\">\n",
       "  <thead>\n",
       "    <tr style=\"text-align: right;\">\n",
       "      <th></th>\n",
       "      <th>device_id</th>\n",
       "      <th>gender</th>\n",
       "      <th>age</th>\n",
       "      <th>group</th>\n",
       "      <th>phone_brand</th>\n",
       "      <th>device_model</th>\n",
       "      <th>group_cat</th>\n",
       "      <th>avg_events</th>\n",
       "      <th>most_active_hour</th>\n",
       "    </tr>\n",
       "  </thead>\n",
       "  <tbody>\n",
       "    <tr>\n",
       "      <th>0</th>\n",
       "      <td>-7548291590301750000</td>\n",
       "      <td>M</td>\n",
       "      <td>33</td>\n",
       "      <td>M32+</td>\n",
       "      <td>Huawei</td>\n",
       "      <td>è£è€€3C</td>\n",
       "      <td>33-45</td>\n",
       "      <td>58.400000</td>\n",
       "      <td>15.0</td>\n",
       "    </tr>\n",
       "    <tr>\n",
       "      <th>1</th>\n",
       "      <td>6943568600617760000</td>\n",
       "      <td>M</td>\n",
       "      <td>37</td>\n",
       "      <td>M32+</td>\n",
       "      <td>Xiaomi</td>\n",
       "      <td>xnote</td>\n",
       "      <td>33-45</td>\n",
       "      <td>1.000000</td>\n",
       "      <td>11.0</td>\n",
       "    </tr>\n",
       "    <tr>\n",
       "      <th>2</th>\n",
       "      <td>5441349705980020000</td>\n",
       "      <td>M</td>\n",
       "      <td>40</td>\n",
       "      <td>M32+</td>\n",
       "      <td>OPPO</td>\n",
       "      <td>R7s</td>\n",
       "      <td>33-45</td>\n",
       "      <td>1.000000</td>\n",
       "      <td>23.0</td>\n",
       "    </tr>\n",
       "    <tr>\n",
       "      <th>3</th>\n",
       "      <td>-5393876656119450000</td>\n",
       "      <td>M</td>\n",
       "      <td>33</td>\n",
       "      <td>M32+</td>\n",
       "      <td>Xiaomi</td>\n",
       "      <td>MI 4</td>\n",
       "      <td>33-45</td>\n",
       "      <td>2.000000</td>\n",
       "      <td>23.0</td>\n",
       "    </tr>\n",
       "    <tr>\n",
       "      <th>4</th>\n",
       "      <td>4543988487649880000</td>\n",
       "      <td>M</td>\n",
       "      <td>53</td>\n",
       "      <td>M32+</td>\n",
       "      <td>samsung</td>\n",
       "      <td>Galaxy S4</td>\n",
       "      <td>46+</td>\n",
       "      <td>16.428571</td>\n",
       "      <td>22.0</td>\n",
       "    </tr>\n",
       "  </tbody>\n",
       "</table>\n",
       "</div>"
      ],
      "text/plain": [
       "             device_id gender  age group phone_brand device_model group_cat  \\\n",
       "0 -7548291590301750000      M   33  M32+      Huawei     è£è€€3C     33-45   \n",
       "1  6943568600617760000      M   37  M32+      Xiaomi        xnote     33-45   \n",
       "2  5441349705980020000      M   40  M32+        OPPO          R7s     33-45   \n",
       "3 -5393876656119450000      M   33  M32+      Xiaomi         MI 4     33-45   \n",
       "4  4543988487649880000      M   53  M32+     samsung    Galaxy S4       46+   \n",
       "\n",
       "   avg_events  most_active_hour  \n",
       "0   58.400000              15.0  \n",
       "1    1.000000              11.0  \n",
       "2    1.000000              23.0  \n",
       "3    2.000000              23.0  \n",
       "4   16.428571              22.0  "
      ]
     },
     "execution_count": 50,
     "metadata": {},
     "output_type": "execute_result"
    }
   ],
   "source": [
    "#df_event.head()\n",
    "df_non_event.head()"
   ]
  },
  {
   "cell_type": "code",
   "execution_count": 51,
   "id": "5096f4ab-9957-4365-b9ed-bdf3cc22f3d4",
   "metadata": {},
   "outputs": [],
   "source": [
    "df_event.to_csv('../2_Advanced_Visualisation/event_data.csv',index=False)\n",
    "df_non_event.to_csv('../2_Advanced_Visualisation/non_event_data.csv',index=False)"
   ]
  },
  {
   "cell_type": "markdown",
   "id": "9e338e2c-2ec9-4d26-ab2d-29a2d5b8cbee",
   "metadata": {},
   "source": [
    "End of this notebook"
   ]
  },
  {
   "cell_type": "markdown",
   "id": "74ba5034-0143-4e9e-b2fb-063f8a5f6407",
   "metadata": {},
   "source": [
    "----"
   ]
  }
 ],
 "metadata": {
  "kernelspec": {
   "display_name": "Python 3 (ipykernel)",
   "language": "python",
   "name": "python3"
  },
  "language_info": {
   "codemirror_mode": {
    "name": "ipython",
    "version": 3
   },
   "file_extension": ".py",
   "mimetype": "text/x-python",
   "name": "python",
   "nbconvert_exporter": "python",
   "pygments_lexer": "ipython3",
   "version": "3.9.7"
  }
 },
 "nbformat": 4,
 "nbformat_minor": 5
}
