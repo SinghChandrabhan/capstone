{
 "cells": [
  {
   "cell_type": "markdown",
   "id": "bd9964cd-9896-4559-b257-8b5d98327e66",
   "metadata": {},
   "source": [
    "# Initial SubTasks"
   ]
  },
  {
   "cell_type": "markdown",
   "id": "41fef68f-a5a8-4fdf-9886-290c9ddcf204",
   "metadata": {},
   "source": [
    "### Reading data"
   ]
  },
  {
   "cell_type": "code",
   "execution_count": 214,
   "id": "2c1185d3-8155-4866-8b1d-e7aec88a3a5a",
   "metadata": {},
   "outputs": [],
   "source": [
    "# import required libraries\n",
    "import pandas as pd\n",
    "import numpy as np"
   ]
  },
  {
   "cell_type": "code",
   "execution_count": 215,
   "id": "c1519d98-4a8f-4b40-b724-e209312d54bc",
   "metadata": {},
   "outputs": [
    {
     "name": "stderr",
     "output_type": "stream",
     "text": [
      "C:\\Users\\chand\\anaconda3\\lib\\site-packages\\IPython\\core\\interactiveshell.py:3444: DtypeWarning: Columns (4,6,7) have mixed types.Specify dtype option on import or set low_memory=False.\n",
      "  exec(code_obj, self.user_global_ns, self.user_ns)\n"
     ]
    }
   ],
   "source": [
    "#read event and non event data\n",
    "event_columns =['device_id','gender','age','group','event_id','timestamp','longitude','latitude']\n",
    "non_event_columns =['device_id','gender','age','group','phone_brand','device_model']\n",
    "\n",
    "df_event = pd.read_csv('event_data.csv', header=None, names=event_columns)\n",
    "df_non_event = pd.read_csv('non_event_data.csv', header=None, names=non_event_columns)"
   ]
  },
  {
   "cell_type": "code",
   "execution_count": 216,
   "id": "6184060b-8125-4b72-b794-db1340614710",
   "metadata": {},
   "outputs": [
    {
     "data": {
      "text/html": [
       "<div>\n",
       "<style scoped>\n",
       "    .dataframe tbody tr th:only-of-type {\n",
       "        vertical-align: middle;\n",
       "    }\n",
       "\n",
       "    .dataframe tbody tr th {\n",
       "        vertical-align: top;\n",
       "    }\n",
       "\n",
       "    .dataframe thead th {\n",
       "        text-align: right;\n",
       "    }\n",
       "</style>\n",
       "<table border=\"1\" class=\"dataframe\">\n",
       "  <thead>\n",
       "    <tr style=\"text-align: right;\">\n",
       "      <th></th>\n",
       "      <th>device_id</th>\n",
       "      <th>gender</th>\n",
       "      <th>age</th>\n",
       "      <th>group</th>\n",
       "      <th>event_id</th>\n",
       "      <th>timestamp</th>\n",
       "      <th>longitude</th>\n",
       "      <th>latitude</th>\n",
       "    </tr>\n",
       "  </thead>\n",
       "  <tbody>\n",
       "    <tr>\n",
       "      <th>0</th>\n",
       "      <td>-7548291590301750000</td>\n",
       "      <td>M</td>\n",
       "      <td>33</td>\n",
       "      <td>M32+</td>\n",
       "      <td>414</td>\n",
       "      <td>2016-05-03 00:05:31</td>\n",
       "      <td>116.79</td>\n",
       "      <td>33.98</td>\n",
       "    </tr>\n",
       "    <tr>\n",
       "      <th>1</th>\n",
       "      <td>-7548291590301750000</td>\n",
       "      <td>M</td>\n",
       "      <td>33</td>\n",
       "      <td>M32+</td>\n",
       "      <td>2604805</td>\n",
       "      <td>2016-05-04 03:01:32</td>\n",
       "      <td>116.79</td>\n",
       "      <td>33.98</td>\n",
       "    </tr>\n",
       "  </tbody>\n",
       "</table>\n",
       "</div>"
      ],
      "text/plain": [
       "             device_id gender  age group event_id            timestamp  \\\n",
       "0 -7548291590301750000      M   33  M32+      414  2016-05-03 00:05:31   \n",
       "1 -7548291590301750000      M   33  M32+  2604805  2016-05-04 03:01:32   \n",
       "\n",
       "  longitude latitude  \n",
       "0    116.79    33.98  \n",
       "1    116.79    33.98  "
      ]
     },
     "execution_count": 216,
     "metadata": {},
     "output_type": "execute_result"
    }
   ],
   "source": [
    "#check dataframes for sanatiy\n",
    "df_event.head(2)"
   ]
  },
  {
   "cell_type": "code",
   "execution_count": 217,
   "id": "351a79e7-398f-4954-8a1a-7900459aa828",
   "metadata": {},
   "outputs": [
    {
     "data": {
      "text/html": [
       "<div>\n",
       "<style scoped>\n",
       "    .dataframe tbody tr th:only-of-type {\n",
       "        vertical-align: middle;\n",
       "    }\n",
       "\n",
       "    .dataframe tbody tr th {\n",
       "        vertical-align: top;\n",
       "    }\n",
       "\n",
       "    .dataframe thead th {\n",
       "        text-align: right;\n",
       "    }\n",
       "</style>\n",
       "<table border=\"1\" class=\"dataframe\">\n",
       "  <thead>\n",
       "    <tr style=\"text-align: right;\">\n",
       "      <th></th>\n",
       "      <th>device_id</th>\n",
       "      <th>gender</th>\n",
       "      <th>age</th>\n",
       "      <th>group</th>\n",
       "      <th>phone_brand</th>\n",
       "      <th>device_model</th>\n",
       "    </tr>\n",
       "  </thead>\n",
       "  <tbody>\n",
       "    <tr>\n",
       "      <th>0</th>\n",
       "      <td>-7548291590301750000</td>\n",
       "      <td>M</td>\n",
       "      <td>33</td>\n",
       "      <td>M32+</td>\n",
       "      <td>Huawei</td>\n",
       "      <td>è£è€€3C</td>\n",
       "    </tr>\n",
       "    <tr>\n",
       "      <th>1</th>\n",
       "      <td>6943568600617760000</td>\n",
       "      <td>M</td>\n",
       "      <td>37</td>\n",
       "      <td>M32+</td>\n",
       "      <td>Xiaomi</td>\n",
       "      <td>xnote</td>\n",
       "    </tr>\n",
       "  </tbody>\n",
       "</table>\n",
       "</div>"
      ],
      "text/plain": [
       "             device_id gender  age group phone_brand device_model\n",
       "0 -7548291590301750000      M   33  M32+      Huawei     è£è€€3C\n",
       "1  6943568600617760000      M   37  M32+      Xiaomi        xnote"
      ]
     },
     "execution_count": 217,
     "metadata": {},
     "output_type": "execute_result"
    }
   ],
   "source": [
    "df_non_event.head(2)"
   ]
  },
  {
   "cell_type": "code",
   "execution_count": null,
   "id": "40667070-f64f-43f0-8589-aa6f32dce9ea",
   "metadata": {},
   "outputs": [],
   "source": []
  },
  {
   "cell_type": "markdown",
   "id": "fd7ace58-5f95-4e48-9d2b-7d2af83dff7a",
   "metadata": {},
   "source": [
    "### Cleaning data"
   ]
  },
  {
   "cell_type": "markdown",
   "id": "d32114a0-3bb5-4af9-ae2c-cc5059d19497",
   "metadata": {},
   "source": [
    "#### Clean event data"
   ]
  },
  {
   "cell_type": "code",
   "execution_count": 218,
   "id": "6ab156a1-75bf-4022-b7a5-d85a26b01d97",
   "metadata": {},
   "outputs": [
    {
     "data": {
      "text/plain": [
       "device_id     int64\n",
       "gender       object\n",
       "age           int64\n",
       "group        object\n",
       "event_id     object\n",
       "timestamp    object\n",
       "longitude    object\n",
       "latitude     object\n",
       "dtype: object"
      ]
     },
     "execution_count": 218,
     "metadata": {},
     "output_type": "execute_result"
    }
   ],
   "source": [
    "df_event.dtypes"
   ]
  },
  {
   "cell_type": "code",
   "execution_count": 219,
   "id": "a5871c03-df77-45cd-bc1b-14071b572db0",
   "metadata": {},
   "outputs": [],
   "source": [
    "#replace invalid chars with a None\n",
    "df_event = df_event.replace({\"\\\\N\": None})"
   ]
  },
  {
   "cell_type": "code",
   "execution_count": 220,
   "id": "b698c3b6-a529-4877-91aa-884e9ad0a97b",
   "metadata": {},
   "outputs": [],
   "source": [
    "# correct data types\n",
    "df_event.timestamp = pd.to_datetime(df_event.timestamp)\n",
    "df_event.event_id = pd.to_numeric(df_event.event_id, errors='coerce')\n",
    "df_event.longitude = pd.to_numeric(df_event.longitude, errors='coerce')\n",
    "df_event.latitude  = pd.to_numeric(df_event.latitude, errors='coerce')"
   ]
  },
  {
   "cell_type": "code",
   "execution_count": 221,
   "id": "f0e01bc7-50d6-4f57-81d5-20e7abb0ab31",
   "metadata": {},
   "outputs": [
    {
     "data": {
      "text/plain": [
       "device_id             int64\n",
       "gender               object\n",
       "age                   int64\n",
       "group                object\n",
       "event_id            float64\n",
       "timestamp    datetime64[ns]\n",
       "longitude           float64\n",
       "latitude            float64\n",
       "dtype: object"
      ]
     },
     "execution_count": 221,
     "metadata": {},
     "output_type": "execute_result"
    }
   ],
   "source": [
    "df_event.dtypes\n",
    "#df_event.latitude"
   ]
  },
  {
   "cell_type": "markdown",
   "id": "88953e00-6a8f-4101-b1b9-d2552d0b1d84",
   "metadata": {},
   "source": [
    "#### Clean non event data\n"
   ]
  },
  {
   "cell_type": "code",
   "execution_count": 223,
   "id": "4431e247-673f-4d43-adb5-a87dce41ecb3",
   "metadata": {},
   "outputs": [
    {
     "data": {
      "text/plain": [
       "device_id       74840\n",
       "gender          74840\n",
       "age             74840\n",
       "group           74840\n",
       "phone_brand     74840\n",
       "device_model    74840\n",
       "dtype: int64"
      ]
     },
     "execution_count": 223,
     "metadata": {},
     "output_type": "execute_result"
    }
   ],
   "source": [
    "df_non_event.count()"
   ]
  },
  {
   "cell_type": "code",
   "execution_count": 224,
   "id": "0f10310a-c258-436d-9942-2a5c3a349cfb",
   "metadata": {},
   "outputs": [
    {
     "data": {
      "text/plain": [
       "device_id        int64\n",
       "gender          object\n",
       "age              int64\n",
       "group           object\n",
       "phone_brand     object\n",
       "device_model    object\n",
       "dtype: object"
      ]
     },
     "execution_count": 224,
     "metadata": {},
     "output_type": "execute_result"
    }
   ],
   "source": [
    "df_non_event.dtypes"
   ]
  },
  {
   "cell_type": "code",
   "execution_count": 225,
   "id": "776dae36-9925-413a-91ed-c2fb889057a3",
   "metadata": {},
   "outputs": [
    {
     "data": {
      "text/plain": [
       "device_id       0\n",
       "gender          0\n",
       "age             0\n",
       "group           0\n",
       "phone_brand     0\n",
       "device_model    0\n",
       "dtype: int64"
      ]
     },
     "execution_count": 225,
     "metadata": {},
     "output_type": "execute_result"
    }
   ],
   "source": [
    "df_non_event.isnull().sum()"
   ]
  },
  {
   "cell_type": "code",
   "execution_count": null,
   "id": "ce967afd-1766-40b6-8efe-374238a9f7b3",
   "metadata": {},
   "outputs": [],
   "source": []
  },
  {
   "cell_type": "markdown",
   "id": "9e045427-632e-4e8f-b2ff-79510da36f80",
   "metadata": {},
   "source": [
    "Looking at the counts and dtata types non event dataset we need not to do any cleanin on this dataset"
   ]
  },
  {
   "cell_type": "markdown",
   "id": "d0b987b0-49f7-42ba-867f-0d6e9e06fb08",
   "metadata": {},
   "source": [
    "##  EDA and Visualisations"
   ]
  },
  {
   "cell_type": "markdown",
   "id": "993e8066-856d-4c45-9e7e-56b66124d8c1",
   "metadata": {},
   "source": [
    "### 1.Plot appropriate graphs representing the distribution of age and gender in the data set [univariate]."
   ]
  },
  {
   "cell_type": "code",
   "execution_count": 227,
   "id": "aab9349a-fc66-4b30-9a82-11fd82389288",
   "metadata": {},
   "outputs": [],
   "source": [
    "# import visualisation libraries\n",
    "import matplotlib.pyplot as plt\n",
    "import seaborn as sns"
   ]
  },
  {
   "cell_type": "code",
   "execution_count": 242,
   "id": "68b92dd7-1e66-40cf-b594-579b53c12d2f",
   "metadata": {},
   "outputs": [
    {
     "data": {
      "image/png": "[encoded data removed]",
      "text/plain": [
       "<Figure size 360x360 with 1 Axes>"
      ]
     },
     "metadata": {},
     "output_type": "display_data"
    }
   ],
   "source": [
    "#plot the graph from non_event_data dataset\n",
    "sns.displot(df_non_event.age, kde=True, bins = 10)\n",
    "plt.show()"
   ]
  },
  {
   "cell_type": "code",
   "execution_count": 241,
   "id": "4be0052d-419b-48f2-b379-b834c6adfa58",
   "metadata": {},
   "outputs": [
    {
     "data": {
      "image/png": "[encoded data removed]",
      "text/plain": [
       "<Figure size 360x360 with 1 Axes>"
      ]
     },
     "metadata": {},
     "output_type": "display_data"
    }
   ],
   "source": [
    "sns.set_theme(style=\"whitegrid\")\n",
    "sns.displot(df_non_event.gender)\n",
    "plt.show()\n",
    "#df_non_event.gender"
   ]
  },
  {
   "cell_type": "code",
   "execution_count": 244,
   "id": "76da7c46-47e9-4f0e-9d0a-c755b6cb6475",
   "metadata": {},
   "outputs": [],
   "source": [
    "#df_non_event.age.describe()"
   ]
  },
  {
   "cell_type": "code",
   "execution_count": null,
   "id": "312e8c83-9000-4da0-bd35-e23d19f565ad",
   "metadata": {},
   "outputs": [],
   "source": []
  }
 ],
 "metadata": {
  "kernelspec": {
   "display_name": "Python 3",
   "language": "python",
   "name": "python3"
  },
  "language_info": {
   "codemirror_mode": {
    "name": "ipython",
    "version": 3
   },
   "file_extension": ".py",
   "mimetype": "text/x-python",
   "name": "python",
   "nbconvert_exporter": "python",
   "pygments_lexer": "ipython3",
   "version": "3.7.6"
  }
 },
 "nbformat": 4,
 "nbformat_minor": 5
}
