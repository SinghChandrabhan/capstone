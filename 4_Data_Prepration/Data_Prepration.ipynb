{
 "cells": [
  {
   "cell_type": "markdown",
   "id": "cd6c3768-88fd-4407-8e68-f878a58a587d",
   "metadata": {},
   "source": [
    "# Data Prepration"
   ]
  },
  {
   "cell_type": "markdown",
   "id": "531e2848-9525-4664-9f30-d905b42c174e",
   "metadata": {},
   "source": [
    "## Feature engineering for app labels"
   ]
  },
  {
   "cell_type": "markdown",
   "id": "0d84b3c4-143d-4d67-8867-fa3fed3e445e",
   "metadata": {},
   "source": [
    "#### Here we will do another feature engineering and extract all the labels of a app per device id"
   ]
  },
  {
   "cell_type": "code",
   "execution_count": 166,
   "id": "f890aed6-2aff-4ddb-a726-bce663a336ec",
   "metadata": {},
   "outputs": [],
   "source": [
    "# importing libraries\n",
    "import pandas as pd\n",
    "import numpy as np"
   ]
  },
  {
   "cell_type": "code",
   "execution_count": 167,
   "id": "e3b23e39-8dff-4808-be44-6bf65e02ad56",
   "metadata": {},
   "outputs": [],
   "source": [
    "#Load this files from S3\n",
    "df_labels =  pd.read_csv('https://upgradcapstone.s3.amazonaws.com/app-data/app_labels.csv')\n",
    "df_label_cat =  pd.read_csv('https://upgradcapstone.s3.amazonaws.com/app-data/label_categories.csv')\n",
    "df_app_events = pd.read_csv('https://upgradcapstone.s3.amazonaws.com/app-data/app_events.csv')\n",
    "df_test_train = pd.read_csv('https://upgradcapstone.s3.amazonaws.com/train-test-split/train_test_split.csv')\n",
    "#df_labels"
   ]
  },
  {
   "cell_type": "code",
   "execution_count": 168,
   "id": "d9e64528-ed1f-4e0a-896a-099af21ef7cf",
   "metadata": {},
   "outputs": [
    {
     "name": "stderr",
     "output_type": "stream",
     "text": [
      "C:\\Users\\chand\\anaconda3\\lib\\site-packages\\IPython\\core\\interactiveshell.py:3444: DtypeWarning: Columns (15) have mixed types.Specify dtype option on import or set low_memory=False.\n",
      "  exec(code_obj, self.user_global_ns, self.user_ns)\n",
      "C:\\Users\\chand\\anaconda3\\lib\\site-packages\\IPython\\core\\interactiveshell.py:3444: DtypeWarning: Columns (9,10,11,12) have mixed types.Specify dtype option on import or set low_memory=False.\n",
      "  exec(code_obj, self.user_global_ns, self.user_ns)\n"
     ]
    }
   ],
   "source": [
    "# data from previous notebooks\n",
    "df_event =  pd.read_csv('event_data.csv')\n",
    "df_non_event =  pd.read_csv('non_event_data.csv')"
   ]
  },
  {
   "cell_type": "markdown",
   "id": "413ad965-7272-4984-a33d-874edcc054ca",
   "metadata": {},
   "source": [
    "Merge lable and categories dataset"
   ]
  },
  {
   "cell_type": "code",
   "execution_count": 169,
   "id": "21a7e8c2-ec1c-4e73-bebc-e8b54b72912a",
   "metadata": {},
   "outputs": [
    {
     "data": {
      "text/html": [
       "<div>\n",
       "<style scoped>\n",
       "    .dataframe tbody tr th:only-of-type {\n",
       "        vertical-align: middle;\n",
       "    }\n",
       "\n",
       "    .dataframe tbody tr th {\n",
       "        vertical-align: top;\n",
       "    }\n",
       "\n",
       "    .dataframe thead th {\n",
       "        text-align: right;\n",
       "    }\n",
       "</style>\n",
       "<table border=\"1\" class=\"dataframe\">\n",
       "  <thead>\n",
       "    <tr style=\"text-align: right;\">\n",
       "      <th></th>\n",
       "      <th>app_id</th>\n",
       "      <th>label_id</th>\n",
       "      <th>category</th>\n",
       "    </tr>\n",
       "  </thead>\n",
       "  <tbody>\n",
       "    <tr>\n",
       "      <th>0</th>\n",
       "      <td>7324884708820027918</td>\n",
       "      <td>251</td>\n",
       "      <td>Finance</td>\n",
       "    </tr>\n",
       "    <tr>\n",
       "      <th>1</th>\n",
       "      <td>-4494216993218550286</td>\n",
       "      <td>251</td>\n",
       "      <td>Finance</td>\n",
       "    </tr>\n",
       "    <tr>\n",
       "      <th>2</th>\n",
       "      <td>6058196446775239644</td>\n",
       "      <td>406</td>\n",
       "      <td>unknown</td>\n",
       "    </tr>\n",
       "    <tr>\n",
       "      <th>3</th>\n",
       "      <td>6058196446775239644</td>\n",
       "      <td>407</td>\n",
       "      <td>DS_P2P net loan</td>\n",
       "    </tr>\n",
       "    <tr>\n",
       "      <th>4</th>\n",
       "      <td>8694625920731541625</td>\n",
       "      <td>406</td>\n",
       "      <td>unknown</td>\n",
       "    </tr>\n",
       "    <tr>\n",
       "      <th>...</th>\n",
       "      <td>...</td>\n",
       "      <td>...</td>\n",
       "      <td>...</td>\n",
       "    </tr>\n",
       "    <tr>\n",
       "      <th>459938</th>\n",
       "      <td>8899923330228547048</td>\n",
       "      <td>932</td>\n",
       "      <td>travel</td>\n",
       "    </tr>\n",
       "    <tr>\n",
       "      <th>459939</th>\n",
       "      <td>8906927134640865376</td>\n",
       "      <td>932</td>\n",
       "      <td>travel</td>\n",
       "    </tr>\n",
       "    <tr>\n",
       "      <th>459940</th>\n",
       "      <td>9180397886043162136</td>\n",
       "      <td>932</td>\n",
       "      <td>travel</td>\n",
       "    </tr>\n",
       "    <tr>\n",
       "      <th>459941</th>\n",
       "      <td>9204453858293451002</td>\n",
       "      <td>932</td>\n",
       "      <td>travel</td>\n",
       "    </tr>\n",
       "    <tr>\n",
       "      <th>459942</th>\n",
       "      <td>-3820274685127793704</td>\n",
       "      <td>1018</td>\n",
       "      <td>Direct Banking</td>\n",
       "    </tr>\n",
       "  </tbody>\n",
       "</table>\n",
       "<p>459943 rows × 3 columns</p>\n",
       "</div>"
      ],
      "text/plain": [
       "                     app_id  label_id         category\n",
       "0       7324884708820027918       251          Finance\n",
       "1      -4494216993218550286       251          Finance\n",
       "2       6058196446775239644       406          unknown\n",
       "3       6058196446775239644       407  DS_P2P net loan\n",
       "4       8694625920731541625       406          unknown\n",
       "...                     ...       ...              ...\n",
       "459938  8899923330228547048       932           travel\n",
       "459939  8906927134640865376       932           travel\n",
       "459940  9180397886043162136       932           travel\n",
       "459941  9204453858293451002       932           travel\n",
       "459942 -3820274685127793704      1018   Direct Banking\n",
       "\n",
       "[459943 rows x 3 columns]"
      ]
     },
     "execution_count": 169,
     "metadata": {},
     "output_type": "execute_result"
    }
   ],
   "source": [
    "df_join_lable_cat = df_labels.merge(df_label_cat, how='left', on='label_id')\n",
    "df_join_lable_cat"
   ]
  },
  {
   "cell_type": "code",
   "execution_count": 170,
   "id": "c0fe6009-e2a1-4617-b089-6d0c552e3f5c",
   "metadata": {},
   "outputs": [
    {
     "data": {
      "text/plain": [
       "Industry tag             56902\n",
       "Custom label             53936\n",
       "Tencent                  49320\n",
       "game                     48707\n",
       "Property Industry 2.0    45697\n",
       "                         ...  \n",
       "Intelligent hardware         1\n",
       "poker and chess              1\n",
       "Children puzzle game         1\n",
       "game-Gem Elimination         1\n",
       "psychology                   1\n",
       "Name: category, Length: 473, dtype: int64"
      ]
     },
     "execution_count": 170,
     "metadata": {},
     "output_type": "execute_result"
    }
   ],
   "source": [
    "df_join_lable_cat.category.value_counts()\n",
    "#df_app_labels.groupby('category')['category'].count()"
   ]
  },
  {
   "cell_type": "code",
   "execution_count": null,
   "id": "8599069b-c1fd-484f-b113-7a5d35d872c4",
   "metadata": {},
   "outputs": [],
   "source": []
  },
  {
   "cell_type": "markdown",
   "id": "440b6f93-549b-419e-83a6-79487ac5d28f",
   "metadata": {},
   "source": [
    "Here we calulcate all the labels belonging to a particular app_id"
   ]
  },
  {
   "cell_type": "code",
   "execution_count": 171,
   "id": "0fc669a2-4aa6-43d6-99ed-82abd955fb9d",
   "metadata": {},
   "outputs": [
    {
     "data": {
      "text/plain": [
       "app_id\n",
       "-9223281467940916832                796 795 794 405\n",
       "-9222877069545393219                            135\n",
       "-9222785464897897681                812 795 794 405\n",
       "-9222198347540756780                810 795 794 405\n",
       "-9221970424041518544    714 704 548 813 795 794 405\n",
       "Name: label_id, dtype: object"
      ]
     },
     "execution_count": 171,
     "metadata": {},
     "output_type": "execute_result"
    }
   ],
   "source": [
    "df_app_labels = df_join_lable_cat.groupby('app_id').label_id.apply(lambda x: ' '.join(str(s) for s in x))\n",
    "df_app_labels.head()"
   ]
  },
  {
   "cell_type": "code",
   "execution_count": 172,
   "id": "37e7bcba-5b8d-4755-8101-3c032f44804e",
   "metadata": {},
   "outputs": [],
   "source": [
    "# with the app abd its label data, join this with app events data\n",
    "df_app_events ['app_label'] = df_app_events['app_id'].map(df_app_labels)"
   ]
  },
  {
   "cell_type": "code",
   "execution_count": 173,
   "id": "65e9c4bc-effa-4d8e-858c-412211c3ad6b",
   "metadata": {},
   "outputs": [
    {
     "data": {
      "text/html": [
       "<div>\n",
       "<style scoped>\n",
       "    .dataframe tbody tr th:only-of-type {\n",
       "        vertical-align: middle;\n",
       "    }\n",
       "\n",
       "    .dataframe tbody tr th {\n",
       "        vertical-align: top;\n",
       "    }\n",
       "\n",
       "    .dataframe thead th {\n",
       "        text-align: right;\n",
       "    }\n",
       "</style>\n",
       "<table border=\"1\" class=\"dataframe\">\n",
       "  <thead>\n",
       "    <tr style=\"text-align: right;\">\n",
       "      <th></th>\n",
       "      <th>event_id</th>\n",
       "      <th>app_id</th>\n",
       "      <th>is_installed</th>\n",
       "      <th>is_active</th>\n",
       "      <th>app_label</th>\n",
       "    </tr>\n",
       "  </thead>\n",
       "  <tbody>\n",
       "    <tr>\n",
       "      <th>0</th>\n",
       "      <td>2</td>\n",
       "      <td>5927333115845830913</td>\n",
       "      <td>1</td>\n",
       "      <td>1</td>\n",
       "      <td>549 710 704 548 172</td>\n",
       "    </tr>\n",
       "    <tr>\n",
       "      <th>1</th>\n",
       "      <td>2</td>\n",
       "      <td>-5720078949152207372</td>\n",
       "      <td>1</td>\n",
       "      <td>0</td>\n",
       "      <td>721 704 548 302 303</td>\n",
       "    </tr>\n",
       "    <tr>\n",
       "      <th>2</th>\n",
       "      <td>2</td>\n",
       "      <td>-1633887856876571208</td>\n",
       "      <td>1</td>\n",
       "      <td>0</td>\n",
       "      <td>251 263 306 302 405 730 756 757 775 779 783 1007</td>\n",
       "    </tr>\n",
       "    <tr>\n",
       "      <th>3</th>\n",
       "      <td>2</td>\n",
       "      <td>-653184325010919369</td>\n",
       "      <td>1</td>\n",
       "      <td>1</td>\n",
       "      <td>405 730 747 749 776 782 785 255 251 1014</td>\n",
       "    </tr>\n",
       "    <tr>\n",
       "      <th>4</th>\n",
       "      <td>2</td>\n",
       "      <td>8693964245073640147</td>\n",
       "      <td>1</td>\n",
       "      <td>1</td>\n",
       "      <td>549 710 704 548 172</td>\n",
       "    </tr>\n",
       "  </tbody>\n",
       "</table>\n",
       "</div>"
      ],
      "text/plain": [
       "   event_id               app_id  is_installed  is_active  \\\n",
       "0         2  5927333115845830913             1          1   \n",
       "1         2 -5720078949152207372             1          0   \n",
       "2         2 -1633887856876571208             1          0   \n",
       "3         2  -653184325010919369             1          1   \n",
       "4         2  8693964245073640147             1          1   \n",
       "\n",
       "                                          app_label  \n",
       "0                               549 710 704 548 172  \n",
       "1                               721 704 548 302 303  \n",
       "2  251 263 306 302 405 730 756 757 775 779 783 1007  \n",
       "3          405 730 747 749 776 782 785 255 251 1014  \n",
       "4                               549 710 704 548 172  "
      ]
     },
     "execution_count": 173,
     "metadata": {},
     "output_type": "execute_result"
    }
   ],
   "source": [
    "df_app_events.head()"
   ]
  },
  {
   "cell_type": "markdown",
   "id": "812b1fd4-d302-4319-a3fd-909635a49cda",
   "metadata": {},
   "source": [
    "Now lts calulate all the labels that belong to event ids"
   ]
  },
  {
   "cell_type": "code",
   "execution_count": 174,
   "id": "ac0b096e-e47d-40d6-bd81-f21e4b20c284",
   "metadata": {},
   "outputs": [
    {
     "data": {
      "text/plain": [
       "event_id\n",
       "3252935    549 713 704 548 237 168 713 704 548 549 710 70...\n",
       "3252936              713 704 548 549 710 704 548 172 302 303\n",
       "3252937    706 704 548 178 549 721 704 302 303 548 183 54...\n",
       "3252946    1012 706 704 548 548 549 549 721 704 302 303 5...\n",
       "3252948    549 713 704 548 549 715 704 306 302 548 167 54...\n",
       "Name: app_label, dtype: object"
      ]
     },
     "execution_count": 174,
     "metadata": {},
     "output_type": "execute_result"
    }
   ],
   "source": [
    "df_event_labels = df_app_events.groupby('event_id').app_label.apply(lambda x: ' '.join(str(s) for s in x))\n",
    "df_event_labels.tail()"
   ]
  },
  {
   "cell_type": "code",
   "execution_count": 175,
   "id": "82c553f3-0fc9-41bc-b5aa-62646653897f",
   "metadata": {},
   "outputs": [
    {
     "data": {
      "text/html": [
       "<div>\n",
       "<style scoped>\n",
       "    .dataframe tbody tr th:only-of-type {\n",
       "        vertical-align: middle;\n",
       "    }\n",
       "\n",
       "    .dataframe tbody tr th {\n",
       "        vertical-align: top;\n",
       "    }\n",
       "\n",
       "    .dataframe thead th {\n",
       "        text-align: right;\n",
       "    }\n",
       "</style>\n",
       "<table border=\"1\" class=\"dataframe\">\n",
       "  <thead>\n",
       "    <tr style=\"text-align: right;\">\n",
       "      <th></th>\n",
       "      <th>device_id</th>\n",
       "      <th>gender</th>\n",
       "      <th>age</th>\n",
       "      <th>group</th>\n",
       "      <th>event_id</th>\n",
       "      <th>timestamp</th>\n",
       "      <th>longitude</th>\n",
       "      <th>latitude</th>\n",
       "      <th>has_event</th>\n",
       "      <th>week_day</th>\n",
       "      <th>hour_day</th>\n",
       "      <th>week</th>\n",
       "      <th>year</th>\n",
       "      <th>group_cat</th>\n",
       "      <th>hour_day_cat</th>\n",
       "      <th>loc_cluster</th>\n",
       "      <th>app_labels</th>\n",
       "    </tr>\n",
       "  </thead>\n",
       "  <tbody>\n",
       "    <tr>\n",
       "      <th>1215593</th>\n",
       "      <td>4521177520949810000</td>\n",
       "      <td>F</td>\n",
       "      <td>26</td>\n",
       "      <td>F25-32</td>\n",
       "      <td>1458305.0</td>\n",
       "      <td>2016-05-04 18:44:30</td>\n",
       "      <td>0.0</td>\n",
       "      <td>0.0</td>\n",
       "      <td>1</td>\n",
       "      <td>Wednesday</td>\n",
       "      <td>18</td>\n",
       "      <td>18</td>\n",
       "      <td>2016</td>\n",
       "      <td>25-32</td>\n",
       "      <td>Afternoon</td>\n",
       "      <td>Unknown</td>\n",
       "      <td>548 549 711 714 548 704 813 795 794 405 27 549...</td>\n",
       "    </tr>\n",
       "    <tr>\n",
       "      <th>1215594</th>\n",
       "      <td>4521177520949810000</td>\n",
       "      <td>F</td>\n",
       "      <td>26</td>\n",
       "      <td>F25-32</td>\n",
       "      <td>504315.0</td>\n",
       "      <td>2016-05-05 09:43:15</td>\n",
       "      <td>0.0</td>\n",
       "      <td>0.0</td>\n",
       "      <td>1</td>\n",
       "      <td>Thursday</td>\n",
       "      <td>9</td>\n",
       "      <td>18</td>\n",
       "      <td>2016</td>\n",
       "      <td>25-32</td>\n",
       "      <td>Morning</td>\n",
       "      <td>Unknown</td>\n",
       "      <td>548 549 711 714 548 704 813 795 794 405 27 549...</td>\n",
       "    </tr>\n",
       "    <tr>\n",
       "      <th>1215595</th>\n",
       "      <td>7532333004539760000</td>\n",
       "      <td>M</td>\n",
       "      <td>29</td>\n",
       "      <td>M25-32</td>\n",
       "      <td>511683.0</td>\n",
       "      <td>2016-05-02 18:02:21</td>\n",
       "      <td>0.0</td>\n",
       "      <td>0.0</td>\n",
       "      <td>1</td>\n",
       "      <td>Monday</td>\n",
       "      <td>18</td>\n",
       "      <td>18</td>\n",
       "      <td>2016</td>\n",
       "      <td>25-32</td>\n",
       "      <td>Afternoon</td>\n",
       "      <td>Unknown</td>\n",
       "      <td>549 721 704 302 303 548 183 549 710 704 548 17...</td>\n",
       "    </tr>\n",
       "    <tr>\n",
       "      <th>1215596</th>\n",
       "      <td>7532333004539760000</td>\n",
       "      <td>M</td>\n",
       "      <td>29</td>\n",
       "      <td>M25-32</td>\n",
       "      <td>1725229.0</td>\n",
       "      <td>2016-05-02 18:07:45</td>\n",
       "      <td>0.0</td>\n",
       "      <td>0.0</td>\n",
       "      <td>1</td>\n",
       "      <td>Monday</td>\n",
       "      <td>18</td>\n",
       "      <td>18</td>\n",
       "      <td>2016</td>\n",
       "      <td>25-32</td>\n",
       "      <td>Afternoon</td>\n",
       "      <td>Unknown</td>\n",
       "      <td>549 721 704 302 303 548 183 549 710 704 548 17...</td>\n",
       "    </tr>\n",
       "    <tr>\n",
       "      <th>1215597</th>\n",
       "      <td>7532333004539760000</td>\n",
       "      <td>M</td>\n",
       "      <td>29</td>\n",
       "      <td>M25-32</td>\n",
       "      <td>1545030.0</td>\n",
       "      <td>2016-05-02 18:02:37</td>\n",
       "      <td>0.0</td>\n",
       "      <td>0.0</td>\n",
       "      <td>1</td>\n",
       "      <td>Monday</td>\n",
       "      <td>18</td>\n",
       "      <td>18</td>\n",
       "      <td>2016</td>\n",
       "      <td>25-32</td>\n",
       "      <td>Afternoon</td>\n",
       "      <td>Unknown</td>\n",
       "      <td>549 721 704 302 303 548 183 549 710 704 548 17...</td>\n",
       "    </tr>\n",
       "  </tbody>\n",
       "</table>\n",
       "</div>"
      ],
      "text/plain": [
       "                   device_id gender  age   group   event_id  \\\n",
       "1215593  4521177520949810000      F   26  F25-32  1458305.0   \n",
       "1215594  4521177520949810000      F   26  F25-32   504315.0   \n",
       "1215595  7532333004539760000      M   29  M25-32   511683.0   \n",
       "1215596  7532333004539760000      M   29  M25-32  1725229.0   \n",
       "1215597  7532333004539760000      M   29  M25-32  1545030.0   \n",
       "\n",
       "                   timestamp  longitude  latitude  has_event   week_day  \\\n",
       "1215593  2016-05-04 18:44:30        0.0       0.0          1  Wednesday   \n",
       "1215594  2016-05-05 09:43:15        0.0       0.0          1   Thursday   \n",
       "1215595  2016-05-02 18:02:21        0.0       0.0          1     Monday   \n",
       "1215596  2016-05-02 18:07:45        0.0       0.0          1     Monday   \n",
       "1215597  2016-05-02 18:02:37        0.0       0.0          1     Monday   \n",
       "\n",
       "         hour_day  week  year group_cat hour_day_cat loc_cluster  \\\n",
       "1215593        18    18  2016     25-32    Afternoon     Unknown   \n",
       "1215594         9    18  2016     25-32      Morning     Unknown   \n",
       "1215595        18    18  2016     25-32    Afternoon     Unknown   \n",
       "1215596        18    18  2016     25-32    Afternoon     Unknown   \n",
       "1215597        18    18  2016     25-32    Afternoon     Unknown   \n",
       "\n",
       "                                                app_labels  \n",
       "1215593  548 549 711 714 548 704 813 795 794 405 27 549...  \n",
       "1215594  548 549 711 714 548 704 813 795 794 405 27 549...  \n",
       "1215595  549 721 704 302 303 548 183 549 710 704 548 17...  \n",
       "1215596  549 721 704 302 303 548 183 549 710 704 548 17...  \n",
       "1215597  549 721 704 302 303 548 183 549 710 704 548 17...  "
      ]
     },
     "execution_count": 175,
     "metadata": {},
     "output_type": "execute_result"
    }
   ],
   "source": [
    "df_event['app_labels'] = df_event.event_id.map(df_event_labels)\n",
    "df_event.app_labels = df_event.app_labels.fillna('Missing')\n",
    "df_event.tail()"
   ]
  },
  {
   "cell_type": "code",
   "execution_count": 176,
   "id": "d8ce79f1-ce58-4e23-95f1-ab64f35be0bd",
   "metadata": {},
   "outputs": [
    {
     "data": {
      "text/plain": [
       "device_id\n",
       "-9222956879900150000    959 960 548 1007 959 960 548 1007 959 960 548 ...\n",
       "-9221026417907250000    Missing 549 710 704 548 172 721 704 548 302 30...\n",
       "-9220830859283100000    710 704 548 549 710 704 548 172 721 704 548 30...\n",
       "-9220061629197650000    Missing Missing Missing 1012 549 723 704 302 3...\n",
       "-9218960997324660000    1012 713 704 548 302 303 163 549 710 704 548 1...\n",
       "Name: app_labels, dtype: object"
      ]
     },
     "execution_count": 176,
     "metadata": {},
     "output_type": "execute_result"
    }
   ],
   "source": [
    "df_deviceId_labels = df_event.groupby('device_id').app_labels.apply(lambda x: ' '.join(str(s) for s in x))\n",
    "df_deviceId_labels.head()"
   ]
  },
  {
   "cell_type": "code",
   "execution_count": 177,
   "id": "23258431-fa51-4850-ac76-bb181dd74c0b",
   "metadata": {},
   "outputs": [
    {
     "data": {
      "text/html": [
       "<div>\n",
       "<style scoped>\n",
       "    .dataframe tbody tr th:only-of-type {\n",
       "        vertical-align: middle;\n",
       "    }\n",
       "\n",
       "    .dataframe tbody tr th {\n",
       "        vertical-align: top;\n",
       "    }\n",
       "\n",
       "    .dataframe thead th {\n",
       "        text-align: right;\n",
       "    }\n",
       "</style>\n",
       "<table border=\"1\" class=\"dataframe\">\n",
       "  <thead>\n",
       "    <tr style=\"text-align: right;\">\n",
       "      <th></th>\n",
       "      <th>device_id</th>\n",
       "      <th>gender</th>\n",
       "      <th>age</th>\n",
       "      <th>group</th>\n",
       "      <th>phone_brand</th>\n",
       "      <th>device_model</th>\n",
       "      <th>group_cat</th>\n",
       "      <th>avg_events</th>\n",
       "      <th>most_active_hour</th>\n",
       "      <th>loc_chng_morning</th>\n",
       "      <th>loc_chng_afternoon</th>\n",
       "      <th>loc_chng_evening</th>\n",
       "      <th>loc_chng_night</th>\n",
       "      <th>loc_cluster</th>\n",
       "      <th>app_lables</th>\n",
       "    </tr>\n",
       "  </thead>\n",
       "  <tbody>\n",
       "    <tr>\n",
       "      <th>0</th>\n",
       "      <td>-7548291590301750000</td>\n",
       "      <td>M</td>\n",
       "      <td>33</td>\n",
       "      <td>M32+</td>\n",
       "      <td>Huawei</td>\n",
       "      <td>è£è€€3C</td>\n",
       "      <td>33-45</td>\n",
       "      <td>58.4</td>\n",
       "      <td>15.0</td>\n",
       "      <td>True</td>\n",
       "      <td>True</td>\n",
       "      <td>True</td>\n",
       "      <td>True</td>\n",
       "      <td>0</td>\n",
       "      <td>Missing Missing Missing Missing Missing Missin...</td>\n",
       "    </tr>\n",
       "    <tr>\n",
       "      <th>1</th>\n",
       "      <td>-7548291590301750000</td>\n",
       "      <td>M</td>\n",
       "      <td>33</td>\n",
       "      <td>M32+</td>\n",
       "      <td>Huawei</td>\n",
       "      <td>è£è€€3C</td>\n",
       "      <td>33-45</td>\n",
       "      <td>58.4</td>\n",
       "      <td>15.0</td>\n",
       "      <td>True</td>\n",
       "      <td>True</td>\n",
       "      <td>True</td>\n",
       "      <td>True</td>\n",
       "      <td>0</td>\n",
       "      <td>Missing Missing Missing Missing Missing Missin...</td>\n",
       "    </tr>\n",
       "  </tbody>\n",
       "</table>\n",
       "</div>"
      ],
      "text/plain": [
       "             device_id gender  age group phone_brand device_model group_cat  \\\n",
       "0 -7548291590301750000      M   33  M32+      Huawei     è£è€€3C     33-45   \n",
       "1 -7548291590301750000      M   33  M32+      Huawei     è£è€€3C     33-45   \n",
       "\n",
       "   avg_events  most_active_hour loc_chng_morning loc_chng_afternoon  \\\n",
       "0        58.4              15.0             True               True   \n",
       "1        58.4              15.0             True               True   \n",
       "\n",
       "  loc_chng_evening loc_chng_night loc_cluster  \\\n",
       "0             True           True           0   \n",
       "1             True           True           0   \n",
       "\n",
       "                                          app_lables  \n",
       "0  Missing Missing Missing Missing Missing Missin...  \n",
       "1  Missing Missing Missing Missing Missing Missin...  "
      ]
     },
     "execution_count": 177,
     "metadata": {},
     "output_type": "execute_result"
    }
   ],
   "source": [
    "# collect the app lables against each device id\n",
    "df_non_event['app_lables']= df_non_event['device_id'].map(df_deviceId_labels)\n",
    "df_non_event.head(2)"
   ]
  },
  {
   "cell_type": "code",
   "execution_count": 178,
   "id": "8c4fc402-057c-4a90-8cab-3206ac3d4598",
   "metadata": {},
   "outputs": [],
   "source": [
    "# here we can get rid of unused datasets\n",
    "del df_join_lable_cat\n",
    "del df_app_labels\n",
    "del df_event_labels\n",
    "del df_deviceId_labels"
   ]
  },
  {
   "cell_type": "code",
   "execution_count": 179,
   "id": "132e887f-e753-4991-8c27-4887f3ec776d",
   "metadata": {},
   "outputs": [],
   "source": [
    "#drop all the duplicates\n",
    "df_non_event.drop_duplicates(subset=['device_id'],inplace=True)"
   ]
  },
  {
   "cell_type": "code",
   "execution_count": 180,
   "id": "b2b704ec-67f4-49ee-aaf9-4637fcb8555c",
   "metadata": {},
   "outputs": [
    {
     "data": {
      "text/html": [
       "<div>\n",
       "<style scoped>\n",
       "    .dataframe tbody tr th:only-of-type {\n",
       "        vertical-align: middle;\n",
       "    }\n",
       "\n",
       "    .dataframe tbody tr th {\n",
       "        vertical-align: top;\n",
       "    }\n",
       "\n",
       "    .dataframe thead th {\n",
       "        text-align: right;\n",
       "    }\n",
       "</style>\n",
       "<table border=\"1\" class=\"dataframe\">\n",
       "  <thead>\n",
       "    <tr style=\"text-align: right;\">\n",
       "      <th></th>\n",
       "      <th>device_id</th>\n",
       "      <th>gender</th>\n",
       "      <th>age</th>\n",
       "      <th>group</th>\n",
       "      <th>phone_brand</th>\n",
       "      <th>device_model</th>\n",
       "      <th>group_cat</th>\n",
       "      <th>avg_events</th>\n",
       "      <th>most_active_hour</th>\n",
       "      <th>loc_chng_morning</th>\n",
       "      <th>loc_chng_afternoon</th>\n",
       "      <th>loc_chng_evening</th>\n",
       "      <th>loc_chng_night</th>\n",
       "      <th>loc_cluster</th>\n",
       "      <th>app_lables</th>\n",
       "    </tr>\n",
       "  </thead>\n",
       "  <tbody>\n",
       "    <tr>\n",
       "      <th>0</th>\n",
       "      <td>-7548291590301750000</td>\n",
       "      <td>M</td>\n",
       "      <td>33</td>\n",
       "      <td>M32+</td>\n",
       "      <td>Huawei</td>\n",
       "      <td>è£è€€3C</td>\n",
       "      <td>33-45</td>\n",
       "      <td>58.4</td>\n",
       "      <td>15.0</td>\n",
       "      <td>True</td>\n",
       "      <td>True</td>\n",
       "      <td>True</td>\n",
       "      <td>True</td>\n",
       "      <td>0</td>\n",
       "      <td>Missing Missing Missing Missing Missing Missin...</td>\n",
       "    </tr>\n",
       "    <tr>\n",
       "      <th>292</th>\n",
       "      <td>6943568600617760000</td>\n",
       "      <td>M</td>\n",
       "      <td>37</td>\n",
       "      <td>M32+</td>\n",
       "      <td>Xiaomi</td>\n",
       "      <td>xnote</td>\n",
       "      <td>33-45</td>\n",
       "      <td>1.0</td>\n",
       "      <td>11.0</td>\n",
       "      <td>False</td>\n",
       "      <td>False</td>\n",
       "      <td>False</td>\n",
       "      <td>False</td>\n",
       "      <td>Unknown</td>\n",
       "      <td>713 704 548 549 710 704 548 172 179 179 548 54...</td>\n",
       "    </tr>\n",
       "  </tbody>\n",
       "</table>\n",
       "</div>"
      ],
      "text/plain": [
       "               device_id gender  age group phone_brand device_model group_cat  \\\n",
       "0   -7548291590301750000      M   33  M32+      Huawei     è£è€€3C     33-45   \n",
       "292  6943568600617760000      M   37  M32+      Xiaomi        xnote     33-45   \n",
       "\n",
       "     avg_events  most_active_hour loc_chng_morning loc_chng_afternoon  \\\n",
       "0          58.4              15.0             True               True   \n",
       "292         1.0              11.0            False              False   \n",
       "\n",
       "    loc_chng_evening loc_chng_night loc_cluster  \\\n",
       "0               True           True           0   \n",
       "292            False          False     Unknown   \n",
       "\n",
       "                                            app_lables  \n",
       "0    Missing Missing Missing Missing Missing Missin...  \n",
       "292  713 704 548 549 710 704 548 172 179 179 548 54...  "
      ]
     },
     "execution_count": 180,
     "metadata": {},
     "output_type": "execute_result"
    }
   ],
   "source": [
    "df_non_event.head(2)"
   ]
  },
  {
   "cell_type": "markdown",
   "id": "ce691412-0d95-44d1-be6e-63a43b2bdb01",
   "metadata": {},
   "source": [
    "## Convert the features in One-Hot-Encoded features"
   ]
  },
  {
   "cell_type": "code",
   "execution_count": 181,
   "id": "72e0067d-3dba-4bc5-861f-fa66b2c6f7f5",
   "metadata": {},
   "outputs": [],
   "source": [
    "from sklearn.feature_extraction.text import CountVectorizer"
   ]
  },
  {
   "cell_type": "code",
   "execution_count": 182,
   "id": "99028149-c26d-4abb-8fab-bb85e9b9232f",
   "metadata": {},
   "outputs": [],
   "source": [
    "vectorizer = CountVectorizer(binary=True)\n",
    "df_app_lab_vectorized = vectorizer.fit_transform(df_non_event['app_lables'].fillna('Missing')) \n",
    "#str(vectorizer.get_feature_names())"
   ]
  },
  {
   "cell_type": "code",
   "execution_count": 183,
   "id": "d7340001-3df0-48e5-8855-c3e8b6f4cbd1",
   "metadata": {},
   "outputs": [
    {
     "name": "stderr",
     "output_type": "stream",
     "text": [
      "C:\\Users\\chand\\anaconda3\\lib\\site-packages\\sklearn\\utils\\deprecation.py:87: FutureWarning: Function get_feature_names is deprecated; get_feature_names is deprecated in 1.0 and will be removed in 1.2. Please use get_feature_names_out instead.\n",
      "  warnings.warn(msg, category=FutureWarning)\n"
     ]
    },
    {
     "data": {
      "text/html": [
       "<div>\n",
       "<style scoped>\n",
       "    .dataframe tbody tr th:only-of-type {\n",
       "        vertical-align: middle;\n",
       "    }\n",
       "\n",
       "    .dataframe tbody tr th {\n",
       "        vertical-align: top;\n",
       "    }\n",
       "\n",
       "    .dataframe thead th {\n",
       "        text-align: right;\n",
       "    }\n",
       "</style>\n",
       "<table border=\"1\" class=\"dataframe\">\n",
       "  <thead>\n",
       "    <tr style=\"text-align: right;\">\n",
       "      <th></th>\n",
       "      <th>10</th>\n",
       "      <th>100</th>\n",
       "      <th>1002</th>\n",
       "      <th>1003</th>\n",
       "      <th>1005</th>\n",
       "      <th>1006</th>\n",
       "      <th>1007</th>\n",
       "      <th>1008</th>\n",
       "      <th>1009</th>\n",
       "      <th>101</th>\n",
       "      <th>...</th>\n",
       "      <th>99</th>\n",
       "      <th>990</th>\n",
       "      <th>991</th>\n",
       "      <th>993</th>\n",
       "      <th>995</th>\n",
       "      <th>996</th>\n",
       "      <th>997</th>\n",
       "      <th>998</th>\n",
       "      <th>999</th>\n",
       "      <th>missing</th>\n",
       "    </tr>\n",
       "    <tr>\n",
       "      <th>device_id</th>\n",
       "      <th></th>\n",
       "      <th></th>\n",
       "      <th></th>\n",
       "      <th></th>\n",
       "      <th></th>\n",
       "      <th></th>\n",
       "      <th></th>\n",
       "      <th></th>\n",
       "      <th></th>\n",
       "      <th></th>\n",
       "      <th></th>\n",
       "      <th></th>\n",
       "      <th></th>\n",
       "      <th></th>\n",
       "      <th></th>\n",
       "      <th></th>\n",
       "      <th></th>\n",
       "      <th></th>\n",
       "      <th></th>\n",
       "      <th></th>\n",
       "      <th></th>\n",
       "    </tr>\n",
       "  </thead>\n",
       "  <tbody>\n",
       "    <tr>\n",
       "      <th>-7548291590301750000</th>\n",
       "      <td>0</td>\n",
       "      <td>0</td>\n",
       "      <td>0</td>\n",
       "      <td>0</td>\n",
       "      <td>0</td>\n",
       "      <td>0</td>\n",
       "      <td>0</td>\n",
       "      <td>0</td>\n",
       "      <td>0</td>\n",
       "      <td>0</td>\n",
       "      <td>...</td>\n",
       "      <td>0</td>\n",
       "      <td>0</td>\n",
       "      <td>0</td>\n",
       "      <td>0</td>\n",
       "      <td>0</td>\n",
       "      <td>0</td>\n",
       "      <td>0</td>\n",
       "      <td>0</td>\n",
       "      <td>0</td>\n",
       "      <td>1</td>\n",
       "    </tr>\n",
       "    <tr>\n",
       "      <th>6943568600617760000</th>\n",
       "      <td>0</td>\n",
       "      <td>0</td>\n",
       "      <td>0</td>\n",
       "      <td>0</td>\n",
       "      <td>0</td>\n",
       "      <td>0</td>\n",
       "      <td>0</td>\n",
       "      <td>0</td>\n",
       "      <td>0</td>\n",
       "      <td>0</td>\n",
       "      <td>...</td>\n",
       "      <td>0</td>\n",
       "      <td>0</td>\n",
       "      <td>0</td>\n",
       "      <td>0</td>\n",
       "      <td>0</td>\n",
       "      <td>0</td>\n",
       "      <td>0</td>\n",
       "      <td>0</td>\n",
       "      <td>0</td>\n",
       "      <td>0</td>\n",
       "    </tr>\n",
       "    <tr>\n",
       "      <th>5441349705980020000</th>\n",
       "      <td>0</td>\n",
       "      <td>1</td>\n",
       "      <td>0</td>\n",
       "      <td>1</td>\n",
       "      <td>0</td>\n",
       "      <td>0</td>\n",
       "      <td>0</td>\n",
       "      <td>1</td>\n",
       "      <td>0</td>\n",
       "      <td>0</td>\n",
       "      <td>...</td>\n",
       "      <td>0</td>\n",
       "      <td>0</td>\n",
       "      <td>0</td>\n",
       "      <td>0</td>\n",
       "      <td>0</td>\n",
       "      <td>0</td>\n",
       "      <td>0</td>\n",
       "      <td>0</td>\n",
       "      <td>0</td>\n",
       "      <td>0</td>\n",
       "    </tr>\n",
       "  </tbody>\n",
       "</table>\n",
       "<p>3 rows × 480 columns</p>\n",
       "</div>"
      ],
      "text/plain": [
       "                      10  100  1002  1003  1005  1006  1007  1008  1009  101  \\\n",
       "device_id                                                                      \n",
       "-7548291590301750000   0    0     0     0     0     0     0     0     0    0   \n",
       " 6943568600617760000   0    0     0     0     0     0     0     0     0    0   \n",
       " 5441349705980020000   0    1     0     1     0     0     0     1     0    0   \n",
       "\n",
       "                      ...  99  990  991  993  995  996  997  998  999  missing  \n",
       "device_id             ...                                                       \n",
       "-7548291590301750000  ...   0    0    0    0    0    0    0    0    0        1  \n",
       " 6943568600617760000  ...   0    0    0    0    0    0    0    0    0        0  \n",
       " 5441349705980020000  ...   0    0    0    0    0    0    0    0    0        0  \n",
       "\n",
       "[3 rows x 480 columns]"
      ]
     },
     "execution_count": 183,
     "metadata": {},
     "output_type": "execute_result"
    }
   ],
   "source": [
    "df_app_vects = pd.DataFrame(df_app_lab_vectorized.toarray(), columns=vectorizer.get_feature_names(), index=df_non_event.device_id)\n",
    "df_app_vects.head(3)"
   ]
  },
  {
   "cell_type": "code",
   "execution_count": 184,
   "id": "fc5b5384-445b-4f49-9ded-c6bc7d7a1088",
   "metadata": {},
   "outputs": [
    {
     "data": {
      "text/html": [
       "<div>\n",
       "<style scoped>\n",
       "    .dataframe tbody tr th:only-of-type {\n",
       "        vertical-align: middle;\n",
       "    }\n",
       "\n",
       "    .dataframe tbody tr th {\n",
       "        vertical-align: top;\n",
       "    }\n",
       "\n",
       "    .dataframe thead th {\n",
       "        text-align: right;\n",
       "    }\n",
       "</style>\n",
       "<table border=\"1\" class=\"dataframe\">\n",
       "  <thead>\n",
       "    <tr style=\"text-align: right;\">\n",
       "      <th></th>\n",
       "      <th>device_id</th>\n",
       "      <th>gender</th>\n",
       "      <th>age</th>\n",
       "      <th>group</th>\n",
       "      <th>phone_brand</th>\n",
       "      <th>device_model</th>\n",
       "      <th>group_cat</th>\n",
       "      <th>avg_events</th>\n",
       "      <th>most_active_hour</th>\n",
       "      <th>loc_chng_morning</th>\n",
       "      <th>...</th>\n",
       "      <th>99</th>\n",
       "      <th>990</th>\n",
       "      <th>991</th>\n",
       "      <th>993</th>\n",
       "      <th>995</th>\n",
       "      <th>996</th>\n",
       "      <th>997</th>\n",
       "      <th>998</th>\n",
       "      <th>999</th>\n",
       "      <th>missing</th>\n",
       "    </tr>\n",
       "  </thead>\n",
       "  <tbody>\n",
       "    <tr>\n",
       "      <th>0</th>\n",
       "      <td>-7548291590301750000</td>\n",
       "      <td>M</td>\n",
       "      <td>33</td>\n",
       "      <td>M32+</td>\n",
       "      <td>Huawei</td>\n",
       "      <td>è£è€€3C</td>\n",
       "      <td>33-45</td>\n",
       "      <td>58.4</td>\n",
       "      <td>15.0</td>\n",
       "      <td>True</td>\n",
       "      <td>...</td>\n",
       "      <td>0</td>\n",
       "      <td>0</td>\n",
       "      <td>0</td>\n",
       "      <td>0</td>\n",
       "      <td>0</td>\n",
       "      <td>0</td>\n",
       "      <td>0</td>\n",
       "      <td>0</td>\n",
       "      <td>0</td>\n",
       "      <td>1</td>\n",
       "    </tr>\n",
       "    <tr>\n",
       "      <th>292</th>\n",
       "      <td>6943568600617760000</td>\n",
       "      <td>M</td>\n",
       "      <td>37</td>\n",
       "      <td>M32+</td>\n",
       "      <td>Xiaomi</td>\n",
       "      <td>xnote</td>\n",
       "      <td>33-45</td>\n",
       "      <td>1.0</td>\n",
       "      <td>11.0</td>\n",
       "      <td>False</td>\n",
       "      <td>...</td>\n",
       "      <td>0</td>\n",
       "      <td>0</td>\n",
       "      <td>0</td>\n",
       "      <td>0</td>\n",
       "      <td>0</td>\n",
       "      <td>0</td>\n",
       "      <td>0</td>\n",
       "      <td>0</td>\n",
       "      <td>0</td>\n",
       "      <td>0</td>\n",
       "    </tr>\n",
       "  </tbody>\n",
       "</table>\n",
       "<p>2 rows × 495 columns</p>\n",
       "</div>"
      ],
      "text/plain": [
       "               device_id gender  age group phone_brand device_model group_cat  \\\n",
       "0   -7548291590301750000      M   33  M32+      Huawei     è£è€€3C     33-45   \n",
       "292  6943568600617760000      M   37  M32+      Xiaomi        xnote     33-45   \n",
       "\n",
       "     avg_events  most_active_hour loc_chng_morning  ... 99 990 991 993 995  \\\n",
       "0          58.4              15.0             True  ...  0   0   0   0   0   \n",
       "292         1.0              11.0            False  ...  0   0   0   0   0   \n",
       "\n",
       "     996  997  998  999  missing  \n",
       "0      0    0    0    0        1  \n",
       "292    0    0    0    0        0  \n",
       "\n",
       "[2 rows x 495 columns]"
      ]
     },
     "execution_count": 184,
     "metadata": {},
     "output_type": "execute_result"
    }
   ],
   "source": [
    "df_non_event = df_non_event.merge(df_app_vects, how='left', left_on='device_id', right_index=True)\n",
    "df_non_event.head(2)\n"
   ]
  },
  {
   "cell_type": "code",
   "execution_count": 185,
   "id": "68e64be2-22a1-4252-af2d-71321816e619",
   "metadata": {},
   "outputs": [],
   "source": [
    "# updated boolean values to int\n",
    "df_non_event.loc_chng_morning = df_non_event.loc_chng_morning.map(lambda x: 1 if x==1 else 0)\n",
    "df_non_event.loc_chng_afternoon = df_non_event.loc_chng_afternoon.map(lambda x: 1 if x==1 else 0)\n",
    "df_non_event.loc_chng_evening = df_non_event.loc_chng_evening.map(lambda x: 1 if x==1 else 0)\n",
    "df_non_event.loc_chng_night = df_non_event.loc_chng_night.map(lambda x: 1 if x==1 else 0)"
   ]
  },
  {
   "cell_type": "code",
   "execution_count": 186,
   "id": "ad720d67-16f1-4a02-a710-e2508ace2c31",
   "metadata": {},
   "outputs": [],
   "source": [
    "df_non_event.drop(columns=['gender', 'age', 'group', 'app_lables'], inplace=True)"
   ]
  },
  {
   "cell_type": "code",
   "execution_count": 188,
   "id": "869408ab-8771-4a5b-bd15-013b6593da09",
   "metadata": {},
   "outputs": [
    {
     "data": {
      "text/plain": [
       "491"
      ]
     },
     "execution_count": 188,
     "metadata": {},
     "output_type": "execute_result"
    }
   ],
   "source": [
    "dataset_columns = df_non_event.columns\n",
    "len(dataset_columns)"
   ]
  },
  {
   "cell_type": "code",
   "execution_count": null,
   "id": "14773d97-3c98-4a11-bde8-ec73032b9667",
   "metadata": {},
   "outputs": [],
   "source": []
  },
  {
   "cell_type": "markdown",
   "id": "10a7f406-7302-40b0-b59f-078bd8929858",
   "metadata": {},
   "source": [
    "### Now save the test and train split in a separate file for further processing"
   ]
  },
  {
   "cell_type": "code",
   "execution_count": 189,
   "id": "21459474-6b7d-4991-a687-1a79dd8b4e00",
   "metadata": {},
   "outputs": [],
   "source": [
    "df_train = df_test_train[df_test_train.train_test_flag== 'train']\n",
    "df_test = df_test_train[df_test_train.train_test_flag== 'test']"
   ]
  },
  {
   "cell_type": "code",
   "execution_count": 191,
   "id": "b89ed174-51cd-432d-b9c9-953ed5c8e2af",
   "metadata": {},
   "outputs": [
    {
     "data": {
      "text/plain": [
       "Index(['device_id', 'phone_brand', 'device_model', 'group_cat', 'avg_events',\n",
       "       'most_active_hour', 'loc_chng_morning', 'loc_chng_afternoon',\n",
       "       'loc_chng_evening', 'loc_chng_night', 'loc_cluster', '10', '100',\n",
       "       '1002', '1003', '1005', '1006', '1007', '1008', '1009'],\n",
       "      dtype='object')"
      ]
     },
     "execution_count": 191,
     "metadata": {},
     "output_type": "execute_result"
    }
   ],
   "source": [
    "dataset_columns[:20]"
   ]
  },
  {
   "cell_type": "code",
   "execution_count": 192,
   "id": "c6275e89-bcd2-4e6d-b569-587a7e3f27db",
   "metadata": {},
   "outputs": [],
   "source": [
    "# df with phone data phone related columns  and event & app related columns (ALL coumns)\n",
    "df_scenerio_1 = df_non_event\n",
    "# df with only phone related columns \n",
    "df_scenerio_2 = df_non_event[['device_id', 'phone_brand', 'device_model',]]"
   ]
  },
  {
   "cell_type": "code",
   "execution_count": 194,
   "id": "92688b25-b761-41c8-98e3-46d1516a873c",
   "metadata": {},
   "outputs": [
    {
     "data": {
      "text/plain": [
       "491"
      ]
     },
     "execution_count": 194,
     "metadata": {},
     "output_type": "execute_result"
    }
   ],
   "source": [
    "len(df_scenerio_1.columns)"
   ]
  },
  {
   "cell_type": "code",
   "execution_count": null,
   "id": "130aa38e-21ee-4b23-9e80-20e41940faf4",
   "metadata": {},
   "outputs": [],
   "source": []
  },
  {
   "cell_type": "markdown",
   "id": "ab24322f-4a24-4910-87e0-e23105bee07e",
   "metadata": {},
   "source": [
    "Get dummy variables for the secnerio 1 and 2 data set"
   ]
  },
  {
   "cell_type": "code",
   "execution_count": 195,
   "id": "2e4b86de-1e4f-41da-8089-efc163151b11",
   "metadata": {},
   "outputs": [
    {
     "data": {
      "text/plain": [
       "(74645, 4858)"
      ]
     },
     "execution_count": 195,
     "metadata": {},
     "output_type": "execute_result"
    }
   ],
   "source": [
    "df_scenerio_1 = pd.get_dummies(df_scenerio_1,columns=['phone_brand', 'device_model', 'group_cat', 'loc_cluster'])\n",
    "df_scenerio_1.shape #(74645, 4858)"
   ]
  },
  {
   "cell_type": "code",
   "execution_count": 196,
   "id": "622d85a8-85a7-4489-848e-8e5ddf1e7703",
   "metadata": {},
   "outputs": [
    {
     "data": {
      "text/plain": [
       "(74645, 1536)"
      ]
     },
     "execution_count": 196,
     "metadata": {},
     "output_type": "execute_result"
    }
   ],
   "source": [
    "df_scenerio_2 = pd.get_dummies(df_scenerio_2,columns=['phone_brand', 'device_model'])\n",
    "df_scenerio_2.shape #(74645, 4858)"
   ]
  },
  {
   "cell_type": "code",
   "execution_count": null,
   "id": "2394722b-5cb2-47f3-899f-e528961c0bfa",
   "metadata": {},
   "outputs": [],
   "source": []
  },
  {
   "cell_type": "code",
   "execution_count": 200,
   "id": "c3a5cbaa-1314-4594-8fd1-779292ba8635",
   "metadata": {},
   "outputs": [],
   "source": [
    "df_scenario1_train_data = df_train.merge(df_scenerio_1, how='left', on='device_id')\n",
    "df_scenario1_test_data = df_test.merge(df_scenerio_1, how='left', on='device_id')"
   ]
  },
  {
   "cell_type": "code",
   "execution_count": 201,
   "id": "8d744955-e880-445e-90bf-cae18fcf19b0",
   "metadata": {},
   "outputs": [],
   "source": [
    "df_scenario2_train_data = df_train.merge(df_scenerio_2, how='left', on='device_id')\n",
    "df_scenario2_test_data = df_test.merge(df_scenerio_2, how='left', on='device_id')"
   ]
  },
  {
   "cell_type": "code",
   "execution_count": 206,
   "id": "147ee0ef-6ec4-4f78-9780-09014c1ce0e7",
   "metadata": {},
   "outputs": [],
   "source": [
    "# drop train test flag clumn\n",
    "df_scenario1_train_data.drop(columns=['train_test_flag'], inplace=True)\n",
    "df_scenario1_test_data.drop(columns=['train_test_flag'], inplace=True)\n",
    "\n",
    "df_scenario2_train_data.drop(columns=['train_test_flag'], inplace=True)\n",
    "df_scenario2_test_data.drop(columns=['train_test_flag'], inplace=True)"
   ]
  },
  {
   "cell_type": "code",
   "execution_count": 216,
   "id": "805a2a61-df76-4221-999e-7dd6c591bd8e",
   "metadata": {},
   "outputs": [
    {
     "data": {
      "text/plain": [
       "((58549, 4861), (16096, 4861))"
      ]
     },
     "execution_count": 216,
     "metadata": {},
     "output_type": "execute_result"
    }
   ],
   "source": [
    "df_scenario1_train_data.shape,df_scenario1_test_data.shape #((58549, 4861), (16096, 4861))"
   ]
  },
  {
   "cell_type": "code",
   "execution_count": 217,
   "id": "08d43154-dfd7-4bb5-a32d-a7691e23d51b",
   "metadata": {},
   "outputs": [
    {
     "data": {
      "text/plain": [
       "((58549, 1539), (16096, 1539))"
      ]
     },
     "execution_count": 217,
     "metadata": {},
     "output_type": "execute_result"
    }
   ],
   "source": [
    "df_scenario2_train_data.shape,df_scenario2_test_data.shape #((58549, 1539), (16096, 1539))"
   ]
  },
  {
   "cell_type": "code",
   "execution_count": null,
   "id": "167b61d3-e60d-4066-bd2f-87ae63da18da",
   "metadata": {},
   "outputs": [],
   "source": []
  },
  {
   "cell_type": "markdown",
   "id": "db8909a3-708e-4f69-8029-22b93f5c2d5b",
   "metadata": {},
   "source": [
    "### Save the **Scenerio 1** and **Secenrio 2** splits in individual files."
   ]
  },
  {
   "cell_type": "code",
   "execution_count": 218,
   "id": "2af98f71-04e7-4f4b-b20c-52745e431045",
   "metadata": {},
   "outputs": [],
   "source": [
    "#save the dataset for next notebook\n",
    "#scenerio 1\n",
    "df_scenario1_train_data.to_csv('../5_Model_Building/scenario1_train.csv',index=False)\n",
    "df_scenario1_test_data.to_csv('../5_Model_Building/scenario1_test.csv',index=False)\n",
    "\n",
    "#scenerio 2\n",
    "df_scenario2_train_data.to_csv('../5_Model_Building/scenario2_train.csv',index=False)\n",
    "df_scenario2_test_data.to_csv('../5_Model_Building/scenario2_test.csv',index=False)"
   ]
  },
  {
   "cell_type": "code",
   "execution_count": 219,
   "id": "7c868968-422a-4a81-8b51-e10918e090af",
   "metadata": {},
   "outputs": [],
   "source": [
    "#delete the dataframes\n",
    "del df_scenario1_train_data\n",
    "del df_scenario1_test_data\n",
    "del df_scenario2_train_data\n",
    "del df_scenario2_test_data\n",
    "del df_train\n",
    "del df_test\n",
    "del df_non_event\n",
    "del df_labels \n",
    "del df_label_cat\n",
    "del df_app_events\n",
    "del df_test_train"
   ]
  },
  {
   "cell_type": "markdown",
   "id": "b1b4a60b-5b34-4236-b780-f82b093a755f",
   "metadata": {},
   "source": [
    "---\n"
   ]
  },
  {
   "cell_type": "markdown",
   "id": "9b1addd6-26ba-4140-9830-1f3a7ca00539",
   "metadata": {},
   "source": [
    "End of this notebook"
   ]
  }
 ],
 "metadata": {
  "kernelspec": {
   "display_name": "Python 3",
   "language": "python",
   "name": "python3"
  },
  "language_info": {
   "codemirror_mode": {
    "name": "ipython",
    "version": 3
   },
   "file_extension": ".py",
   "mimetype": "text/x-python",
   "name": "python",
   "nbconvert_exporter": "python",
   "pygments_lexer": "ipython3",
   "version": "3.7.6"
  }
 },
 "nbformat": 4,
 "nbformat_minor": 5
}
