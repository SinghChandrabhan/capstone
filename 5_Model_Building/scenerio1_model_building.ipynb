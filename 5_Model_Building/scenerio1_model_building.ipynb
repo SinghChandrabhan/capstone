{
 "cells": [
  {
   "cell_type": "markdown",
   "id": "99876db3-e080-4744-b2e4-87ade4bf109d",
   "metadata": {
    "tags": []
   },
   "source": [
    "# Model Building"
   ]
  },
  {
   "attachments": {
    "2304de8b-8864-42d2-9ea5-f6cf6f87143d.png": {
     "image/png": "[encoded data removed]"
    }
   },
   "cell_type": "markdown",
   "id": "a3d82d14-97a7-4763-88bf-913d4c9f884a",
   "metadata": {},
   "source": [
    "### Here we are going to build following models for the two Scenarios.\n",
    "![image.png](attachment:2304de8b-8864-42d2-9ea5-f6cf6f87143d.png)\n"
   ]
  },
  {
   "cell_type": "markdown",
   "id": "ad3bb71b-a222-476c-8b42-7a5f574e18a9",
   "metadata": {},
   "source": [
    "**Utility function**"
   ]
  },
  {
   "cell_type": "code",
   "execution_count": 1,
   "id": "cefc8d45-0b3f-4ef1-836a-1cb2cec471ec",
   "metadata": {
    "tags": []
   },
   "outputs": [],
   "source": [
    "def calculate_ks(data=None,target=None, prob=None):\n",
    "    data['target0'] = 1 - data[target]\n",
    "    data['bucket'] = pd.qcut(data[prob], 10)\n",
    "    grouped = data.groupby('bucket', as_index = False)\n",
    "    kstable = pd.DataFrame()\n",
    "    kstable['min_prob'] = grouped.min()[prob]\n",
    "    kstable['max_prob'] = grouped.max()[prob]\n",
    "    kstable['events']   = grouped.sum()[target]\n",
    "    kstable['nonevents'] = grouped.sum()['target0']\n",
    "    kstable = kstable.sort_values(by=\"min_prob\", ascending=False).reset_index(drop = True)\n",
    "    kstable['event_rate'] = (kstable.events / data[target].sum()).apply('{0:.2%}'.format)\n",
    "    kstable['nonevent_rate'] = (kstable.nonevents / data['target0'].sum()).apply('{0:.2%}'.format)\n",
    "    kstable['cum_eventrate']=(kstable.events / data[target].sum()).cumsum()\n",
    "    kstable['cum_noneventrate']=(kstable.nonevents / data['target0'].sum()).cumsum()\n",
    "    kstable['KS'] = np.round(kstable['cum_eventrate']-kstable['cum_noneventrate'], 3) * 100\n",
    "\n",
    "    #Formating\n",
    "    kstable['cum_eventrate']= kstable['cum_eventrate'].apply('{0:.2%}'.format)\n",
    "    kstable['cum_noneventrate']= kstable['cum_noneventrate'].apply('{0:.2%}'.format)\n",
    "    kstable.index = range(1,11)\n",
    "    kstable.index.rename('Decile', inplace=True)\n",
    "    pd.set_option('display.max_columns', 9)\n",
    "    print(kstable)\n",
    "    \n",
    "    #Display KS\n",
    "    from colorama import Fore\n",
    "    print(Fore.RED + \"KS is \" + str(max(kstable['KS']))+\"%\"+ \" at decile \" + str((kstable.index[kstable['KS']==max(kstable['KS'])][0])))\n",
    "    return(kstable)   "
   ]
  },
  {
   "cell_type": "code",
   "execution_count": null,
   "id": "eee0a231-670e-48ec-8932-0949d9a25249",
   "metadata": {},
   "outputs": [],
   "source": []
  },
  {
   "cell_type": "markdown",
   "id": "f56c4513-6109-4109-aaf5-3d5432009975",
   "metadata": {
    "tags": []
   },
   "source": [
    "## Scenario:1 - Gender Predition"
   ]
  },
  {
   "cell_type": "markdown",
   "id": "6033aa67-a6de-48ba-802c-3fab5f0efe45",
   "metadata": {
    "tags": []
   },
   "source": [
    "### 1. Logistic Regression"
   ]
  },
  {
   "cell_type": "code",
   "execution_count": 2,
   "id": "27f2be4c-5a52-46dc-9e3a-62b2a4748546",
   "metadata": {},
   "outputs": [],
   "source": [
    "# load libraries\n",
    "import numpy as np\n",
    "import pandas as pd\n",
    "from sklearn.linear_model import LogisticRegression\n",
    "from sklearn.model_selection import GridSearchCV\n",
    "from sklearn import preprocessing\n",
    "from sklearn.pipeline import Pipeline\n",
    "from sklearn.pipeline import make_pipeline\n",
    "from sklearn.preprocessing import StandardScaler\n",
    "from sklearn.metrics import confusion_matrix\n",
    "from sklearn import metrics\n",
    "import matplotlib.pyplot as plt, seaborn as sns\n",
    "from sklearn.metrics import ConfusionMatrixDisplay\n",
    "from sklearn.metrics import precision_recall_fscore_support\n",
    "from sklearn.metrics import RocCurveDisplay"
   ]
  },
  {
   "cell_type": "code",
   "execution_count": 3,
   "id": "07e4c1de-4499-4d5f-b31f-17f1f83896b8",
   "metadata": {},
   "outputs": [
    {
     "name": "stdout",
     "output_type": "stream",
     "text": [
      "Wall time: 1min 29s\n"
     ]
    }
   ],
   "source": [
    "%%time\n",
    "#load data\n",
    "df_train_s1 = pd.read_csv('scenario1_train.csv')\n",
    "df_test_s1 = pd.read_csv('scenario1_test.csv')"
   ]
  },
  {
   "cell_type": "code",
   "execution_count": 4,
   "id": "db0baa92-4f77-4e82-b6f2-0e87b1697dd0",
   "metadata": {},
   "outputs": [],
   "source": [
    "# prepare train test data\n",
    "y_train_s1 = df_train_s1['gender']\n",
    "X_train_s1 = df_train_s1.drop(columns=['gender','group','device_id']).fillna(0)\n",
    "\n",
    "y_test_s1 = df_test_s1['gender']\n",
    "X_test_s1 = df_test_s1.drop(columns=['gender','group','device_id']).fillna(0)"
   ]
  },
  {
   "cell_type": "code",
   "execution_count": 5,
   "id": "404e845c-2445-42ab-9c2f-5f00aa0877b3",
   "metadata": {},
   "outputs": [],
   "source": [
    "y_train_s1 = y_train_s1.map(lambda x: 1 if x == 'M' else 0)\n",
    "y_test_s1 = y_test_s1.map(lambda x: 1 if x == 'M' else 0)"
   ]
  },
  {
   "cell_type": "code",
   "execution_count": 6,
   "id": "029149ae-0beb-4465-896f-d857c8625e2e",
   "metadata": {},
   "outputs": [
    {
     "data": {
      "text/html": [
       "<div>\n",
       "<style scoped>\n",
       "    .dataframe tbody tr th:only-of-type {\n",
       "        vertical-align: middle;\n",
       "    }\n",
       "\n",
       "    .dataframe tbody tr th {\n",
       "        vertical-align: top;\n",
       "    }\n",
       "\n",
       "    .dataframe thead th {\n",
       "        text-align: right;\n",
       "    }\n",
       "</style>\n",
       "<table border=\"1\" class=\"dataframe\">\n",
       "  <thead>\n",
       "    <tr style=\"text-align: right;\">\n",
       "      <th></th>\n",
       "      <th>age</th>\n",
       "      <th>avg_events</th>\n",
       "      <th>most_active_hour</th>\n",
       "      <th>loc_chng_morning</th>\n",
       "      <th>loc_chng_afternoon</th>\n",
       "      <th>loc_chng_evening</th>\n",
       "      <th>loc_chng_night</th>\n",
       "      <th>10</th>\n",
       "      <th>100</th>\n",
       "      <th>1002</th>\n",
       "      <th>...</th>\n",
       "      <th>loc_cluster_99</th>\n",
       "      <th>loc_cluster_990</th>\n",
       "      <th>loc_cluster_991</th>\n",
       "      <th>loc_cluster_993</th>\n",
       "      <th>loc_cluster_994</th>\n",
       "      <th>loc_cluster_995</th>\n",
       "      <th>loc_cluster_996</th>\n",
       "      <th>loc_cluster_998</th>\n",
       "      <th>loc_cluster_999</th>\n",
       "      <th>loc_cluster_Unknown</th>\n",
       "    </tr>\n",
       "  </thead>\n",
       "  <tbody>\n",
       "    <tr>\n",
       "      <th>0</th>\n",
       "      <td>33</td>\n",
       "      <td>58.4</td>\n",
       "      <td>15.0</td>\n",
       "      <td>1</td>\n",
       "      <td>1</td>\n",
       "      <td>1</td>\n",
       "      <td>1</td>\n",
       "      <td>0</td>\n",
       "      <td>0</td>\n",
       "      <td>0</td>\n",
       "      <td>...</td>\n",
       "      <td>0</td>\n",
       "      <td>0</td>\n",
       "      <td>0</td>\n",
       "      <td>0</td>\n",
       "      <td>0</td>\n",
       "      <td>0</td>\n",
       "      <td>0</td>\n",
       "      <td>0</td>\n",
       "      <td>0</td>\n",
       "      <td>0</td>\n",
       "    </tr>\n",
       "    <tr>\n",
       "      <th>1</th>\n",
       "      <td>37</td>\n",
       "      <td>1.0</td>\n",
       "      <td>11.0</td>\n",
       "      <td>0</td>\n",
       "      <td>0</td>\n",
       "      <td>0</td>\n",
       "      <td>0</td>\n",
       "      <td>0</td>\n",
       "      <td>0</td>\n",
       "      <td>0</td>\n",
       "      <td>...</td>\n",
       "      <td>0</td>\n",
       "      <td>0</td>\n",
       "      <td>0</td>\n",
       "      <td>0</td>\n",
       "      <td>0</td>\n",
       "      <td>0</td>\n",
       "      <td>0</td>\n",
       "      <td>0</td>\n",
       "      <td>0</td>\n",
       "      <td>1</td>\n",
       "    </tr>\n",
       "  </tbody>\n",
       "</table>\n",
       "<p>2 rows × 4858 columns</p>\n",
       "</div>"
      ],
      "text/plain": [
       "   age  avg_events  most_active_hour  loc_chng_morning  loc_chng_afternoon  \\\n",
       "0   33        58.4              15.0                 1                   1   \n",
       "1   37         1.0              11.0                 0                   0   \n",
       "\n",
       "   loc_chng_evening  loc_chng_night  10  100  1002  ...  loc_cluster_99  \\\n",
       "0                 1               1   0    0     0  ...               0   \n",
       "1                 0               0   0    0     0  ...               0   \n",
       "\n",
       "   loc_cluster_990  loc_cluster_991  loc_cluster_993  loc_cluster_994  \\\n",
       "0                0                0                0                0   \n",
       "1                0                0                0                0   \n",
       "\n",
       "   loc_cluster_995  loc_cluster_996  loc_cluster_998  loc_cluster_999  \\\n",
       "0                0                0                0                0   \n",
       "1                0                0                0                0   \n",
       "\n",
       "   loc_cluster_Unknown  \n",
       "0                    0  \n",
       "1                    1  \n",
       "\n",
       "[2 rows x 4858 columns]"
      ]
     },
     "execution_count": 6,
     "metadata": {},
     "output_type": "execute_result"
    }
   ],
   "source": [
    "X_train_s1.head(2)"
   ]
  },
  {
   "cell_type": "code",
   "execution_count": 7,
   "id": "43128a1a-8074-4e5b-a720-5eacf03b434d",
   "metadata": {},
   "outputs": [],
   "source": [
    "#scale the data\n",
    "scaler = StandardScaler()\n",
    "X_train_s1_scaled =  scaler.fit(X_train_s1).transform(X_train_s1)\n",
    "X_test_s1_scaled = scaler.fit(X_test_s1).transform(X_test_s1)"
   ]
  },
  {
   "cell_type": "code",
   "execution_count": 8,
   "id": "815b9c1a-8c97-47a4-9851-085f7c04f633",
   "metadata": {},
   "outputs": [],
   "source": [
    "# the model\n",
    "lr=LogisticRegression(C=0.02154,penalty='l2',solver='lbfgs', random_state=0,max_iter=10000).fit(X_train_s1_scaled,y_train_s1) \n"
   ]
  },
  {
   "cell_type": "markdown",
   "id": "0878715e-6c38-4274-82b6-9f555090de63",
   "metadata": {},
   "source": [
    "#### Accuracy"
   ]
  },
  {
   "cell_type": "code",
   "execution_count": 9,
   "id": "0975e60f-844b-43c7-a44f-d74a15513334",
   "metadata": {},
   "outputs": [
    {
     "name": "stdout",
     "output_type": "stream",
     "text": [
      "The accuracy is 67.38941351888667 %\n"
     ]
    }
   ],
   "source": [
    "accuracy = lr.score(X_test_s1_scaled, y_test_s1)\n",
    "print(f'The accuracy is {accuracy*100} %')"
   ]
  },
  {
   "cell_type": "markdown",
   "id": "2881c070-7851-45a6-98df-ac368ffb8dcf",
   "metadata": {},
   "source": [
    "The accuracy score fo Scenerio1 - logistic regression is  **67.38%**"
   ]
  },
  {
   "cell_type": "markdown",
   "id": "8d37a448-0da7-4861-ba4e-d3017b91db98",
   "metadata": {},
   "source": [
    "#### Confusion matrix"
   ]
  },
  {
   "cell_type": "code",
   "execution_count": 10,
   "id": "d8708050-882b-4c21-97ee-e3692bd6648c",
   "metadata": {},
   "outputs": [
    {
     "data": {
      "image/png": "[encoded data removed]",
      "text/plain": [
       "<Figure size 432x288 with 2 Axes>"
      ]
     },
     "metadata": {
      "needs_background": "light"
     },
     "output_type": "display_data"
    }
   ],
   "source": [
    "#evaluation  = lr.evaluate(X_test_s1_scaled)\n",
    "y_pred = lr.predict(X_test_s1_scaled)\n",
    "ConfusionMatrixDisplay.from_predictions(y_test_s1, y_pred)\n",
    "plt.show()\n"
   ]
  },
  {
   "cell_type": "markdown",
   "id": "68cf7611-0fb5-4ced-8a1b-53f5616edc6b",
   "metadata": {},
   "source": [
    "#### ROC AUC"
   ]
  },
  {
   "cell_type": "code",
   "execution_count": 11,
   "id": "be37121f-4bfb-4d79-80d4-c1f479c2e77d",
   "metadata": {},
   "outputs": [
    {
     "name": "stdout",
     "output_type": "stream",
     "text": [
      "The Precision for secenrio 1 gender prediction using logistic regression is 65.61418868871867 %\n",
      "The Recall for secenrio 1 gender prediction using logistic regression is 67.38941351888667 %\n",
      "The FScore for secenrio 1 gender prediction using logistic regression is 63.05275784651756 %\n"
     ]
    }
   ],
   "source": [
    "score = precision_recall_fscore_support(y_test_s1, y_pred, average='weighted')\n",
    "print(f'The Precision for secenrio 1 gender prediction using logistic regression is {score[0]*100} %')\n",
    "print(f'The Recall for secenrio 1 gender prediction using logistic regression is {score[1]*100} %')\n",
    "print(f'The FScore for secenrio 1 gender prediction using logistic regression is {score[2]*100} %')"
   ]
  },
  {
   "cell_type": "code",
   "execution_count": 12,
   "id": "884ebb28-667e-4c9f-bc14-e701bc33fa7e",
   "metadata": {},
   "outputs": [
    {
     "name": "stderr",
     "output_type": "stream",
     "text": [
      "C:\\Users\\chand\\anaconda3\\lib\\site-packages\\sklearn\\utils\\deprecation.py:87: FutureWarning: Function plot_roc_curve is deprecated; Function `plot_roc_curve` is deprecated in 1.0 and will be removed in 1.2. Use one of the class methods: RocCurveDisplay.from_predictions or RocCurveDisplay.from_estimator.\n",
      "  warnings.warn(msg, category=FutureWarning)\n"
     ]
    },
    {
     "data": {
      "image/png": "[encoded data removed]",
      "text/plain": [
       "<Figure size 432x288 with 1 Axes>"
      ]
     },
     "metadata": {
      "needs_background": "light"
     },
     "output_type": "display_data"
    }
   ],
   "source": [
    "metrics.plot_roc_curve(lr, X_test_s1_scaled, y_test_s1) \n",
    "plt.show()"
   ]
  },
  {
   "cell_type": "code",
   "execution_count": null,
   "id": "0f76a9d5-4f94-4d8e-a7c6-82a5b71b12c0",
   "metadata": {},
   "outputs": [],
   "source": []
  },
  {
   "cell_type": "markdown",
   "id": "af54666a-a4b1-4719-9299-c92f9254885b",
   "metadata": {},
   "source": [
    "#### KS Statistics"
   ]
  },
  {
   "cell_type": "code",
   "execution_count": 13,
   "id": "c4143814-4302-43ef-b37b-b464b028840f",
   "metadata": {},
   "outputs": [],
   "source": [
    "y_pred_proba = lr.predict_proba(X_test_s1_scaled)"
   ]
  },
  {
   "cell_type": "code",
   "execution_count": 14,
   "id": "ee2f3fa0-4293-4e29-93a5-76486703f6b1",
   "metadata": {},
   "outputs": [
    {
     "data": {
      "text/plain": [
       "array([0.95066493, 0.58636378, 0.92569645, ..., 0.3276863 , 0.4875611 ,\n",
       "       0.33743056])"
      ]
     },
     "execution_count": 14,
     "metadata": {},
     "output_type": "execute_result"
    }
   ],
   "source": [
    "y_pred_proba[::,0]"
   ]
  },
  {
   "cell_type": "code",
   "execution_count": 15,
   "id": "4487d859-1894-4df2-bfc0-651d3ef5297d",
   "metadata": {},
   "outputs": [
    {
     "name": "stdout",
     "output_type": "stream",
     "text": [
      "        min_prob  max_prob  events  nonevents event_rate nonevent_rate  \\\n",
      "Decile                                                                   \n",
      "1       0.896318  0.999996    1395        215     13.47%         3.75%   \n",
      "2       0.779799  0.896233    1279        330     12.35%         5.75%   \n",
      "3       0.718072  0.779797    1199        411     11.58%         7.16%   \n",
      "4       0.690799  0.717962    1138        470     10.99%         8.19%   \n",
      "5       0.662654  0.690726    1061        549     10.24%         9.57%   \n",
      "6       0.636914  0.662621    1016        594      9.81%        10.35%   \n",
      "7       0.598096  0.636850     942        668      9.10%        11.64%   \n",
      "8       0.534965  0.598000     933        674      9.01%        11.74%   \n",
      "9       0.424228  0.534893     824        787      7.96%        13.71%   \n",
      "10      0.000845  0.423719     570       1041      5.50%        18.14%   \n",
      "\n",
      "       cum_eventrate cum_noneventrate    KS  \n",
      "Decile                                       \n",
      "1             13.47%            3.75%   9.7  \n",
      "2             25.82%            9.50%  16.3  \n",
      "3             37.39%           16.66%  20.7  \n",
      "4             48.38%           24.85%  23.5  \n",
      "5             58.63%           34.41%  24.2  \n",
      "6             68.44%           44.76%  23.7  \n",
      "7             77.53%           56.40%  21.1  \n",
      "8             86.54%           68.15%  18.4  \n",
      "9             94.50%           81.86%  12.6  \n",
      "10           100.00%          100.00%   0.0  \n",
      "\u001b[31mKS is 24.2% at decile 5\n"
     ]
    },
    {
     "data": {
      "text/html": [
       "<div>\n",
       "<style scoped>\n",
       "    .dataframe tbody tr th:only-of-type {\n",
       "        vertical-align: middle;\n",
       "    }\n",
       "\n",
       "    .dataframe tbody tr th {\n",
       "        vertical-align: top;\n",
       "    }\n",
       "\n",
       "    .dataframe thead th {\n",
       "        text-align: right;\n",
       "    }\n",
       "</style>\n",
       "<table border=\"1\" class=\"dataframe\">\n",
       "  <thead>\n",
       "    <tr style=\"text-align: right;\">\n",
       "      <th></th>\n",
       "      <th>min_prob</th>\n",
       "      <th>max_prob</th>\n",
       "      <th>events</th>\n",
       "      <th>nonevents</th>\n",
       "      <th>event_rate</th>\n",
       "      <th>nonevent_rate</th>\n",
       "      <th>cum_eventrate</th>\n",
       "      <th>cum_noneventrate</th>\n",
       "      <th>KS</th>\n",
       "    </tr>\n",
       "    <tr>\n",
       "      <th>Decile</th>\n",
       "      <th></th>\n",
       "      <th></th>\n",
       "      <th></th>\n",
       "      <th></th>\n",
       "      <th></th>\n",
       "      <th></th>\n",
       "      <th></th>\n",
       "      <th></th>\n",
       "      <th></th>\n",
       "    </tr>\n",
       "  </thead>\n",
       "  <tbody>\n",
       "    <tr>\n",
       "      <th>1</th>\n",
       "      <td>0.896318</td>\n",
       "      <td>0.999996</td>\n",
       "      <td>1395</td>\n",
       "      <td>215</td>\n",
       "      <td>13.47%</td>\n",
       "      <td>3.75%</td>\n",
       "      <td>13.47%</td>\n",
       "      <td>3.75%</td>\n",
       "      <td>9.7</td>\n",
       "    </tr>\n",
       "    <tr>\n",
       "      <th>2</th>\n",
       "      <td>0.779799</td>\n",
       "      <td>0.896233</td>\n",
       "      <td>1279</td>\n",
       "      <td>330</td>\n",
       "      <td>12.35%</td>\n",
       "      <td>5.75%</td>\n",
       "      <td>25.82%</td>\n",
       "      <td>9.50%</td>\n",
       "      <td>16.3</td>\n",
       "    </tr>\n",
       "    <tr>\n",
       "      <th>3</th>\n",
       "      <td>0.718072</td>\n",
       "      <td>0.779797</td>\n",
       "      <td>1199</td>\n",
       "      <td>411</td>\n",
       "      <td>11.58%</td>\n",
       "      <td>7.16%</td>\n",
       "      <td>37.39%</td>\n",
       "      <td>16.66%</td>\n",
       "      <td>20.7</td>\n",
       "    </tr>\n",
       "    <tr>\n",
       "      <th>4</th>\n",
       "      <td>0.690799</td>\n",
       "      <td>0.717962</td>\n",
       "      <td>1138</td>\n",
       "      <td>470</td>\n",
       "      <td>10.99%</td>\n",
       "      <td>8.19%</td>\n",
       "      <td>48.38%</td>\n",
       "      <td>24.85%</td>\n",
       "      <td>23.5</td>\n",
       "    </tr>\n",
       "    <tr>\n",
       "      <th>5</th>\n",
       "      <td>0.662654</td>\n",
       "      <td>0.690726</td>\n",
       "      <td>1061</td>\n",
       "      <td>549</td>\n",
       "      <td>10.24%</td>\n",
       "      <td>9.57%</td>\n",
       "      <td>58.63%</td>\n",
       "      <td>34.41%</td>\n",
       "      <td>24.2</td>\n",
       "    </tr>\n",
       "    <tr>\n",
       "      <th>6</th>\n",
       "      <td>0.636914</td>\n",
       "      <td>0.662621</td>\n",
       "      <td>1016</td>\n",
       "      <td>594</td>\n",
       "      <td>9.81%</td>\n",
       "      <td>10.35%</td>\n",
       "      <td>68.44%</td>\n",
       "      <td>44.76%</td>\n",
       "      <td>23.7</td>\n",
       "    </tr>\n",
       "    <tr>\n",
       "      <th>7</th>\n",
       "      <td>0.598096</td>\n",
       "      <td>0.636850</td>\n",
       "      <td>942</td>\n",
       "      <td>668</td>\n",
       "      <td>9.10%</td>\n",
       "      <td>11.64%</td>\n",
       "      <td>77.53%</td>\n",
       "      <td>56.40%</td>\n",
       "      <td>21.1</td>\n",
       "    </tr>\n",
       "    <tr>\n",
       "      <th>8</th>\n",
       "      <td>0.534965</td>\n",
       "      <td>0.598000</td>\n",
       "      <td>933</td>\n",
       "      <td>674</td>\n",
       "      <td>9.01%</td>\n",
       "      <td>11.74%</td>\n",
       "      <td>86.54%</td>\n",
       "      <td>68.15%</td>\n",
       "      <td>18.4</td>\n",
       "    </tr>\n",
       "    <tr>\n",
       "      <th>9</th>\n",
       "      <td>0.424228</td>\n",
       "      <td>0.534893</td>\n",
       "      <td>824</td>\n",
       "      <td>787</td>\n",
       "      <td>7.96%</td>\n",
       "      <td>13.71%</td>\n",
       "      <td>94.50%</td>\n",
       "      <td>81.86%</td>\n",
       "      <td>12.6</td>\n",
       "    </tr>\n",
       "    <tr>\n",
       "      <th>10</th>\n",
       "      <td>0.000845</td>\n",
       "      <td>0.423719</td>\n",
       "      <td>570</td>\n",
       "      <td>1041</td>\n",
       "      <td>5.50%</td>\n",
       "      <td>18.14%</td>\n",
       "      <td>100.00%</td>\n",
       "      <td>100.00%</td>\n",
       "      <td>0.0</td>\n",
       "    </tr>\n",
       "  </tbody>\n",
       "</table>\n",
       "</div>"
      ],
      "text/plain": [
       "        min_prob  max_prob  events  nonevents event_rate nonevent_rate  \\\n",
       "Decile                                                                   \n",
       "1       0.896318  0.999996    1395        215     13.47%         3.75%   \n",
       "2       0.779799  0.896233    1279        330     12.35%         5.75%   \n",
       "3       0.718072  0.779797    1199        411     11.58%         7.16%   \n",
       "4       0.690799  0.717962    1138        470     10.99%         8.19%   \n",
       "5       0.662654  0.690726    1061        549     10.24%         9.57%   \n",
       "6       0.636914  0.662621    1016        594      9.81%        10.35%   \n",
       "7       0.598096  0.636850     942        668      9.10%        11.64%   \n",
       "8       0.534965  0.598000     933        674      9.01%        11.74%   \n",
       "9       0.424228  0.534893     824        787      7.96%        13.71%   \n",
       "10      0.000845  0.423719     570       1041      5.50%        18.14%   \n",
       "\n",
       "       cum_eventrate cum_noneventrate    KS  \n",
       "Decile                                       \n",
       "1             13.47%            3.75%   9.7  \n",
       "2             25.82%            9.50%  16.3  \n",
       "3             37.39%           16.66%  20.7  \n",
       "4             48.38%           24.85%  23.5  \n",
       "5             58.63%           34.41%  24.2  \n",
       "6             68.44%           44.76%  23.7  \n",
       "7             77.53%           56.40%  21.1  \n",
       "8             86.54%           68.15%  18.4  \n",
       "9             94.50%           81.86%  12.6  \n",
       "10           100.00%          100.00%   0.0  "
      ]
     },
     "execution_count": 15,
     "metadata": {},
     "output_type": "execute_result"
    }
   ],
   "source": [
    "df_evaluation = pd.DataFrame(y_test_s1)\n",
    "df_evaluation['target'] = df_evaluation\n",
    "df_evaluation['probability_negative'] = y_pred_proba[::,0]\n",
    "df_evaluation['probability_positive'] = y_pred_proba[::,1]\n",
    "\n",
    "calculate_ks(data=df_evaluation,target=\"target\", prob=\"probability_positive\")"
   ]
  },
  {
   "cell_type": "code",
   "execution_count": null,
   "id": "fde67683-60ff-45fe-83d8-d775cef1d204",
   "metadata": {},
   "outputs": [],
   "source": []
  },
  {
   "cell_type": "markdown",
   "id": "0b7f591f-17b9-494a-9ff6-8f239312f29e",
   "metadata": {},
   "source": [
    "### 2. XG Boost Classifier"
   ]
  },
  {
   "cell_type": "code",
   "execution_count": 16,
   "id": "80b6b993-33fa-403b-a5bf-07ab2ecae5ff",
   "metadata": {},
   "outputs": [],
   "source": [
    "#! pip3 install xgboost"
   ]
  },
  {
   "cell_type": "code",
   "execution_count": 17,
   "id": "251dfd88-1ec0-48e7-a747-cf970452a676",
   "metadata": {},
   "outputs": [],
   "source": [
    "import xgboost as xgb\n",
    "from sklearn.model_selection import GridSearchCV\n",
    "from sklearn.model_selection import StratifiedKFold"
   ]
  },
  {
   "cell_type": "code",
   "execution_count": 18,
   "id": "a203115c-102c-4795-bc80-bbdd145168a3",
   "metadata": {},
   "outputs": [],
   "source": [
    "# prepare train test data\n",
    "y_train_s1_xg = df_train_s1.dropna()['gender']\n",
    "X_train_s1_xg = df_train_s1.drop(columns=['gender','group','device_id']).dropna()\n",
    "\n",
    "y_test_s1_xg = df_test_s1.dropna()['gender']\n",
    "X_test_s1_xg = df_test_s1.drop(columns=['gender','group','device_id']).dropna()"
   ]
  },
  {
   "cell_type": "code",
   "execution_count": 19,
   "id": "e8ba5ac2-3b2c-4ec5-bdfc-b4a32b14035e",
   "metadata": {},
   "outputs": [],
   "source": [
    "y_train_s1_xg = y_train_s1_xg.map(lambda x: 1 if x == 'M' else 0)\n",
    "y_test_s1_xg = y_test_s1_xg.map(lambda x: 1 if x == 'M' else 0)"
   ]
  },
  {
   "cell_type": "code",
   "execution_count": 20,
   "id": "b0928e16-c05a-4eda-9b27-8efcc2d70be4",
   "metadata": {},
   "outputs": [],
   "source": [
    "#scale the data\n",
    "X_train_s1_xg_scaled = scaler.fit(X_train_s1_xg).transform(X_train_s1_xg)\n",
    "X_test_s1_xg_scaled = scaler.fit(X_test_s1_xg).transform(X_test_s1_xg)"
   ]
  },
  {
   "cell_type": "code",
   "execution_count": 21,
   "id": "a9690cff-ebe7-4c13-8fc2-139228110df5",
   "metadata": {},
   "outputs": [],
   "source": [
    "# the grid search and model\n",
    "xgb_model = xgb.XGBClassifier(use_label_encoder=False)\n",
    "\n",
    "\n",
    "params = {\n",
    "        'booster':['gbtree'],\n",
    "        'objective':['reg:logistic'],\n",
    "        'eval_metric':['logloss'],\n",
    "        'min_child_weight': [1, 5],        \n",
    "        'subsample': [0.8],\n",
    "        #'colsample_by_tree': [0.5],\n",
    "        'max_depth': [6], \n",
    "        'colsample_bylevel':[0.5],\n",
    "        'learning_rate': [0.025]\n",
    "\n",
    " }\n",
    "\n",
    "clf_xg = GridSearchCV(xgb_model, params, n_jobs=5, \n",
    "                   cv=StratifiedKFold(n_splits=5, shuffle=True), \n",
    "                   scoring='roc_auc',\n",
    "                   verbose=2, refit=True)\n",
    "#clf_xg"
   ]
  },
  {
   "cell_type": "markdown",
   "id": "13109c9d-fc60-455c-ac75-7b1e02db9bad",
   "metadata": {},
   "source": [
    "This classifier would take around 12 mins for 10 fits in total, if time and recources allow we can increase the number of total fits by adding more params to Search Grid"
   ]
  },
  {
   "cell_type": "code",
   "execution_count": 22,
   "id": "8cde2503-4a39-4176-af76-4f82b85106ae",
   "metadata": {},
   "outputs": [
    {
     "name": "stdout",
     "output_type": "stream",
     "text": [
      "Fitting 5 folds for each of 2 candidates, totalling 10 fits\n",
      "Wall time: 22min 26s\n"
     ]
    },
    {
     "data": {
      "text/plain": [
       "GridSearchCV(cv=StratifiedKFold(n_splits=5, random_state=None, shuffle=True),\n",
       "             estimator=XGBClassifier(base_score=None, booster=None,\n",
       "                                     colsample_bylevel=None,\n",
       "                                     colsample_bynode=None,\n",
       "                                     colsample_bytree=None,\n",
       "                                     enable_categorical=False, gamma=None,\n",
       "                                     gpu_id=None, importance_type=None,\n",
       "                                     interaction_constraints=None,\n",
       "                                     learning_rate=None, max_delta_step=None,\n",
       "                                     max_depth=None, min...\n",
       "                                     reg_lambda=None, scale_pos_weight=None,\n",
       "                                     subsample=None, tree_method=None,\n",
       "                                     use_label_encoder=False,\n",
       "                                     validate_parameters=None, verbosity=None),\n",
       "             n_jobs=5,\n",
       "             param_grid={'booster': ['gbtree'], 'colsample_bylevel': [0.5],\n",
       "                         'eval_metric': ['logloss'], 'learning_rate': [0.025],\n",
       "                         'max_depth': [6], 'min_child_weight': [1, 5],\n",
       "                         'objective': ['reg:logistic'], 'subsample': [0.8]},\n",
       "             scoring='roc_auc', verbose=2)"
      ]
     },
     "execution_count": 22,
     "metadata": {},
     "output_type": "execute_result"
    }
   ],
   "source": [
    "%%time\n",
    "clf_xg.fit(X_train_s1_xg, y_train_s1_xg)"
   ]
  },
  {
   "cell_type": "code",
   "execution_count": 23,
   "id": "50d9af24-74ef-43f9-a079-78ffb57aa5a4",
   "metadata": {},
   "outputs": [],
   "source": [
    "best_estimator = clf_xg.best_estimator_"
   ]
  },
  {
   "cell_type": "code",
   "execution_count": 24,
   "id": "09be5128-bb90-43d0-b7a3-d0cb7624d411",
   "metadata": {},
   "outputs": [],
   "source": [
    "best_s1_genger_prediction_model = best_estimator"
   ]
  },
  {
   "cell_type": "markdown",
   "id": "929138cf-9e54-4f99-8acd-b6b0ea2f4fd5",
   "metadata": {},
   "source": [
    "#### Accuracy"
   ]
  },
  {
   "cell_type": "code",
   "execution_count": 25,
   "id": "8739a820-bdd7-4a4f-bcc0-04be50c9e2d6",
   "metadata": {},
   "outputs": [],
   "source": [
    "#y_test_s1_xg"
   ]
  },
  {
   "cell_type": "code",
   "execution_count": 26,
   "id": "48e8d979-83aa-4b60-9eb2-0dad84954701",
   "metadata": {},
   "outputs": [
    {
     "name": "stdout",
     "output_type": "stream",
     "text": [
      "The accuracy is 73.47288949897049 %\n"
     ]
    }
   ],
   "source": [
    "accuracy = best_estimator.score(X_test_s1_xg_scaled, y_test_s1_xg)\n",
    "print(f'The accuracy is {accuracy*100} %')"
   ]
  },
  {
   "cell_type": "code",
   "execution_count": null,
   "id": "3d349de0-3625-48c2-9134-1e6424e4cbce",
   "metadata": {},
   "outputs": [],
   "source": []
  },
  {
   "cell_type": "markdown",
   "id": "715282c0-49db-42ea-a393-b03de61b9135",
   "metadata": {},
   "source": [
    "#### Confision Matrix"
   ]
  },
  {
   "cell_type": "code",
   "execution_count": 27,
   "id": "2daca92c-d0c6-45fa-8887-b01bcfebe83d",
   "metadata": {},
   "outputs": [
    {
     "data": {
      "image/png": "[encoded data removed]",
      "text/plain": [
       "<Figure size 432x288 with 2 Axes>"
      ]
     },
     "metadata": {
      "needs_background": "light"
     },
     "output_type": "display_data"
    }
   ],
   "source": [
    "preds = best_estimator.predict(X_test_s1_xg)\n",
    "#preds\n",
    "ConfusionMatrixDisplay.from_predictions(y_test_s1_xg, preds)\n",
    "plt.show()"
   ]
  },
  {
   "cell_type": "code",
   "execution_count": null,
   "id": "8d665d3d-6078-45e4-998e-30979afa0296",
   "metadata": {},
   "outputs": [],
   "source": []
  },
  {
   "cell_type": "markdown",
   "id": "a34589f3-effc-4b3a-955b-f9f5d3d39dcb",
   "metadata": {},
   "source": [
    "#### ROC AUC"
   ]
  },
  {
   "cell_type": "code",
   "execution_count": 28,
   "id": "c0ef280e-51e0-4ee3-a8ff-88de2326bdd7",
   "metadata": {},
   "outputs": [
    {
     "name": "stdout",
     "output_type": "stream",
     "text": [
      "The Precision for secenrio 1 gender prediction using logistic regression is 73.48030778079332 %\n",
      "The Recall for secenrio 1 gender prediction using logistic regression is 73.8675360329444 %\n",
      "The FScore for secenrio 1 gender prediction using logistic regression is 71.42274283495502 %\n"
     ]
    }
   ],
   "source": [
    "score = precision_recall_fscore_support(y_test_s1_xg, preds, average='weighted')\n",
    "print(f'The Precision for secenrio 1 gender prediction using logistic regression is {score[0]*100} %')\n",
    "print(f'The Recall for secenrio 1 gender prediction using logistic regression is {score[1]*100} %')\n",
    "print(f'The FScore for secenrio 1 gender prediction using logistic regression is {score[2]*100} %')"
   ]
  },
  {
   "cell_type": "code",
   "execution_count": 29,
   "id": "18b00cc1-cb39-4e64-a6b5-a5d6a66aa3d2",
   "metadata": {},
   "outputs": [
    {
     "name": "stderr",
     "output_type": "stream",
     "text": [
      "C:\\Users\\chand\\anaconda3\\lib\\site-packages\\sklearn\\utils\\deprecation.py:87: FutureWarning: Function plot_roc_curve is deprecated; Function `plot_roc_curve` is deprecated in 1.0 and will be removed in 1.2. Use one of the class methods: RocCurveDisplay.from_predictions or RocCurveDisplay.from_estimator.\n",
      "  warnings.warn(msg, category=FutureWarning)\n"
     ]
    },
    {
     "data": {
      "image/png": "[encoded data removed]",
      "text/plain": [
       "<Figure size 432x288 with 1 Axes>"
      ]
     },
     "metadata": {
      "needs_background": "light"
     },
     "output_type": "display_data"
    }
   ],
   "source": [
    "metrics.plot_roc_curve(lr, X_test_s1_xg_scaled, y_test_s1_xg) \n",
    "plt.show()"
   ]
  },
  {
   "cell_type": "code",
   "execution_count": null,
   "id": "407bfd2e-1b58-48fc-ab53-dca1d7d5e40b",
   "metadata": {},
   "outputs": [],
   "source": []
  },
  {
   "cell_type": "markdown",
   "id": "edfe65bc-d711-4adb-99b6-5468fa757070",
   "metadata": {},
   "source": [
    "#### KS Statics"
   ]
  },
  {
   "cell_type": "code",
   "execution_count": 30,
   "id": "c04209de-0e9a-4b17-a36c-ee057c5624b7",
   "metadata": {},
   "outputs": [],
   "source": [
    "y_pred_proba = lr.predict_proba(X_test_s1_xg_scaled)"
   ]
  },
  {
   "cell_type": "code",
   "execution_count": 31,
   "id": "ebd12180-ef8f-4aca-8456-228106016388",
   "metadata": {},
   "outputs": [
    {
     "data": {
      "text/plain": [
       "array([0.91182305, 0.52257029, 0.85711798, ..., 0.14337204, 0.42969106,\n",
       "       0.84486869])"
      ]
     },
     "execution_count": 31,
     "metadata": {},
     "output_type": "execute_result"
    }
   ],
   "source": [
    "y_pred_proba[::,0]"
   ]
  },
  {
   "cell_type": "code",
   "execution_count": 32,
   "id": "6c980430-0705-4472-b314-0f9f6c4a9a23",
   "metadata": {},
   "outputs": [],
   "source": [
    "df_evaluation = pd.DataFrame(y_test_s1_xg)\n",
    "df_evaluation['target'] = df_evaluation\n",
    "df_evaluation['probability_negative'] = y_pred_proba[::,0]\n",
    "df_evaluation['probability_positive'] = y_pred_proba[::,1]"
   ]
  },
  {
   "cell_type": "code",
   "execution_count": 33,
   "id": "e79c8e99-d3f0-4730-b3e1-5f540bcc4e14",
   "metadata": {},
   "outputs": [
    {
     "name": "stdout",
     "output_type": "stream",
     "text": [
      "        min_prob  max_prob  events  nonevents event_rate nonevent_rate  \\\n",
      "Decile                                                                   \n",
      "1       0.906819  0.999771     531         52     13.88%         2.60%   \n",
      "2       0.851152  0.906768     512         71     13.38%         3.55%   \n",
      "3       0.796394  0.851104     485         98     12.67%         4.90%   \n",
      "4       0.737454  0.796185     472        110     12.33%         5.50%   \n",
      "5       0.680288  0.737246     440        143     11.50%         7.15%   \n",
      "6       0.613388  0.680185     385        198     10.06%         9.90%   \n",
      "7       0.539876  0.613256     352        230      9.20%        11.49%   \n",
      "8       0.448554  0.539869     291        292      7.60%        14.59%   \n",
      "9       0.326320  0.448279     211        372      5.51%        18.59%   \n",
      "10      0.015067  0.326204     148        435      3.87%        21.74%   \n",
      "\n",
      "       cum_eventrate cum_noneventrate    KS  \n",
      "Decile                                       \n",
      "1             13.88%            2.60%  11.3  \n",
      "2             27.25%            6.15%  21.1  \n",
      "3             39.93%           11.04%  28.9  \n",
      "4             52.26%           16.54%  35.7  \n",
      "5             63.76%           23.69%  40.1  \n",
      "6             73.82%           33.58%  40.2  \n",
      "7             83.02%           45.08%  37.9  \n",
      "8             90.62%           59.67%  30.9  \n",
      "9             96.13%           78.26%  17.9  \n",
      "10           100.00%          100.00%   0.0  \n",
      "\u001b[31mKS is 40.2% at decile 6\n"
     ]
    },
    {
     "data": {
      "text/html": [
       "<div>\n",
       "<style scoped>\n",
       "    .dataframe tbody tr th:only-of-type {\n",
       "        vertical-align: middle;\n",
       "    }\n",
       "\n",
       "    .dataframe tbody tr th {\n",
       "        vertical-align: top;\n",
       "    }\n",
       "\n",
       "    .dataframe thead th {\n",
       "        text-align: right;\n",
       "    }\n",
       "</style>\n",
       "<table border=\"1\" class=\"dataframe\">\n",
       "  <thead>\n",
       "    <tr style=\"text-align: right;\">\n",
       "      <th></th>\n",
       "      <th>min_prob</th>\n",
       "      <th>max_prob</th>\n",
       "      <th>events</th>\n",
       "      <th>nonevents</th>\n",
       "      <th>event_rate</th>\n",
       "      <th>nonevent_rate</th>\n",
       "      <th>cum_eventrate</th>\n",
       "      <th>cum_noneventrate</th>\n",
       "      <th>KS</th>\n",
       "    </tr>\n",
       "    <tr>\n",
       "      <th>Decile</th>\n",
       "      <th></th>\n",
       "      <th></th>\n",
       "      <th></th>\n",
       "      <th></th>\n",
       "      <th></th>\n",
       "      <th></th>\n",
       "      <th></th>\n",
       "      <th></th>\n",
       "      <th></th>\n",
       "    </tr>\n",
       "  </thead>\n",
       "  <tbody>\n",
       "    <tr>\n",
       "      <th>1</th>\n",
       "      <td>0.906819</td>\n",
       "      <td>0.999771</td>\n",
       "      <td>531</td>\n",
       "      <td>52</td>\n",
       "      <td>13.88%</td>\n",
       "      <td>2.60%</td>\n",
       "      <td>13.88%</td>\n",
       "      <td>2.60%</td>\n",
       "      <td>11.3</td>\n",
       "    </tr>\n",
       "    <tr>\n",
       "      <th>2</th>\n",
       "      <td>0.851152</td>\n",
       "      <td>0.906768</td>\n",
       "      <td>512</td>\n",
       "      <td>71</td>\n",
       "      <td>13.38%</td>\n",
       "      <td>3.55%</td>\n",
       "      <td>27.25%</td>\n",
       "      <td>6.15%</td>\n",
       "      <td>21.1</td>\n",
       "    </tr>\n",
       "    <tr>\n",
       "      <th>3</th>\n",
       "      <td>0.796394</td>\n",
       "      <td>0.851104</td>\n",
       "      <td>485</td>\n",
       "      <td>98</td>\n",
       "      <td>12.67%</td>\n",
       "      <td>4.90%</td>\n",
       "      <td>39.93%</td>\n",
       "      <td>11.04%</td>\n",
       "      <td>28.9</td>\n",
       "    </tr>\n",
       "    <tr>\n",
       "      <th>4</th>\n",
       "      <td>0.737454</td>\n",
       "      <td>0.796185</td>\n",
       "      <td>472</td>\n",
       "      <td>110</td>\n",
       "      <td>12.33%</td>\n",
       "      <td>5.50%</td>\n",
       "      <td>52.26%</td>\n",
       "      <td>16.54%</td>\n",
       "      <td>35.7</td>\n",
       "    </tr>\n",
       "    <tr>\n",
       "      <th>5</th>\n",
       "      <td>0.680288</td>\n",
       "      <td>0.737246</td>\n",
       "      <td>440</td>\n",
       "      <td>143</td>\n",
       "      <td>11.50%</td>\n",
       "      <td>7.15%</td>\n",
       "      <td>63.76%</td>\n",
       "      <td>23.69%</td>\n",
       "      <td>40.1</td>\n",
       "    </tr>\n",
       "    <tr>\n",
       "      <th>6</th>\n",
       "      <td>0.613388</td>\n",
       "      <td>0.680185</td>\n",
       "      <td>385</td>\n",
       "      <td>198</td>\n",
       "      <td>10.06%</td>\n",
       "      <td>9.90%</td>\n",
       "      <td>73.82%</td>\n",
       "      <td>33.58%</td>\n",
       "      <td>40.2</td>\n",
       "    </tr>\n",
       "    <tr>\n",
       "      <th>7</th>\n",
       "      <td>0.539876</td>\n",
       "      <td>0.613256</td>\n",
       "      <td>352</td>\n",
       "      <td>230</td>\n",
       "      <td>9.20%</td>\n",
       "      <td>11.49%</td>\n",
       "      <td>83.02%</td>\n",
       "      <td>45.08%</td>\n",
       "      <td>37.9</td>\n",
       "    </tr>\n",
       "    <tr>\n",
       "      <th>8</th>\n",
       "      <td>0.448554</td>\n",
       "      <td>0.539869</td>\n",
       "      <td>291</td>\n",
       "      <td>292</td>\n",
       "      <td>7.60%</td>\n",
       "      <td>14.59%</td>\n",
       "      <td>90.62%</td>\n",
       "      <td>59.67%</td>\n",
       "      <td>30.9</td>\n",
       "    </tr>\n",
       "    <tr>\n",
       "      <th>9</th>\n",
       "      <td>0.326320</td>\n",
       "      <td>0.448279</td>\n",
       "      <td>211</td>\n",
       "      <td>372</td>\n",
       "      <td>5.51%</td>\n",
       "      <td>18.59%</td>\n",
       "      <td>96.13%</td>\n",
       "      <td>78.26%</td>\n",
       "      <td>17.9</td>\n",
       "    </tr>\n",
       "    <tr>\n",
       "      <th>10</th>\n",
       "      <td>0.015067</td>\n",
       "      <td>0.326204</td>\n",
       "      <td>148</td>\n",
       "      <td>435</td>\n",
       "      <td>3.87%</td>\n",
       "      <td>21.74%</td>\n",
       "      <td>100.00%</td>\n",
       "      <td>100.00%</td>\n",
       "      <td>0.0</td>\n",
       "    </tr>\n",
       "  </tbody>\n",
       "</table>\n",
       "</div>"
      ],
      "text/plain": [
       "        min_prob  max_prob  events  nonevents event_rate nonevent_rate  \\\n",
       "Decile                                                                   \n",
       "1       0.906819  0.999771     531         52     13.88%         2.60%   \n",
       "2       0.851152  0.906768     512         71     13.38%         3.55%   \n",
       "3       0.796394  0.851104     485         98     12.67%         4.90%   \n",
       "4       0.737454  0.796185     472        110     12.33%         5.50%   \n",
       "5       0.680288  0.737246     440        143     11.50%         7.15%   \n",
       "6       0.613388  0.680185     385        198     10.06%         9.90%   \n",
       "7       0.539876  0.613256     352        230      9.20%        11.49%   \n",
       "8       0.448554  0.539869     291        292      7.60%        14.59%   \n",
       "9       0.326320  0.448279     211        372      5.51%        18.59%   \n",
       "10      0.015067  0.326204     148        435      3.87%        21.74%   \n",
       "\n",
       "       cum_eventrate cum_noneventrate    KS  \n",
       "Decile                                       \n",
       "1             13.88%            2.60%  11.3  \n",
       "2             27.25%            6.15%  21.1  \n",
       "3             39.93%           11.04%  28.9  \n",
       "4             52.26%           16.54%  35.7  \n",
       "5             63.76%           23.69%  40.1  \n",
       "6             73.82%           33.58%  40.2  \n",
       "7             83.02%           45.08%  37.9  \n",
       "8             90.62%           59.67%  30.9  \n",
       "9             96.13%           78.26%  17.9  \n",
       "10           100.00%          100.00%   0.0  "
      ]
     },
     "execution_count": 33,
     "metadata": {},
     "output_type": "execute_result"
    }
   ],
   "source": [
    "calculate_ks(data=df_evaluation,target=\"target\", prob=\"probability_positive\")"
   ]
  },
  {
   "cell_type": "code",
   "execution_count": null,
   "id": "f3ae357e-858c-4777-9746-7a2160352711",
   "metadata": {},
   "outputs": [],
   "source": []
  },
  {
   "cell_type": "markdown",
   "id": "69cfa072-22f3-4978-99d8-0124e689b300",
   "metadata": {},
   "source": [
    "Observation"
   ]
  },
  {
   "cell_type": "code",
   "execution_count": null,
   "id": "d8bddebe-728f-40bd-bfe6-1b0bfc790862",
   "metadata": {},
   "outputs": [],
   "source": []
  },
  {
   "cell_type": "markdown",
   "id": "eff5610e-8027-43bb-bf5d-55fcafdadae1",
   "metadata": {},
   "source": [
    "### 3. Stacking Classifier"
   ]
  },
  {
   "cell_type": "code",
   "execution_count": 34,
   "id": "8c909fea-4e65-4fb3-a58c-5eea7e536129",
   "metadata": {},
   "outputs": [],
   "source": [
    "#! pip3 install mlxtend"
   ]
  },
  {
   "cell_type": "code",
   "execution_count": 35,
   "id": "9cb7bd53-2ec4-4b26-abad-4576bfc2f202",
   "metadata": {},
   "outputs": [],
   "source": [
    "from mlxtend.classifier import StackingCVClassifier\n",
    "from sklearn.ensemble import RandomForestClassifier\n",
    "from sklearn import model_selection"
   ]
  },
  {
   "cell_type": "code",
   "execution_count": 36,
   "id": "70e14eda-dc8f-43b2-8478-e2f3567afe4b",
   "metadata": {},
   "outputs": [],
   "source": [
    "# 1st set of models\n",
    "clf1 = LogisticRegression(C=0.02154,penalty='l2',solver='lbfgs', random_state=0,max_iter=10000)\n",
    "clf2 = RandomForestClassifier(random_state=1, n_estimators=10) \n",
    "\n",
    "xgb_boost = xgb.XGBClassifier(use_label_encoder=False, objective=\"binary:logistic\", random_state=45, eval_metric='logloss', booster='gbtree',\n",
    "                             min_child_weight=5, subsample=0.8, max_depth=6, learning_rate=0.025)\n",
    "\n",
    "clf_stacking = StackingCVClassifier(classifiers=[clf1, clf2], meta_classifier=xgb_boost, use_probas=True, cv=3,random_state=42)"
   ]
  },
  {
   "cell_type": "code",
   "execution_count": 37,
   "id": "3b09448b-507f-436c-9f9f-4a2e55354fc5",
   "metadata": {},
   "outputs": [
    {
     "name": "stdout",
     "output_type": "stream",
     "text": [
      "0.720 +/- 0.00 {'random_state': 42}\n",
      "Best parameters: {'random_state': 42}\n",
      "Accuracy: 0.72\n"
     ]
    }
   ],
   "source": [
    "params = { 'random_state':[42], }\n",
    "\n",
    "grid = GridSearchCV(estimator=clf_stacking, \n",
    "                    param_grid=params, \n",
    "                    cv=3,\n",
    "                    refit=True)\n",
    "\n",
    "grid.fit(X_train_s1_xg_scaled, y_train_s1_xg)\n",
    "\n",
    "cv_keys = ('mean_test_score', 'std_test_score', 'params')\n",
    "\n",
    "for r, _ in enumerate(grid.cv_results_['mean_test_score']):\n",
    "    print(\"%0.3f +/- %0.2f %r\"\n",
    "          % (grid.cv_results_[cv_keys[0]][r],\n",
    "             grid.cv_results_[cv_keys[1]][r] / 2.0,\n",
    "             grid.cv_results_[cv_keys[2]][r]))\n",
    "\n",
    "print('Best parameters: %s' % grid.best_params_)\n",
    "print('Accuracy: %.2f' % grid.best_score_)"
   ]
  },
  {
   "cell_type": "code",
   "execution_count": null,
   "id": "06a7e925-64a9-4648-8fe4-b1e53f1907e5",
   "metadata": {},
   "outputs": [],
   "source": []
  },
  {
   "cell_type": "markdown",
   "id": "4e00d8b1-34c4-4120-9f7c-057b8a2e3297",
   "metadata": {},
   "source": [
    "#### Accuracy"
   ]
  },
  {
   "cell_type": "code",
   "execution_count": 38,
   "id": "a553bf6a-1ce4-496c-9d14-547eb465a6f7",
   "metadata": {},
   "outputs": [],
   "source": [
    "best_estimator = grid.best_estimator_\n",
    "accuracy = best_estimator.score(X_test_s1_xg_scaled, y_test_s1_xg)"
   ]
  },
  {
   "cell_type": "code",
   "execution_count": 39,
   "id": "9030282a-c4a7-4f4c-868b-89a75769ca68",
   "metadata": {},
   "outputs": [
    {
     "name": "stdout",
     "output_type": "stream",
     "text": [
      "The accuracy is 73.8675360329444 %\n"
     ]
    }
   ],
   "source": [
    "print(f'The accuracy is {accuracy*100} %')"
   ]
  },
  {
   "cell_type": "code",
   "execution_count": null,
   "id": "472a58db-ad1e-47de-aa5c-e14695dfe0dd",
   "metadata": {},
   "outputs": [],
   "source": []
  },
  {
   "cell_type": "markdown",
   "id": "c3b9a021-6b98-4e6e-a4a2-65b1c5b42ef1",
   "metadata": {},
   "source": [
    "#### Confusion Matrix"
   ]
  },
  {
   "cell_type": "code",
   "execution_count": 40,
   "id": "919a0f25-4134-4bc2-a089-ac6714c805fa",
   "metadata": {},
   "outputs": [
    {
     "data": {
      "image/png": "[encoded data removed]",
      "text/plain": [
       "<Figure size 432x288 with 2 Axes>"
      ]
     },
     "metadata": {
      "needs_background": "light"
     },
     "output_type": "display_data"
    }
   ],
   "source": [
    "preds = best_estimator.predict(X_test_s1_xg_scaled)\n",
    "#preds\n",
    "ConfusionMatrixDisplay.from_predictions(y_test_s1_xg, preds)\n",
    "plt.show()"
   ]
  },
  {
   "cell_type": "code",
   "execution_count": null,
   "id": "733cf2aa-9f1d-41b5-a941-c81bd65d1081",
   "metadata": {},
   "outputs": [],
   "source": []
  },
  {
   "cell_type": "markdown",
   "id": "ac06d41d-00ad-4dcb-8ea5-7898c1e5be34",
   "metadata": {},
   "source": [
    "#### ROC AUC"
   ]
  },
  {
   "cell_type": "code",
   "execution_count": 41,
   "id": "7abe8c01-f1d1-4ec0-bf02-6d5274caf10f",
   "metadata": {},
   "outputs": [
    {
     "name": "stdout",
     "output_type": "stream",
     "text": [
      "The Precision for secenrio 1 gender prediction using logistic regression is 72.95850529440507 %\n",
      "The Recall for secenrio 1 gender prediction using logistic regression is 73.8675360329444 %\n",
      "The FScore for secenrio 1 gender prediction using logistic regression is 72.41688279844553 %\n"
     ]
    }
   ],
   "source": [
    "score = precision_recall_fscore_support(y_test_s1_xg, preds, average='weighted')\n",
    "print(f'The Precision for secenrio 1 gender prediction using logistic regression is {score[0]*100} %')\n",
    "print(f'The Recall for secenrio 1 gender prediction using logistic regression is {score[1]*100} %')\n",
    "print(f'The FScore for secenrio 1 gender prediction using logistic regression is {score[2]*100} %')"
   ]
  },
  {
   "cell_type": "code",
   "execution_count": 42,
   "id": "76de6d69-7b90-4635-a078-9912ab55f87d",
   "metadata": {},
   "outputs": [
    {
     "name": "stderr",
     "output_type": "stream",
     "text": [
      "C:\\Users\\chand\\anaconda3\\lib\\site-packages\\sklearn\\utils\\deprecation.py:87: FutureWarning: Function plot_roc_curve is deprecated; Function `plot_roc_curve` is deprecated in 1.0 and will be removed in 1.2. Use one of the class methods: RocCurveDisplay.from_predictions or RocCurveDisplay.from_estimator.\n",
      "  warnings.warn(msg, category=FutureWarning)\n"
     ]
    },
    {
     "data": {
      "image/png": "[encoded data removed]",
      "text/plain": [
       "<Figure size 432x288 with 1 Axes>"
      ]
     },
     "metadata": {
      "needs_background": "light"
     },
     "output_type": "display_data"
    }
   ],
   "source": [
    "metrics.plot_roc_curve(lr, X_test_s1_xg_scaled, y_test_s1_xg) \n",
    "plt.show()"
   ]
  },
  {
   "cell_type": "code",
   "execution_count": null,
   "id": "0fb424c9-d0b6-4e0b-b89e-4ed93b8d838a",
   "metadata": {},
   "outputs": [],
   "source": []
  },
  {
   "cell_type": "markdown",
   "id": "ea03f1ba-31ee-4614-bc5f-51ee656c5e95",
   "metadata": {},
   "source": [
    "#### KS Statistics"
   ]
  },
  {
   "cell_type": "code",
   "execution_count": 43,
   "id": "524f45f9-3ec4-4b5d-8124-e90c13206f97",
   "metadata": {},
   "outputs": [],
   "source": [
    "y_pred_proba = lr.predict_proba(X_test_s1_xg_scaled)"
   ]
  },
  {
   "cell_type": "code",
   "execution_count": 44,
   "id": "15c53324-77fe-4e00-b0c0-1d2902ec4b98",
   "metadata": {},
   "outputs": [
    {
     "data": {
      "text/plain": [
       "array([0.91182305, 0.52257029, 0.85711798, ..., 0.14337204, 0.42969106,\n",
       "       0.84486869])"
      ]
     },
     "execution_count": 44,
     "metadata": {},
     "output_type": "execute_result"
    }
   ],
   "source": [
    "y_pred_proba[::,0]"
   ]
  },
  {
   "cell_type": "code",
   "execution_count": 45,
   "id": "bd7fc711-a60f-4229-95ac-79db407a7e35",
   "metadata": {},
   "outputs": [],
   "source": [
    "df_evaluation = pd.DataFrame(y_test_s1_xg)\n",
    "df_evaluation['target'] = df_evaluation\n",
    "df_evaluation['probability_negative'] = y_pred_proba[::,0]\n",
    "df_evaluation['probability_positive'] = y_pred_proba[::,1]"
   ]
  },
  {
   "cell_type": "code",
   "execution_count": 46,
   "id": "09deb343-8285-427d-a06b-538752717dcf",
   "metadata": {},
   "outputs": [
    {
     "name": "stdout",
     "output_type": "stream",
     "text": [
      "        min_prob  max_prob  events  nonevents event_rate nonevent_rate  \\\n",
      "Decile                                                                   \n",
      "1       0.906819  0.999771     531         52     13.88%         2.60%   \n",
      "2       0.851152  0.906768     512         71     13.38%         3.55%   \n",
      "3       0.796394  0.851104     485         98     12.67%         4.90%   \n",
      "4       0.737454  0.796185     472        110     12.33%         5.50%   \n",
      "5       0.680288  0.737246     440        143     11.50%         7.15%   \n",
      "6       0.613388  0.680185     385        198     10.06%         9.90%   \n",
      "7       0.539876  0.613256     352        230      9.20%        11.49%   \n",
      "8       0.448554  0.539869     291        292      7.60%        14.59%   \n",
      "9       0.326320  0.448279     211        372      5.51%        18.59%   \n",
      "10      0.015067  0.326204     148        435      3.87%        21.74%   \n",
      "\n",
      "       cum_eventrate cum_noneventrate    KS  \n",
      "Decile                                       \n",
      "1             13.88%            2.60%  11.3  \n",
      "2             27.25%            6.15%  21.1  \n",
      "3             39.93%           11.04%  28.9  \n",
      "4             52.26%           16.54%  35.7  \n",
      "5             63.76%           23.69%  40.1  \n",
      "6             73.82%           33.58%  40.2  \n",
      "7             83.02%           45.08%  37.9  \n",
      "8             90.62%           59.67%  30.9  \n",
      "9             96.13%           78.26%  17.9  \n",
      "10           100.00%          100.00%   0.0  \n",
      "\u001b[31mKS is 40.2% at decile 6\n"
     ]
    },
    {
     "data": {
      "text/html": [
       "<div>\n",
       "<style scoped>\n",
       "    .dataframe tbody tr th:only-of-type {\n",
       "        vertical-align: middle;\n",
       "    }\n",
       "\n",
       "    .dataframe tbody tr th {\n",
       "        vertical-align: top;\n",
       "    }\n",
       "\n",
       "    .dataframe thead th {\n",
       "        text-align: right;\n",
       "    }\n",
       "</style>\n",
       "<table border=\"1\" class=\"dataframe\">\n",
       "  <thead>\n",
       "    <tr style=\"text-align: right;\">\n",
       "      <th></th>\n",
       "      <th>min_prob</th>\n",
       "      <th>max_prob</th>\n",
       "      <th>events</th>\n",
       "      <th>nonevents</th>\n",
       "      <th>event_rate</th>\n",
       "      <th>nonevent_rate</th>\n",
       "      <th>cum_eventrate</th>\n",
       "      <th>cum_noneventrate</th>\n",
       "      <th>KS</th>\n",
       "    </tr>\n",
       "    <tr>\n",
       "      <th>Decile</th>\n",
       "      <th></th>\n",
       "      <th></th>\n",
       "      <th></th>\n",
       "      <th></th>\n",
       "      <th></th>\n",
       "      <th></th>\n",
       "      <th></th>\n",
       "      <th></th>\n",
       "      <th></th>\n",
       "    </tr>\n",
       "  </thead>\n",
       "  <tbody>\n",
       "    <tr>\n",
       "      <th>1</th>\n",
       "      <td>0.906819</td>\n",
       "      <td>0.999771</td>\n",
       "      <td>531</td>\n",
       "      <td>52</td>\n",
       "      <td>13.88%</td>\n",
       "      <td>2.60%</td>\n",
       "      <td>13.88%</td>\n",
       "      <td>2.60%</td>\n",
       "      <td>11.3</td>\n",
       "    </tr>\n",
       "    <tr>\n",
       "      <th>2</th>\n",
       "      <td>0.851152</td>\n",
       "      <td>0.906768</td>\n",
       "      <td>512</td>\n",
       "      <td>71</td>\n",
       "      <td>13.38%</td>\n",
       "      <td>3.55%</td>\n",
       "      <td>27.25%</td>\n",
       "      <td>6.15%</td>\n",
       "      <td>21.1</td>\n",
       "    </tr>\n",
       "    <tr>\n",
       "      <th>3</th>\n",
       "      <td>0.796394</td>\n",
       "      <td>0.851104</td>\n",
       "      <td>485</td>\n",
       "      <td>98</td>\n",
       "      <td>12.67%</td>\n",
       "      <td>4.90%</td>\n",
       "      <td>39.93%</td>\n",
       "      <td>11.04%</td>\n",
       "      <td>28.9</td>\n",
       "    </tr>\n",
       "    <tr>\n",
       "      <th>4</th>\n",
       "      <td>0.737454</td>\n",
       "      <td>0.796185</td>\n",
       "      <td>472</td>\n",
       "      <td>110</td>\n",
       "      <td>12.33%</td>\n",
       "      <td>5.50%</td>\n",
       "      <td>52.26%</td>\n",
       "      <td>16.54%</td>\n",
       "      <td>35.7</td>\n",
       "    </tr>\n",
       "    <tr>\n",
       "      <th>5</th>\n",
       "      <td>0.680288</td>\n",
       "      <td>0.737246</td>\n",
       "      <td>440</td>\n",
       "      <td>143</td>\n",
       "      <td>11.50%</td>\n",
       "      <td>7.15%</td>\n",
       "      <td>63.76%</td>\n",
       "      <td>23.69%</td>\n",
       "      <td>40.1</td>\n",
       "    </tr>\n",
       "    <tr>\n",
       "      <th>6</th>\n",
       "      <td>0.613388</td>\n",
       "      <td>0.680185</td>\n",
       "      <td>385</td>\n",
       "      <td>198</td>\n",
       "      <td>10.06%</td>\n",
       "      <td>9.90%</td>\n",
       "      <td>73.82%</td>\n",
       "      <td>33.58%</td>\n",
       "      <td>40.2</td>\n",
       "    </tr>\n",
       "    <tr>\n",
       "      <th>7</th>\n",
       "      <td>0.539876</td>\n",
       "      <td>0.613256</td>\n",
       "      <td>352</td>\n",
       "      <td>230</td>\n",
       "      <td>9.20%</td>\n",
       "      <td>11.49%</td>\n",
       "      <td>83.02%</td>\n",
       "      <td>45.08%</td>\n",
       "      <td>37.9</td>\n",
       "    </tr>\n",
       "    <tr>\n",
       "      <th>8</th>\n",
       "      <td>0.448554</td>\n",
       "      <td>0.539869</td>\n",
       "      <td>291</td>\n",
       "      <td>292</td>\n",
       "      <td>7.60%</td>\n",
       "      <td>14.59%</td>\n",
       "      <td>90.62%</td>\n",
       "      <td>59.67%</td>\n",
       "      <td>30.9</td>\n",
       "    </tr>\n",
       "    <tr>\n",
       "      <th>9</th>\n",
       "      <td>0.326320</td>\n",
       "      <td>0.448279</td>\n",
       "      <td>211</td>\n",
       "      <td>372</td>\n",
       "      <td>5.51%</td>\n",
       "      <td>18.59%</td>\n",
       "      <td>96.13%</td>\n",
       "      <td>78.26%</td>\n",
       "      <td>17.9</td>\n",
       "    </tr>\n",
       "    <tr>\n",
       "      <th>10</th>\n",
       "      <td>0.015067</td>\n",
       "      <td>0.326204</td>\n",
       "      <td>148</td>\n",
       "      <td>435</td>\n",
       "      <td>3.87%</td>\n",
       "      <td>21.74%</td>\n",
       "      <td>100.00%</td>\n",
       "      <td>100.00%</td>\n",
       "      <td>0.0</td>\n",
       "    </tr>\n",
       "  </tbody>\n",
       "</table>\n",
       "</div>"
      ],
      "text/plain": [
       "        min_prob  max_prob  events  nonevents event_rate nonevent_rate  \\\n",
       "Decile                                                                   \n",
       "1       0.906819  0.999771     531         52     13.88%         2.60%   \n",
       "2       0.851152  0.906768     512         71     13.38%         3.55%   \n",
       "3       0.796394  0.851104     485         98     12.67%         4.90%   \n",
       "4       0.737454  0.796185     472        110     12.33%         5.50%   \n",
       "5       0.680288  0.737246     440        143     11.50%         7.15%   \n",
       "6       0.613388  0.680185     385        198     10.06%         9.90%   \n",
       "7       0.539876  0.613256     352        230      9.20%        11.49%   \n",
       "8       0.448554  0.539869     291        292      7.60%        14.59%   \n",
       "9       0.326320  0.448279     211        372      5.51%        18.59%   \n",
       "10      0.015067  0.326204     148        435      3.87%        21.74%   \n",
       "\n",
       "       cum_eventrate cum_noneventrate    KS  \n",
       "Decile                                       \n",
       "1             13.88%            2.60%  11.3  \n",
       "2             27.25%            6.15%  21.1  \n",
       "3             39.93%           11.04%  28.9  \n",
       "4             52.26%           16.54%  35.7  \n",
       "5             63.76%           23.69%  40.1  \n",
       "6             73.82%           33.58%  40.2  \n",
       "7             83.02%           45.08%  37.9  \n",
       "8             90.62%           59.67%  30.9  \n",
       "9             96.13%           78.26%  17.9  \n",
       "10           100.00%          100.00%   0.0  "
      ]
     },
     "execution_count": 46,
     "metadata": {},
     "output_type": "execute_result"
    }
   ],
   "source": [
    "calculate_ks(data=df_evaluation,target=\"target\", prob=\"probability_positive\")"
   ]
  },
  {
   "cell_type": "code",
   "execution_count": null,
   "id": "e6bc0024-b0e2-412b-b6ce-c93b94738322",
   "metadata": {},
   "outputs": [],
   "source": []
  },
  {
   "cell_type": "markdown",
   "id": "b712661e-08c6-4aef-93a1-cf240428edcc",
   "metadata": {},
   "source": [
    "> ## Here we finish Scenerio 1 model building. The conclusion the gender predicition was :"
   ]
  },
  {
   "cell_type": "code",
   "execution_count": null,
   "id": "c73aaca4-ecae-4b82-a3d8-d6578dd9eff4",
   "metadata": {},
   "outputs": [],
   "source": []
  },
  {
   "cell_type": "markdown",
   "id": "787b3024-85a6-4edb-9369-2c1f33d3fd34",
   "metadata": {
    "tags": []
   },
   "source": [
    "## Scenario:1 - Age Predition"
   ]
  },
  {
   "cell_type": "markdown",
   "id": "0bba9a5d-2143-48e6-a860-b988c6f7ca96",
   "metadata": {},
   "source": [
    "##### We decided to go for Regression for age prediction because we wnted to try both kind of model building techniques that is Classification and Regression. Classification is covered in the Gender prediction scenario, so for this linear regression is a good candidate"
   ]
  },
  {
   "cell_type": "code",
   "execution_count": null,
   "id": "17f22bdc-2588-4e51-a858-c93de605a7a1",
   "metadata": {},
   "outputs": [],
   "source": []
  },
  {
   "cell_type": "markdown",
   "id": "01e031cc-07a6-4840-8a26-a81ccbc0bc0c",
   "metadata": {},
   "source": [
    "## 1. Linear Regression"
   ]
  },
  {
   "cell_type": "code",
   "execution_count": 47,
   "id": "4a4d5317-99a1-440d-9434-cf740d3c76d4",
   "metadata": {},
   "outputs": [],
   "source": [
    "from sklearn.linear_model import LinearRegression\n",
    "from sklearn.metrics import mean_squared_error"
   ]
  },
  {
   "cell_type": "code",
   "execution_count": 48,
   "id": "b982cea6-3465-4d2b-a52c-b6ad321e9bee",
   "metadata": {},
   "outputs": [
    {
     "name": "stdout",
     "output_type": "stream",
     "text": [
      "Wall time: 1min 30s\n"
     ]
    }
   ],
   "source": [
    "%%time\n",
    "#load data\n",
    "df_train_s1 = pd.read_csv('scenario1_train.csv')\n",
    "df_test_s1 = pd.read_csv('scenario1_test.csv')"
   ]
  },
  {
   "cell_type": "code",
   "execution_count": 49,
   "id": "c757bb8b-c9b5-4a64-8f25-afe773498ac8",
   "metadata": {},
   "outputs": [],
   "source": [
    "# conver gender to digits\n",
    "df_train_s1.gender = df_train_s1.gender.map(lambda x: 1 if x == \"M\" else 0)\n",
    "df_test_s1.gender = df_test_s1.gender.map(lambda x: 1 if x == \"M\" else 0)"
   ]
  },
  {
   "cell_type": "code",
   "execution_count": 50,
   "id": "e373da86-6188-4bed-9b57-37c02cf703aa",
   "metadata": {},
   "outputs": [],
   "source": [
    "df_train_s1 = df_train_s1.drop(columns=['group','device_id']).dropna()\n",
    "df_test_s1 = df_test_s1.drop(columns=['group','device_id']).dropna()"
   ]
  },
  {
   "cell_type": "code",
   "execution_count": 51,
   "id": "de8a980b-2ac9-40f5-8fb1-2125eb8341bc",
   "metadata": {},
   "outputs": [],
   "source": [
    "#scale the data\n",
    "#scaler = StandardScaler()\n",
    "#df_train_s1_scaled =  scaler.fit(df_train_s1).transform(df_train_s1)\n",
    "#df_test_s1_scaled = scaler.fit(df_test_s1).transform(df_test_s1)\n"
   ]
  },
  {
   "cell_type": "code",
   "execution_count": 52,
   "id": "da55edef-33f2-4b05-8c13-54e3cbd108f6",
   "metadata": {},
   "outputs": [],
   "source": [
    "#df_train_s1_scaled = pd.DataFrame(df_train_s1_scaled, columns = df_train_s1.columns)\n",
    "#df_test_s1_scaled = pd.DataFrame(df_test_s1_scaled, columns = df_test_s1.columns)\n"
   ]
  },
  {
   "cell_type": "code",
   "execution_count": null,
   "id": "a20bb76c-c20b-4388-8955-66f3d2263035",
   "metadata": {},
   "outputs": [],
   "source": []
  },
  {
   "cell_type": "code",
   "execution_count": 53,
   "id": "d8b2d0db-73d3-47d0-b53b-ecb8cca726a5",
   "metadata": {},
   "outputs": [],
   "source": [
    "# prepare train test data\n",
    "y_train_s1 = df_train_s1['age']\n",
    "X_train_s1 = df_train_s1.drop(columns=['age'])\n",
    "\n",
    "y_test_s1 = df_test_s1['age']\n",
    "X_test_s1 = df_test_s1.drop(columns=['age'])\n",
    "\n"
   ]
  },
  {
   "cell_type": "code",
   "execution_count": 54,
   "id": "bbeb2c7e-46da-4364-896c-e9f434cfa662",
   "metadata": {},
   "outputs": [],
   "source": [
    "# the model\n",
    "reg = LinearRegression().fit(X_train_s1, y_train_s1)"
   ]
  },
  {
   "cell_type": "code",
   "execution_count": 55,
   "id": "9ea5dfcf-4952-46b1-bbcd-da36c433880f",
   "metadata": {},
   "outputs": [],
   "source": [
    "y_pred = reg.predict(X_test_s1)"
   ]
  },
  {
   "cell_type": "code",
   "execution_count": null,
   "id": "d8570731-4ac7-4cf4-9a87-ad215b033034",
   "metadata": {},
   "outputs": [],
   "source": []
  },
  {
   "cell_type": "markdown",
   "id": "39d8e3a1-7db4-49e2-8cc8-43e5ce9b3438",
   "metadata": {},
   "source": [
    "#### RMSE"
   ]
  },
  {
   "cell_type": "code",
   "execution_count": 56,
   "id": "a898ed70-7d61-4b4c-9944-b108c8306a6a",
   "metadata": {},
   "outputs": [
    {
     "name": "stdout",
     "output_type": "stream",
     "text": [
      "Root mean square error for this model is: 3.796756396581841\n"
     ]
    }
   ],
   "source": [
    "rmse = mean_squared_error(y_test_s1, y_pred, squared=False)\n",
    "print (F\"Root mean square error for this model is: {rmse}\")"
   ]
  },
  {
   "cell_type": "markdown",
   "id": "6617fe6d-8b61-4ffc-80a3-1f1cb7eee563",
   "metadata": {},
   "source": [
    "#### R-Squared"
   ]
  },
  {
   "cell_type": "code",
   "execution_count": 57,
   "id": "f8762dc5-701b-4e67-bac2-6c628027158f",
   "metadata": {},
   "outputs": [
    {
     "name": "stdout",
     "output_type": "stream",
     "text": [
      "R-Squared for this model is: 0.855427431141542\n"
     ]
    }
   ],
   "source": [
    "rs = reg.score(X_test_s1, y_test_s1)\n",
    "print (F\"R-Squared for this model is: {rs}\")"
   ]
  },
  {
   "cell_type": "markdown",
   "id": "9ca9c8da-8488-4708-b20c-9cf0da213a9e",
   "metadata": {},
   "source": [
    "#### Percentage population distribution"
   ]
  },
  {
   "cell_type": "code",
   "execution_count": 58,
   "id": "b704a0ac-4147-4064-a1e0-73e88912d24c",
   "metadata": {},
   "outputs": [],
   "source": [
    "results = pd.concat([y_test_s1, pd.Series(y_pred)], axis=1)\n",
    "results.columns = ['actual','predicted']\n",
    "results['Error'] = ((results.actual - results.predicted)/results.actual) * 100\n",
    "#results[(results.Error >= -25) & (results.Error <= 25)].Error.count(),results.Error.count()\n"
   ]
  },
  {
   "cell_type": "code",
   "execution_count": 59,
   "id": "12a3f50a-31c4-4e23-852d-761b6e809fb7",
   "metadata": {},
   "outputs": [
    {
     "data": {
      "image/png": "[encoded data removed]",
      "text/plain": [
       "<Figure size 432x288 with 1 Axes>"
      ]
     },
     "metadata": {},
     "output_type": "display_data"
    }
   ],
   "source": [
    "data = [results[(results.Error >= -25) & (results.Error <= 25)].Error.count(), results.Error.count()]\n",
    "labels = ['-+ 25%', 'Rest']\n",
    "\n",
    "#define Seaborn color palette to use\n",
    "colors = sns.color_palette('pastel')[0:5]\n",
    "\n",
    "plt.pie(data, labels = labels, colors = colors, autopct='%.0f%%')\n",
    "plt.show()"
   ]
  },
  {
   "cell_type": "code",
   "execution_count": 60,
   "id": "3769af98-06cc-42c3-b8be-481b371a3f6e",
   "metadata": {},
   "outputs": [
    {
     "data": {
      "image/png": "[encoded data removed]",
      "text/plain": [
       "<Figure size 432x288 with 1 Axes>"
      ]
     },
     "metadata": {
      "needs_background": "light"
     },
     "output_type": "display_data"
    }
   ],
   "source": [
    "results.Error.plot()\n",
    "plt.ylabel(\"Error %\")\n",
    "plt.show()"
   ]
  },
  {
   "cell_type": "code",
   "execution_count": null,
   "id": "29383bf2-4e97-4a8c-9369-cfd5faec110f",
   "metadata": {},
   "outputs": [],
   "source": [
    "            "
   ]
  },
  {
   "cell_type": "markdown",
   "id": "973e2621-a25d-4c42-ba41-9f32f0ce1cb5",
   "metadata": {},
   "source": [
    "## 2. XGBoost Regression"
   ]
  },
  {
   "cell_type": "code",
   "execution_count": 61,
   "id": "fc871cb9-d975-44d6-9c5e-36f57dd92f6d",
   "metadata": {},
   "outputs": [],
   "source": [
    "from sklearn.model_selection import RepeatedKFold\n",
    "from sklearn.model_selection import cross_val_score\n",
    "from numpy import absolute"
   ]
  },
  {
   "cell_type": "code",
   "execution_count": 62,
   "id": "2d2d7906-e3fb-4721-88e1-bc6ab400cc8f",
   "metadata": {},
   "outputs": [],
   "source": [
    "# the grid search and model\n",
    "xgb_model = xgb.XGBRegressor()\n",
    "\n",
    "params = {\n",
    "        'booster':['gbtree'],                \n",
    "        'min_child_weight': [5],        \n",
    "        'subsample': [1],        \n",
    "        'max_depth': [6], \n",
    "        'colsample_bylevel':[1],\n",
    "        'learning_rate': [0.30]\n",
    "\n",
    " }\n",
    "\n",
    "clf_xg = GridSearchCV(xgb_model, params, n_jobs=5, \n",
    "                   cv=StratifiedKFold(n_splits=5, shuffle=True), \n",
    "                   scoring='roc_auc',\n",
    "                   verbose=2, refit=True)\n",
    "#clf_xg"
   ]
  },
  {
   "cell_type": "markdown",
   "id": "d7b9db32-b12f-40cb-96ae-c29fd70656df",
   "metadata": {},
   "source": [
    "keeping the parameters less to train the model in time"
   ]
  },
  {
   "cell_type": "code",
   "execution_count": 63,
   "id": "c17bc439-cdfb-4c9d-9aea-053ffce18e99",
   "metadata": {},
   "outputs": [
    {
     "name": "stdout",
     "output_type": "stream",
     "text": [
      "Fitting 5 folds for each of 1 candidates, totalling 5 fits\n"
     ]
    },
    {
     "name": "stderr",
     "output_type": "stream",
     "text": [
      "C:\\Users\\chand\\anaconda3\\lib\\site-packages\\sklearn\\model_selection\\_split.py:680: UserWarning: The least populated class in y has only 1 members, which is less than n_splits=5.\n",
      "  UserWarning,\n",
      "C:\\Users\\chand\\anaconda3\\lib\\site-packages\\sklearn\\model_selection\\_search.py:972: UserWarning: One or more of the test scores are non-finite: [nan]\n",
      "  category=UserWarning,\n"
     ]
    },
    {
     "name": "stdout",
     "output_type": "stream",
     "text": [
      "Wall time: 19min 1s\n"
     ]
    },
    {
     "data": {
      "text/plain": [
       "GridSearchCV(cv=StratifiedKFold(n_splits=5, random_state=None, shuffle=True),\n",
       "             estimator=XGBRegressor(base_score=None, booster=None,\n",
       "                                    colsample_bylevel=None,\n",
       "                                    colsample_bynode=None,\n",
       "                                    colsample_bytree=None,\n",
       "                                    enable_categorical=False, gamma=None,\n",
       "                                    gpu_id=None, importance_type=None,\n",
       "                                    interaction_constraints=None,\n",
       "                                    learning_rate=None, max_delta_step=None,\n",
       "                                    max_depth=None, min_...\n",
       "                                    num_parallel_tree=None, predictor=None,\n",
       "                                    random_state=None, reg_alpha=None,\n",
       "                                    reg_lambda=None, scale_pos_weight=None,\n",
       "                                    subsample=None, tree_method=None,\n",
       "                                    validate_parameters=None, verbosity=None),\n",
       "             n_jobs=5,\n",
       "             param_grid={'booster': ['gbtree'], 'colsample_bylevel': [1],\n",
       "                         'learning_rate': [0.3], 'max_depth': [6],\n",
       "                         'min_child_weight': [5], 'subsample': [1]},\n",
       "             scoring='roc_auc', verbose=2)"
      ]
     },
     "execution_count": 63,
     "metadata": {},
     "output_type": "execute_result"
    }
   ],
   "source": [
    "%%time\n",
    "#xgb_model.fit(X_train_s1, y_train_s1)\n",
    "clf_xg.fit(X_train_s1, y_train_s1)"
   ]
  },
  {
   "cell_type": "code",
   "execution_count": 64,
   "id": "324cfc66-940e-4d18-8df1-814887f1b2e0",
   "metadata": {
    "tags": []
   },
   "outputs": [],
   "source": [
    "best_estimator = clf_xg.best_estimator_"
   ]
  },
  {
   "cell_type": "code",
   "execution_count": 65,
   "id": "f37ddc88-889e-4562-ad02-efd8b094bf6e",
   "metadata": {},
   "outputs": [],
   "source": [
    "best_s1_age_prediction_model = best_estimator"
   ]
  },
  {
   "cell_type": "code",
   "execution_count": 66,
   "id": "3c854ffa-c446-452f-a0be-437c2e83e792",
   "metadata": {},
   "outputs": [],
   "source": [
    "y_pred = best_estimator.predict(X_test_s1)"
   ]
  },
  {
   "cell_type": "markdown",
   "id": "6ffdb638-1ba6-40a9-a0cb-8f0547ee7a89",
   "metadata": {},
   "source": [
    "#### RMSE"
   ]
  },
  {
   "cell_type": "code",
   "execution_count": 67,
   "id": "62a84c08-b4a1-4971-9a91-3020de35e30f",
   "metadata": {},
   "outputs": [
    {
     "name": "stdout",
     "output_type": "stream",
     "text": [
      "Root mean square error for this model is: 3.56802292586731\n"
     ]
    }
   ],
   "source": [
    "rmse = mean_squared_error(y_test_s1, y_pred, squared=False)\n",
    "print (F\"Root mean square error for this model is: {rmse}\")"
   ]
  },
  {
   "cell_type": "code",
   "execution_count": null,
   "id": "e5cdb3fe-b85c-48df-81af-5ad6e5650f14",
   "metadata": {},
   "outputs": [],
   "source": []
  },
  {
   "cell_type": "markdown",
   "id": "47a9b0ae-11e3-4a83-ad13-335225853805",
   "metadata": {},
   "source": [
    "#### R-Squared"
   ]
  },
  {
   "cell_type": "code",
   "execution_count": 68,
   "id": "916d399d-c7e2-478e-bc38-b896a72e5f44",
   "metadata": {},
   "outputs": [
    {
     "name": "stdout",
     "output_type": "stream",
     "text": [
      "R-Squared for this model is: 0.8723221079947694\n"
     ]
    }
   ],
   "source": [
    "rs = best_estimator.score(X_test_s1, y_test_s1)\n",
    "print (F\"R-Squared for this model is: {rs}\")"
   ]
  },
  {
   "cell_type": "code",
   "execution_count": null,
   "id": "93415698-30e7-4c87-9d8e-09ecede9c551",
   "metadata": {},
   "outputs": [],
   "source": []
  },
  {
   "cell_type": "markdown",
   "id": "579691a8-d500-4cf6-af63-09f80d09f366",
   "metadata": {},
   "source": [
    "#### Percentage population distribution"
   ]
  },
  {
   "cell_type": "code",
   "execution_count": 69,
   "id": "cd499809-2d9c-4f88-a99b-b9d3f21c883a",
   "metadata": {},
   "outputs": [],
   "source": [
    "results = pd.concat([y_test_s1, pd.Series(y_pred)], axis=1)\n",
    "results.columns = ['actual','predicted']\n",
    "results['Error'] = ((results.actual - results.predicted)/results.actual) * 100"
   ]
  },
  {
   "cell_type": "code",
   "execution_count": 70,
   "id": "824809d6-18df-427e-8280-e3bbfbc2ec43",
   "metadata": {},
   "outputs": [
    {
     "data": {
      "image/png": "[encoded data removed]",
      "text/plain": [
       "<Figure size 432x288 with 1 Axes>"
      ]
     },
     "metadata": {},
     "output_type": "display_data"
    }
   ],
   "source": [
    "data = [results[(results.Error >= -25) & (results.Error <= 25)].Error.count(), results.Error.count()]\n",
    "labels = ['-+ 25%', 'Rest']\n",
    "\n",
    "#define Seaborn color palette to use\n",
    "colors = sns.color_palette('pastel')[0:5]\n",
    "\n",
    "plt.pie(data, labels = labels, colors = colors, autopct='%.0f%%')\n",
    "plt.show()"
   ]
  },
  {
   "cell_type": "code",
   "execution_count": null,
   "id": "a3fd3930-0d7e-4851-b12a-13d647d02032",
   "metadata": {},
   "outputs": [],
   "source": []
  },
  {
   "cell_type": "code",
   "execution_count": 71,
   "id": "c65ff56b-bf7b-4790-adc2-9e423905401b",
   "metadata": {},
   "outputs": [
    {
     "data": {
      "image/png": "[encoded data removed]",
      "text/plain": [
       "<Figure size 432x288 with 1 Axes>"
      ]
     },
     "metadata": {
      "needs_background": "light"
     },
     "output_type": "display_data"
    }
   ],
   "source": [
    "results.Error.plot()\n",
    "plt.ylabel(\"Error %\")\n",
    "plt.show()"
   ]
  },
  {
   "cell_type": "code",
   "execution_count": null,
   "id": "fcb48b3d-225c-46b1-8dbd-aab6ee0c00f1",
   "metadata": {},
   "outputs": [],
   "source": []
  },
  {
   "cell_type": "code",
   "execution_count": null,
   "id": "51e3d5b5-efe2-46e5-8481-853bbe6e8f85",
   "metadata": {},
   "outputs": [],
   "source": []
  },
  {
   "cell_type": "markdown",
   "id": "845e9dff-ba38-40e5-9787-2aeefa772104",
   "metadata": {},
   "source": [
    "## 3. Stacking Regressor"
   ]
  },
  {
   "cell_type": "code",
   "execution_count": 72,
   "id": "98e4811e-3c4d-4363-9818-0cc61c81eaa7",
   "metadata": {},
   "outputs": [],
   "source": [
    "from mlxtend.regressor import StackingRegressor\n",
    "from sklearn.ensemble import RandomForestRegressor"
   ]
  },
  {
   "cell_type": "code",
   "execution_count": 73,
   "id": "435d7015-0ac0-4696-b6f3-480c9a7da102",
   "metadata": {},
   "outputs": [],
   "source": [
    "# 1st set of models\n",
    "clf1 = LinearRegression()\n",
    "clf2 = RandomForestRegressor(random_state=1, n_estimators=10) \n",
    "\n",
    "xgb_boost = xgb.XGBRegressor()\n",
    "\n",
    "clf_stacking = StackingRegressor(regressors=[clf1, clf2], meta_regressor=xgb_boost)\n",
    "\n",
    "\n",
    "params = { 'refit':[True] }\n",
    "\n",
    "grid = GridSearchCV(estimator=clf_stacking, \n",
    "                    param_grid=params, \n",
    "                    cv=3,\n",
    "                    refit=True)"
   ]
  },
  {
   "cell_type": "code",
   "execution_count": 74,
   "id": "757955c1-590c-40e6-9b9b-192fa003ec74",
   "metadata": {},
   "outputs": [
    {
     "name": "stderr",
     "output_type": "stream",
     "text": [
      "C:\\Users\\chand\\anaconda3\\lib\\site-packages\\sklearn\\base.py:439: UserWarning: X has feature names, but LinearRegression was fitted without feature names\n",
      "  f\"X has feature names, but {self.__class__.__name__} was fitted without\"\n",
      "C:\\Users\\chand\\anaconda3\\lib\\site-packages\\sklearn\\base.py:439: UserWarning: X has feature names, but RandomForestRegressor was fitted without feature names\n",
      "  f\"X has feature names, but {self.__class__.__name__} was fitted without\"\n",
      "C:\\Users\\chand\\anaconda3\\lib\\site-packages\\sklearn\\base.py:439: UserWarning: X has feature names, but LinearRegression was fitted without feature names\n",
      "  f\"X has feature names, but {self.__class__.__name__} was fitted without\"\n",
      "C:\\Users\\chand\\anaconda3\\lib\\site-packages\\sklearn\\base.py:439: UserWarning: X has feature names, but RandomForestRegressor was fitted without feature names\n",
      "  f\"X has feature names, but {self.__class__.__name__} was fitted without\"\n",
      "C:\\Users\\chand\\anaconda3\\lib\\site-packages\\sklearn\\base.py:439: UserWarning: X has feature names, but LinearRegression was fitted without feature names\n",
      "  f\"X has feature names, but {self.__class__.__name__} was fitted without\"\n",
      "C:\\Users\\chand\\anaconda3\\lib\\site-packages\\sklearn\\base.py:439: UserWarning: X has feature names, but RandomForestRegressor was fitted without feature names\n",
      "  f\"X has feature names, but {self.__class__.__name__} was fitted without\"\n"
     ]
    },
    {
     "name": "stdout",
     "output_type": "stream",
     "text": [
      "Accuracy: 0.82\n"
     ]
    }
   ],
   "source": [
    "grid.fit(X_train_s1, y_train_s1)\n",
    "print('Accuracy: %.2f' % grid.best_score_)"
   ]
  },
  {
   "cell_type": "code",
   "execution_count": 75,
   "id": "242ea935-9688-4d3a-aef9-8ffe489cacdf",
   "metadata": {},
   "outputs": [],
   "source": [
    "best_estimator = grid.best_estimator_"
   ]
  },
  {
   "cell_type": "code",
   "execution_count": 76,
   "id": "3105b110-62b2-4785-9a31-99684564ca42",
   "metadata": {},
   "outputs": [
    {
     "name": "stderr",
     "output_type": "stream",
     "text": [
      "C:\\Users\\chand\\anaconda3\\lib\\site-packages\\sklearn\\base.py:439: UserWarning: X has feature names, but LinearRegression was fitted without feature names\n",
      "  f\"X has feature names, but {self.__class__.__name__} was fitted without\"\n",
      "C:\\Users\\chand\\anaconda3\\lib\\site-packages\\sklearn\\base.py:439: UserWarning: X has feature names, but RandomForestRegressor was fitted without feature names\n",
      "  f\"X has feature names, but {self.__class__.__name__} was fitted without\"\n"
     ]
    }
   ],
   "source": [
    "y_pred = best_estimator.predict(X_test_s1)"
   ]
  },
  {
   "cell_type": "code",
   "execution_count": null,
   "id": "c72a26ab-9b2b-471b-b34b-fdbb70ad6d1a",
   "metadata": {},
   "outputs": [],
   "source": []
  },
  {
   "cell_type": "markdown",
   "id": "cea31505-8d14-41f9-92f8-32594192adf5",
   "metadata": {},
   "source": [
    "#### RMSE"
   ]
  },
  {
   "cell_type": "code",
   "execution_count": 77,
   "id": "ede0cb0b-b537-4689-9f19-ab187d64052d",
   "metadata": {},
   "outputs": [
    {
     "name": "stdout",
     "output_type": "stream",
     "text": [
      "Root mean square error for this model is: 3.951099215545616\n"
     ]
    }
   ],
   "source": [
    "rmse = mean_squared_error(y_test_s1, y_pred, squared=False)\n",
    "print (F\"Root mean square error for this model is: {rmse}\")"
   ]
  },
  {
   "cell_type": "code",
   "execution_count": null,
   "id": "ae7413fc-42ba-4510-9cb7-e5745063383d",
   "metadata": {},
   "outputs": [],
   "source": []
  },
  {
   "cell_type": "markdown",
   "id": "4e8a5627-b6f1-4f90-9a12-5796c2954f12",
   "metadata": {},
   "source": [
    "#### R-Squared"
   ]
  },
  {
   "cell_type": "code",
   "execution_count": 78,
   "id": "04c60cda-da65-4d44-909d-ac21fbc4e8c5",
   "metadata": {},
   "outputs": [
    {
     "name": "stderr",
     "output_type": "stream",
     "text": [
      "C:\\Users\\chand\\anaconda3\\lib\\site-packages\\sklearn\\base.py:439: UserWarning: X has feature names, but LinearRegression was fitted without feature names\n",
      "  f\"X has feature names, but {self.__class__.__name__} was fitted without\"\n",
      "C:\\Users\\chand\\anaconda3\\lib\\site-packages\\sklearn\\base.py:439: UserWarning: X has feature names, but RandomForestRegressor was fitted without feature names\n",
      "  f\"X has feature names, but {self.__class__.__name__} was fitted without\"\n"
     ]
    },
    {
     "name": "stdout",
     "output_type": "stream",
     "text": [
      "R-Squared for this model is: 0.8434344161083178\n"
     ]
    }
   ],
   "source": [
    "rs = best_estimator.score(X_test_s1, y_test_s1)\n",
    "print (F\"R-Squared for this model is: {rs}\")"
   ]
  },
  {
   "cell_type": "code",
   "execution_count": null,
   "id": "bf78aae6-9407-46fa-bb60-36e5dc74ee6f",
   "metadata": {},
   "outputs": [],
   "source": []
  },
  {
   "cell_type": "code",
   "execution_count": null,
   "id": "cd9ea3ff-111e-48a7-99ea-300c3aa584bd",
   "metadata": {},
   "outputs": [],
   "source": []
  },
  {
   "cell_type": "markdown",
   "id": "62eb7b61-56ed-46b7-89c4-71c8cc2d059f",
   "metadata": {},
   "source": [
    "#### Percentage population distribution"
   ]
  },
  {
   "cell_type": "code",
   "execution_count": 79,
   "id": "6b09f994-8297-498c-a8ae-139e9e6d75a3",
   "metadata": {},
   "outputs": [],
   "source": [
    "results = pd.concat([y_test_s1, pd.Series(y_pred)], axis=1)\n",
    "results.columns = ['actual','predicted']\n",
    "results['Error'] = ((results.actual - results.predicted)/results.actual) * 100"
   ]
  },
  {
   "cell_type": "code",
   "execution_count": 80,
   "id": "adc146a4-bd63-44e3-b6da-4ed7c8a44374",
   "metadata": {},
   "outputs": [
    {
     "data": {
      "image/png": "[encoded data removed]",
      "text/plain": [
       "<Figure size 432x288 with 1 Axes>"
      ]
     },
     "metadata": {},
     "output_type": "display_data"
    }
   ],
   "source": [
    "data = [results[(results.Error >= -25) & (results.Error <= 25)].Error.count(), results.Error.count()]\n",
    "labels = ['-+ 25%', 'Rest']\n",
    "\n",
    "#define Seaborn color palette to use\n",
    "colors = sns.color_palette('pastel')[0:5]\n",
    "\n",
    "plt.pie(data, labels = labels, colors = colors, autopct='%.0f%%')\n",
    "plt.show()"
   ]
  },
  {
   "cell_type": "code",
   "execution_count": 81,
   "id": "4834b745-673a-479e-86d8-8ad282bbc147",
   "metadata": {},
   "outputs": [
    {
     "data": {
      "image/png": "[encoded data removed]",
      "text/plain": [
       "<Figure size 432x288 with 1 Axes>"
      ]
     },
     "metadata": {
      "needs_background": "light"
     },
     "output_type": "display_data"
    }
   ],
   "source": [
    "results.Error.plot()\n",
    "plt.ylabel(\"Error %\")\n",
    "plt.show()"
   ]
  },
  {
   "cell_type": "code",
   "execution_count": null,
   "id": "0ed2d6fd-8e2e-4b17-aeef-22c464e4fc13",
   "metadata": {},
   "outputs": [],
   "source": []
  },
  {
   "cell_type": "code",
   "execution_count": null,
   "id": "15dbfc33-63d3-4a5b-a20a-35ab5947e9ad",
   "metadata": {},
   "outputs": [],
   "source": []
  },
  {
   "cell_type": "markdown",
   "id": "7d57ae80-044c-46ee-a1cc-b450d786c617",
   "metadata": {},
   "source": [
    "## Now we save our best models to a pickle file"
   ]
  },
  {
   "cell_type": "code",
   "execution_count": 86,
   "id": "0edbaa72-fd30-477a-aa89-e015468fff07",
   "metadata": {},
   "outputs": [],
   "source": [
    "import pickle"
   ]
  },
  {
   "cell_type": "code",
   "execution_count": 87,
   "id": "fc1912da-df22-4a84-b1a4-1d633c50f2e5",
   "metadata": {},
   "outputs": [],
   "source": [
    "gender_modelfilename = '../6_Deployment/Application_Code/gender_prediction_model.pkl'\n",
    "age_modelfilename = '../6_Deployment/Application_Code/age_prediction_model.pkl'\n",
    "pickle.dump(best_s1_genger_prediction_model , open(gender_modelfilename, 'wb'))\n",
    "pickle.dump(best_s1_age_prediction_model, open(age_modelfilename, 'wb'))\n"
   ]
  },
  {
   "cell_type": "code",
   "execution_count": 88,
   "id": "2f4f08d9-f981-4003-b527-12a2435ae02e",
   "metadata": {},
   "outputs": [
    {
     "data": {
      "text/plain": [
       "'../6_Deployment/Application_Code/scenario1_test.csv'"
      ]
     },
     "execution_count": 88,
     "metadata": {},
     "output_type": "execute_result"
    }
   ],
   "source": [
    "# move test data file\n",
    "from shutil import copyfile\n",
    "copyfile(\"../5_Model_Building/scenario1_test.csv\", \"../6_Deployment/Application_Code/scenario1_test.csv\")"
   ]
  },
  {
   "cell_type": "markdown",
   "id": "073e6e5e-da00-4ddb-a118-ce9ca79c4094",
   "metadata": {},
   "source": [
    "------"
   ]
  }
 ],
 "metadata": {
  "kernelspec": {
   "display_name": "Python 3",
   "language": "python",
   "name": "python3"
  },
  "language_info": {
   "codemirror_mode": {
    "name": "ipython",
    "version": 3
   },
   "file_extension": ".py",
   "mimetype": "text/x-python",
   "name": "python",
   "nbconvert_exporter": "python",
   "pygments_lexer": "ipython3",
   "version": "3.7.6"
  },
  "toc-showtags": false
 },
 "nbformat": 4,
 "nbformat_minor": 5
}
