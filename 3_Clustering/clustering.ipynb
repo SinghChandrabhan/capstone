{
 "cells": [
  {
   "cell_type": "markdown",
   "id": "dff51d23-7f59-4d10-9193-0b37c68295ef",
   "metadata": {},
   "source": [
    "# Clustering"
   ]
  },
  {
   "cell_type": "code",
   "execution_count": 1,
   "id": "87d96812-9b58-4f69-939d-71d363bd8c5d",
   "metadata": {},
   "outputs": [],
   "source": [
    "# ! conda install geopy\n",
    "# ! conda install shapely\n",
    "# ! pip3 install geopy\n",
    "#! pip3 install shapely"
   ]
  },
  {
   "cell_type": "code",
   "execution_count": 2,
   "id": "4eed8af8-d740-47b4-ad39-daa42f5a433f",
   "metadata": {},
   "outputs": [],
   "source": [
    "import numpy as np\n",
    "import pandas as pd\n",
    "import os\n",
    "\n",
    "from sklearn.cluster import DBSCAN\n",
    "from geopy.distance import great_circle\n",
    "from shapely.geometry import MultiPoint"
   ]
  },
  {
   "cell_type": "code",
   "execution_count": 3,
   "id": "f8a41052-6c1f-49c1-b3bf-eecba9b6669b",
   "metadata": {},
   "outputs": [
    {
     "name": "stderr",
     "output_type": "stream",
     "text": [
      "C:\\Users\\chand\\anaconda3\\lib\\site-packages\\IPython\\core\\interactiveshell.py:3444: DtypeWarning: Columns (9,10,11,12) have mixed types.Specify dtype option on import or set low_memory=False.\n",
      "  exec(code_obj, self.user_global_ns, self.user_ns)\n"
     ]
    },
    {
     "data": {
      "text/plain": [
       "(1215598, 74645)"
      ]
     },
     "execution_count": 3,
     "metadata": {},
     "output_type": "execute_result"
    }
   ],
   "source": [
    "# data from previous notebook\n",
    "df_event = pd.read_csv('event_data.csv')\n",
    "df_non_event = pd.read_csv('non_event_data.csv')\n",
    "df_event.device_id.count(),df_non_event.device_id.count() #(1215598, 74645)"
   ]
  },
  {
   "cell_type": "code",
   "execution_count": 4,
   "id": "f19bab3f-1523-4ab6-9b54-13acb87cb5cc",
   "metadata": {},
   "outputs": [
    {
     "data": {
      "text/plain": [
       "(385966, 829632)"
      ]
     },
     "execution_count": 4,
     "metadata": {},
     "output_type": "execute_result"
    }
   ],
   "source": [
    "df_invalid_location = df_event[((df_event.latitude <= 1) | (df_event.longitude <= 1))]\n",
    "df_valid_location = df_event[~((df_event.latitude <= 1) | (df_event.longitude <= 1))]\n",
    "df_invalid_location.device_id.count(),df_valid_location.device_id.count() #(385966, 829632)"
   ]
  },
  {
   "cell_type": "code",
   "execution_count": 5,
   "id": "b5fbc325-a189-4795-9b56-75139922c977",
   "metadata": {},
   "outputs": [
    {
     "data": {
      "text/html": [
       "<div>\n",
       "<style scoped>\n",
       "    .dataframe tbody tr th:only-of-type {\n",
       "        vertical-align: middle;\n",
       "    }\n",
       "\n",
       "    .dataframe tbody tr th {\n",
       "        vertical-align: top;\n",
       "    }\n",
       "\n",
       "    .dataframe thead th {\n",
       "        text-align: right;\n",
       "    }\n",
       "</style>\n",
       "<table border=\"1\" class=\"dataframe\">\n",
       "  <thead>\n",
       "    <tr style=\"text-align: right;\">\n",
       "      <th></th>\n",
       "      <th>device_id</th>\n",
       "      <th>gender</th>\n",
       "      <th>age</th>\n",
       "      <th>group</th>\n",
       "      <th>event_id</th>\n",
       "      <th>timestamp</th>\n",
       "      <th>longitude</th>\n",
       "      <th>latitude</th>\n",
       "      <th>has_event</th>\n",
       "      <th>week_day</th>\n",
       "      <th>hour_day</th>\n",
       "      <th>week</th>\n",
       "      <th>year</th>\n",
       "      <th>group_cat</th>\n",
       "      <th>hour_day_cat</th>\n",
       "    </tr>\n",
       "  </thead>\n",
       "  <tbody>\n",
       "    <tr>\n",
       "      <th>0</th>\n",
       "      <td>-7548291590301750000</td>\n",
       "      <td>M</td>\n",
       "      <td>33</td>\n",
       "      <td>M32+</td>\n",
       "      <td>414.0</td>\n",
       "      <td>2016-05-03 00:05:31</td>\n",
       "      <td>116.79</td>\n",
       "      <td>33.98</td>\n",
       "      <td>1</td>\n",
       "      <td>Tuesday</td>\n",
       "      <td>0</td>\n",
       "      <td>18</td>\n",
       "      <td>2016</td>\n",
       "      <td>33-45</td>\n",
       "      <td>Night</td>\n",
       "    </tr>\n",
       "    <tr>\n",
       "      <th>1</th>\n",
       "      <td>-7548291590301750000</td>\n",
       "      <td>M</td>\n",
       "      <td>33</td>\n",
       "      <td>M32+</td>\n",
       "      <td>2604805.0</td>\n",
       "      <td>2016-05-04 03:01:32</td>\n",
       "      <td>116.79</td>\n",
       "      <td>33.98</td>\n",
       "      <td>1</td>\n",
       "      <td>Wednesday</td>\n",
       "      <td>3</td>\n",
       "      <td>18</td>\n",
       "      <td>2016</td>\n",
       "      <td>33-45</td>\n",
       "      <td>Night</td>\n",
       "    </tr>\n",
       "    <tr>\n",
       "      <th>2</th>\n",
       "      <td>-7548291590301750000</td>\n",
       "      <td>M</td>\n",
       "      <td>33</td>\n",
       "      <td>M32+</td>\n",
       "      <td>2588911.0</td>\n",
       "      <td>2016-05-03 16:14:14</td>\n",
       "      <td>116.79</td>\n",
       "      <td>33.98</td>\n",
       "      <td>1</td>\n",
       "      <td>Tuesday</td>\n",
       "      <td>16</td>\n",
       "      <td>18</td>\n",
       "      <td>2016</td>\n",
       "      <td>33-45</td>\n",
       "      <td>Afternoon</td>\n",
       "    </tr>\n",
       "    <tr>\n",
       "      <th>3</th>\n",
       "      <td>-7548291590301750000</td>\n",
       "      <td>M</td>\n",
       "      <td>33</td>\n",
       "      <td>M32+</td>\n",
       "      <td>2586055.0</td>\n",
       "      <td>2016-05-02 14:36:04</td>\n",
       "      <td>116.79</td>\n",
       "      <td>33.98</td>\n",
       "      <td>1</td>\n",
       "      <td>Monday</td>\n",
       "      <td>14</td>\n",
       "      <td>18</td>\n",
       "      <td>2016</td>\n",
       "      <td>33-45</td>\n",
       "      <td>Afternoon</td>\n",
       "    </tr>\n",
       "    <tr>\n",
       "      <th>4</th>\n",
       "      <td>-7548291590301750000</td>\n",
       "      <td>M</td>\n",
       "      <td>33</td>\n",
       "      <td>M32+</td>\n",
       "      <td>2560938.0</td>\n",
       "      <td>2016-05-02 18:01:00</td>\n",
       "      <td>116.79</td>\n",
       "      <td>33.98</td>\n",
       "      <td>1</td>\n",
       "      <td>Monday</td>\n",
       "      <td>18</td>\n",
       "      <td>18</td>\n",
       "      <td>2016</td>\n",
       "      <td>33-45</td>\n",
       "      <td>Afternoon</td>\n",
       "    </tr>\n",
       "  </tbody>\n",
       "</table>\n",
       "</div>"
      ],
      "text/plain": [
       "             device_id gender  age group   event_id            timestamp  \\\n",
       "0 -7548291590301750000      M   33  M32+      414.0  2016-05-03 00:05:31   \n",
       "1 -7548291590301750000      M   33  M32+  2604805.0  2016-05-04 03:01:32   \n",
       "2 -7548291590301750000      M   33  M32+  2588911.0  2016-05-03 16:14:14   \n",
       "3 -7548291590301750000      M   33  M32+  2586055.0  2016-05-02 14:36:04   \n",
       "4 -7548291590301750000      M   33  M32+  2560938.0  2016-05-02 18:01:00   \n",
       "\n",
       "   longitude  latitude  has_event   week_day  hour_day  week  year group_cat  \\\n",
       "0     116.79     33.98          1    Tuesday         0    18  2016     33-45   \n",
       "1     116.79     33.98          1  Wednesday         3    18  2016     33-45   \n",
       "2     116.79     33.98          1    Tuesday        16    18  2016     33-45   \n",
       "3     116.79     33.98          1     Monday        14    18  2016     33-45   \n",
       "4     116.79     33.98          1     Monday        18    18  2016     33-45   \n",
       "\n",
       "  hour_day_cat  \n",
       "0        Night  \n",
       "1        Night  \n",
       "2    Afternoon  \n",
       "3    Afternoon  \n",
       "4    Afternoon  "
      ]
     },
     "execution_count": 5,
     "metadata": {},
     "output_type": "execute_result"
    }
   ],
   "source": [
    "df_valid_location.head()"
   ]
  },
  {
   "cell_type": "code",
   "execution_count": 6,
   "id": "f3478bf8-833f-4eab-affb-fdeb3c23b728",
   "metadata": {},
   "outputs": [],
   "source": [
    "#Loading the Data \n",
    "coords = df_valid_location[['longitude', 'latitude']]"
   ]
  },
  {
   "cell_type": "code",
   "execution_count": 7,
   "id": "f7c9166f-93b8-4443-aa0e-e07e42a2dac8",
   "metadata": {},
   "outputs": [
    {
     "name": "stdout",
     "output_type": "stream",
     "text": [
      "Number of clusters : 3639\n",
      "Number of cluster label countsclusters : 829632\n"
     ]
    }
   ],
   "source": [
    "kms_per_radian = 6371.0088 # this is a constant\n",
    "epsilon = 1.5/kms_per_radian \n",
    "db = DBSCAN(eps= epsilon, min_samples= 10, algorithm = 'ball_tree', metric = 'haversine').fit(np.radians(coords))\n",
    "cluster_labels = db.labels_\n",
    "num_clusters = len(set(cluster_labels))\n",
    "clusters = pd.Series([coords[cluster_labels ==n] for n in range(num_clusters)])\n",
    "print('Number of clusters : {}'.format(num_clusters))\n",
    "print('Number of cluster label countsclusters : {}'.format(len(cluster_labels)))"
   ]
  },
  {
   "cell_type": "code",
   "execution_count": 8,
   "id": "bcab0546-b4ff-474a-b6c7-02db70b0c684",
   "metadata": {},
   "outputs": [],
   "source": [
    "# check records with label  = 15\n",
    "#coords[cluster_labels ==15]"
   ]
  },
  {
   "cell_type": "code",
   "execution_count": 9,
   "id": "83835b48-e0fa-49c1-a345-3c5f2a5c1292",
   "metadata": {},
   "outputs": [
    {
     "name": "stderr",
     "output_type": "stream",
     "text": [
      "C:\\Users\\chand\\anaconda3\\lib\\site-packages\\ipykernel_launcher.py:1: SettingWithCopyWarning: \n",
      "A value is trying to be set on a copy of a slice from a DataFrame.\n",
      "Try using .loc[row_indexer,col_indexer] = value instead\n",
      "\n",
      "See the caveats in the documentation: https://pandas.pydata.org/pandas-docs/stable/user_guide/indexing.html#returning-a-view-versus-a-copy\n",
      "  \"\"\"Entry point for launching an IPython kernel.\n"
     ]
    }
   ],
   "source": [
    "df_valid_location['loc_cluster'] = [i for i in cluster_labels]"
   ]
  },
  {
   "cell_type": "code",
   "execution_count": 10,
   "id": "033443a1-5a4c-42a0-84f2-f9fcb9f58267",
   "metadata": {},
   "outputs": [
    {
     "name": "stderr",
     "output_type": "stream",
     "text": [
      "C:\\Users\\chand\\anaconda3\\lib\\site-packages\\ipykernel_launcher.py:1: SettingWithCopyWarning: \n",
      "A value is trying to be set on a copy of a slice from a DataFrame.\n",
      "Try using .loc[row_indexer,col_indexer] = value instead\n",
      "\n",
      "See the caveats in the documentation: https://pandas.pydata.org/pandas-docs/stable/user_guide/indexing.html#returning-a-view-versus-a-copy\n",
      "  \"\"\"Entry point for launching an IPython kernel.\n"
     ]
    }
   ],
   "source": [
    "df_invalid_location['loc_cluster'] = 'Unknown'"
   ]
  },
  {
   "cell_type": "code",
   "execution_count": 11,
   "id": "867aa9f9-3a77-4d87-b19c-ebb9b12986c0",
   "metadata": {},
   "outputs": [],
   "source": [
    "df_event = pd.concat([df_valid_location,df_invalid_location])"
   ]
  },
  {
   "cell_type": "code",
   "execution_count": 12,
   "id": "a85b9646-c893-4888-972e-5bf976b12d92",
   "metadata": {},
   "outputs": [],
   "source": [
    "df_cat_only = df_event[['device_id','loc_cluster']]"
   ]
  },
  {
   "cell_type": "code",
   "execution_count": 13,
   "id": "96887808-336e-41af-a607-35a32cb71664",
   "metadata": {},
   "outputs": [
    {
     "data": {
      "text/html": [
       "<div>\n",
       "<style scoped>\n",
       "    .dataframe tbody tr th:only-of-type {\n",
       "        vertical-align: middle;\n",
       "    }\n",
       "\n",
       "    .dataframe tbody tr th {\n",
       "        vertical-align: top;\n",
       "    }\n",
       "\n",
       "    .dataframe thead th {\n",
       "        text-align: right;\n",
       "    }\n",
       "</style>\n",
       "<table border=\"1\" class=\"dataframe\">\n",
       "  <thead>\n",
       "    <tr style=\"text-align: right;\">\n",
       "      <th></th>\n",
       "      <th>device_id</th>\n",
       "      <th>gender</th>\n",
       "      <th>age</th>\n",
       "      <th>group</th>\n",
       "      <th>phone_brand</th>\n",
       "      <th>device_model</th>\n",
       "      <th>group_cat</th>\n",
       "      <th>avg_events</th>\n",
       "      <th>most_active_hour</th>\n",
       "      <th>loc_chng_morning</th>\n",
       "      <th>loc_chng_afternoon</th>\n",
       "      <th>loc_chng_evening</th>\n",
       "      <th>loc_chng_night</th>\n",
       "      <th>loc_cluster</th>\n",
       "    </tr>\n",
       "  </thead>\n",
       "  <tbody>\n",
       "    <tr>\n",
       "      <th>1266928</th>\n",
       "      <td>-8270585312108800000</td>\n",
       "      <td>F</td>\n",
       "      <td>32</td>\n",
       "      <td>F25-32</td>\n",
       "      <td>OPPO</td>\n",
       "      <td>U707T</td>\n",
       "      <td>25-32</td>\n",
       "      <td>NaN</td>\n",
       "      <td>NaN</td>\n",
       "      <td>NaN</td>\n",
       "      <td>NaN</td>\n",
       "      <td>NaN</td>\n",
       "      <td>NaN</td>\n",
       "      <td>NaN</td>\n",
       "    </tr>\n",
       "    <tr>\n",
       "      <th>1266929</th>\n",
       "      <td>9140950698473710000</td>\n",
       "      <td>M</td>\n",
       "      <td>41</td>\n",
       "      <td>M32+</td>\n",
       "      <td>Huawei</td>\n",
       "      <td>Mate 8</td>\n",
       "      <td>33-45</td>\n",
       "      <td>NaN</td>\n",
       "      <td>NaN</td>\n",
       "      <td>NaN</td>\n",
       "      <td>NaN</td>\n",
       "      <td>NaN</td>\n",
       "      <td>NaN</td>\n",
       "      <td>NaN</td>\n",
       "    </tr>\n",
       "    <tr>\n",
       "      <th>1266930</th>\n",
       "      <td>-5051737733034250000</td>\n",
       "      <td>M</td>\n",
       "      <td>25</td>\n",
       "      <td>M25-32</td>\n",
       "      <td>Xiaomi</td>\n",
       "      <td>x1</td>\n",
       "      <td>25-32</td>\n",
       "      <td>NaN</td>\n",
       "      <td>NaN</td>\n",
       "      <td>NaN</td>\n",
       "      <td>NaN</td>\n",
       "      <td>NaN</td>\n",
       "      <td>NaN</td>\n",
       "      <td>NaN</td>\n",
       "    </tr>\n",
       "    <tr>\n",
       "      <th>1266931</th>\n",
       "      <td>-6901678500015010000</td>\n",
       "      <td>F</td>\n",
       "      <td>20</td>\n",
       "      <td>F0-24</td>\n",
       "      <td>vivo</td>\n",
       "      <td>X3L</td>\n",
       "      <td>0-24</td>\n",
       "      <td>NaN</td>\n",
       "      <td>NaN</td>\n",
       "      <td>NaN</td>\n",
       "      <td>NaN</td>\n",
       "      <td>NaN</td>\n",
       "      <td>NaN</td>\n",
       "      <td>NaN</td>\n",
       "    </tr>\n",
       "    <tr>\n",
       "      <th>1266932</th>\n",
       "      <td>6076451050607320000</td>\n",
       "      <td>M</td>\n",
       "      <td>21</td>\n",
       "      <td>M0-24</td>\n",
       "      <td>Xiaomi</td>\n",
       "      <td>MI 3</td>\n",
       "      <td>0-24</td>\n",
       "      <td>NaN</td>\n",
       "      <td>NaN</td>\n",
       "      <td>NaN</td>\n",
       "      <td>NaN</td>\n",
       "      <td>NaN</td>\n",
       "      <td>NaN</td>\n",
       "      <td>NaN</td>\n",
       "    </tr>\n",
       "  </tbody>\n",
       "</table>\n",
       "</div>"
      ],
      "text/plain": [
       "                   device_id gender  age   group phone_brand device_model  \\\n",
       "1266928 -8270585312108800000      F   32  F25-32        OPPO        U707T   \n",
       "1266929  9140950698473710000      M   41    M32+      Huawei       Mate 8   \n",
       "1266930 -5051737733034250000      M   25  M25-32      Xiaomi           x1   \n",
       "1266931 -6901678500015010000      F   20   F0-24        vivo          X3L   \n",
       "1266932  6076451050607320000      M   21   M0-24      Xiaomi         MI 3   \n",
       "\n",
       "        group_cat  avg_events  most_active_hour loc_chng_morning  \\\n",
       "1266928     25-32         NaN               NaN              NaN   \n",
       "1266929     33-45         NaN               NaN              NaN   \n",
       "1266930     25-32         NaN               NaN              NaN   \n",
       "1266931      0-24         NaN               NaN              NaN   \n",
       "1266932      0-24         NaN               NaN              NaN   \n",
       "\n",
       "        loc_chng_afternoon loc_chng_evening loc_chng_night loc_cluster  \n",
       "1266928                NaN              NaN            NaN         NaN  \n",
       "1266929                NaN              NaN            NaN         NaN  \n",
       "1266930                NaN              NaN            NaN         NaN  \n",
       "1266931                NaN              NaN            NaN         NaN  \n",
       "1266932                NaN              NaN            NaN         NaN  "
      ]
     },
     "execution_count": 13,
     "metadata": {},
     "output_type": "execute_result"
    }
   ],
   "source": [
    "# merge the data with non_event_dataset\n",
    "df_non_event=df_non_event.merge(df_cat_only, how='left', on='device_id')\n",
    "df_non_event.tail()"
   ]
  },
  {
   "cell_type": "code",
   "execution_count": null,
   "id": "27a71db7-9337-40e5-b2a6-01b3e692b83e",
   "metadata": {},
   "outputs": [],
   "source": []
  },
  {
   "cell_type": "markdown",
   "id": "5b4403ea-49eb-470f-9cfc-d698d18a46a3",
   "metadata": {},
   "source": [
    "Observation: Based on DBSCAN clustering, We have found that there are total of 7231, clusters based on longitude, latitude. We also created a special cluster for missing lat/long data."
   ]
  },
  {
   "cell_type": "code",
   "execution_count": 14,
   "id": "8fdd3aa2-449e-4534-9e4c-74fcdc90246a",
   "metadata": {},
   "outputs": [],
   "source": [
    "#save the dataset for next notebook\n",
    "df_event.to_csv('../4_Data_Prepration/event_data.csv',index=False)\n",
    "df_non_event.to_csv('../4_Data_Prepration/non_event_data.csv',index=False)"
   ]
  },
  {
   "cell_type": "code",
   "execution_count": 15,
   "id": "a87578bd-a237-4c35-8612-ff9d66f36ec8",
   "metadata": {},
   "outputs": [],
   "source": [
    "#delete the dataframes\n",
    "del df_event\n",
    "del df_non_event"
   ]
  },
  {
   "cell_type": "markdown",
   "id": "a6ce453f-4193-4446-8b57-4cae6be1e7e7",
   "metadata": {},
   "source": [
    "----"
   ]
  },
  {
   "cell_type": "markdown",
   "id": "07968549-8e88-410e-a00a-11fb20e8dfe4",
   "metadata": {},
   "source": [
    "End of this notebook"
   ]
  }
 ],
 "metadata": {
  "kernelspec": {
   "display_name": "Python 3",
   "language": "python",
   "name": "python3"
  },
  "language_info": {
   "codemirror_mode": {
    "name": "ipython",
    "version": 3
   },
   "file_extension": ".py",
   "mimetype": "text/x-python",
   "name": "python",
   "nbconvert_exporter": "python",
   "pygments_lexer": "ipython3",
   "version": "3.7.6"
  }
 },
 "nbformat": 4,
 "nbformat_minor": 5
}
